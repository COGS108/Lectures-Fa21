{
 "cells": [
  {
   "cell_type": "markdown",
   "metadata": {
    "slideshow": {
     "slide_type": "slide"
    }
   },
   "source": [
    "## Inference II: Building on Regression\n",
    "- Association between variables: **correlation** (& causation)\n",
    "- Visualizing multple linear regression\n",
    "- Comparison of means: **t-test**"
   ]
  },
  {
   "cell_type": "code",
   "execution_count": null,
   "metadata": {
    "slideshow": {
     "slide_type": "skip"
    }
   },
   "outputs": [],
   "source": [
    "import pandas as pd\n",
    "import numpy as np\n",
    "\n",
    "# Import seaborn and apply its plotting styles\n",
    "import seaborn as sns\n",
    "sns.set(style=\"white\", font_scale=2)\n",
    "\n",
    "# import matplotlib\n",
    "import matplotlib as mpl\n",
    "import matplotlib.pyplot as plt\n",
    "# set plotting size parameter\n",
    "plt.rcParams['figure.figsize'] = (17, 7)\n",
    "\n",
    "# Statmodels & patsy\n",
    "import patsy\n",
    "import statsmodels.api as sm\n",
    "from scipy.stats import pearsonr, norm, ttest_ind\n",
    "\n",
    "import warnings\n",
    "warnings.filterwarnings('ignore')\n",
    "\n",
    "#improve resolution\n",
    "%config InlineBackend.figure_format ='retina'"
   ]
  },
  {
   "cell_type": "markdown",
   "metadata": {
    "slideshow": {
     "slide_type": "slide"
    }
   },
   "source": [
    "## Correlation: Pearson correlation ($r$)\n",
    "\n",
    "- measures the strength of association between two variables \n",
    "- takes values [-1,1]"
   ]
  },
  {
   "cell_type": "markdown",
   "metadata": {
    "slideshow": {
     "slide_type": "slide"
    }
   },
   "source": [
    "# Positive Correlation \n",
    "- $r$ > 0\n",
    "- as $r$ approaches 1, x and y are highly correlated "
   ]
  },
  {
   "cell_type": "code",
   "execution_count": null,
   "metadata": {
    "scrolled": true,
    "slideshow": {
     "slide_type": "fragment"
    }
   },
   "outputs": [],
   "source": [
    "np.random.seed(1)\n",
    "\n",
    "# 1000 random integers between 0 and 50\n",
    "x = np.random.randint(0, 50, 1000)\n",
    "  \n",
    "# Positive Correlation with some noise\n",
    "y = x + np.random.normal(0, 10, 1000)\n",
    "\n",
    "np.corrcoef(x, y)"
   ]
  },
  {
   "cell_type": "code",
   "execution_count": null,
   "metadata": {
    "slideshow": {
     "slide_type": "fragment"
    }
   },
   "outputs": [],
   "source": [
    "sns.scatterplot(x, y, s=50);"
   ]
  },
  {
   "cell_type": "markdown",
   "metadata": {
    "slideshow": {
     "slide_type": "slide"
    }
   },
   "source": [
    "# Negative Correlation \n",
    "- $r$ < 0\n",
    "- as $r$ approaches -1, x and y are highly negatively correlated "
   ]
  },
  {
   "cell_type": "code",
   "execution_count": null,
   "metadata": {
    "slideshow": {
     "slide_type": "fragment"
    }
   },
   "outputs": [],
   "source": [
    "x = np.random.randint(0, 50, 1000)\n",
    "\n",
    "# Negative Correlation with some noise\n",
    "y = 100 - x + np.random.normal(0, 5, 1000)\n",
    "\n",
    "np.corrcoef(x, y)"
   ]
  },
  {
   "cell_type": "code",
   "execution_count": null,
   "metadata": {
    "scrolled": false,
    "slideshow": {
     "slide_type": "fragment"
    }
   },
   "outputs": [],
   "source": [
    "sns.scatterplot(x, y, s=50);"
   ]
  },
  {
   "cell_type": "markdown",
   "metadata": {
    "slideshow": {
     "slide_type": "slide"
    }
   },
   "source": [
    "# No Correlation \n",
    "- $r \\approx 0$\n",
    "- as $r$ approaches 0, x and y are not correlated "
   ]
  },
  {
   "cell_type": "code",
   "execution_count": null,
   "metadata": {
    "slideshow": {
     "slide_type": "fragment"
    }
   },
   "outputs": [],
   "source": [
    "x = np.random.randint(0, 50, 1000)\n",
    "y = np.random.randint(0, 50, 1000)\n",
    "\n",
    "np.corrcoef(x, y)"
   ]
  },
  {
   "cell_type": "code",
   "execution_count": null,
   "metadata": {
    "scrolled": false,
    "slideshow": {
     "slide_type": "fragment"
    }
   },
   "outputs": [],
   "source": [
    "sns.scatterplot(x, y, s=50);"
   ]
  },
  {
   "cell_type": "markdown",
   "metadata": {
    "slideshow": {
     "slide_type": "slide"
    }
   },
   "source": [
    "### Clicker Question #1\n",
    "\n",
    "What would you expect Pearson correlation for the following relationship to be?"
   ]
  },
  {
   "cell_type": "code",
   "execution_count": null,
   "metadata": {
    "slideshow": {
     "slide_type": "-"
    }
   },
   "outputs": [],
   "source": [
    "np.random.seed(888)\n",
    "\n",
    "# 1000 random integers between 0 and 50\n",
    "x = np.random.randint(0, 50, 200)\n",
    "  \n",
    "# Positive Correlation with some noise\n",
    "y = x + np.random.normal(0, 10, 200)"
   ]
  },
  {
   "cell_type": "code",
   "execution_count": null,
   "metadata": {
    "scrolled": true,
    "slideshow": {
     "slide_type": "fragment"
    }
   },
   "outputs": [],
   "source": [
    "sns.scatterplot(x, y, s=50);"
   ]
  },
  {
   "cell_type": "markdown",
   "metadata": {
    "slideshow": {
     "slide_type": "fragment"
    }
   },
   "source": [
    "- A) -0.8\n",
    "- B) -0.4\n",
    "- C) 0\n",
    "- D) 0.4\n",
    "- E) 0.8"
   ]
  },
  {
   "cell_type": "code",
   "execution_count": null,
   "metadata": {
    "slideshow": {
     "slide_type": "fragment"
    }
   },
   "outputs": [],
   "source": [
    "np.corrcoef(x, y)"
   ]
  },
  {
   "cell_type": "markdown",
   "metadata": {
    "slideshow": {
     "slide_type": "slide"
    }
   },
   "source": [
    "# Regression Reminder"
   ]
  },
  {
   "cell_type": "markdown",
   "metadata": {
    "slideshow": {
     "slide_type": "fragment"
    }
   },
   "source": [
    "$$outcome = \\beta_0 + \\beta_1*predictor$$"
   ]
  },
  {
   "cell_type": "markdown",
   "metadata": {
    "slideshow": {
     "slide_type": "fragment"
    }
   },
   "source": [
    "$\\beta_1 \\approx r $ if ...\n",
    "\n",
    "- $predictor$ and $outcome$ each have a standard deviation of 1."
   ]
  },
  {
   "cell_type": "code",
   "execution_count": null,
   "metadata": {
    "slideshow": {
     "slide_type": "fragment"
    }
   },
   "outputs": [],
   "source": [
    "# inputs are mean, sd, and number of observations\n",
    "x = np.random.normal(0, 1, 100)\n",
    "y = np.random.normal(0, 1, 100)"
   ]
  },
  {
   "cell_type": "code",
   "execution_count": null,
   "metadata": {
    "slideshow": {
     "slide_type": "fragment"
    }
   },
   "outputs": [],
   "source": [
    "# look at the data\n",
    "sns.scatterplot(x, y, s=50);"
   ]
  },
  {
   "cell_type": "code",
   "execution_count": null,
   "metadata": {
    "scrolled": true,
    "slideshow": {
     "slide_type": "fragment"
    }
   },
   "outputs": [],
   "source": [
    "# regression as we've done previously\n",
    "outcome, predictors = patsy.dmatrices('y ~ x')\n",
    "mod = sm.OLS(outcome, predictors)\n",
    "res = mod.fit() \n",
    "print(res.summary())"
   ]
  },
  {
   "cell_type": "code",
   "execution_count": null,
   "metadata": {
    "scrolled": false,
    "slideshow": {
     "slide_type": "fragment"
    }
   },
   "outputs": [],
   "source": [
    "## plot model for data\n",
    "sns.scatterplot(x, y, s=50);\n",
    "\n",
    "# Generate and plot the model fit line\n",
    "xs = np.arange(x.min(), x.max())\n",
    "ys = res.params[1] * xs + res.params[0]\n",
    "plt.plot(xs, ys, '--k', linewidth=4, label='Model');"
   ]
  },
  {
   "cell_type": "code",
   "execution_count": null,
   "metadata": {
    "scrolled": false,
    "slideshow": {
     "slide_type": "fragment"
    }
   },
   "outputs": [],
   "source": [
    "print('model beta: ' , res.params[1])\n",
    "print('corr: ', pearsonr(x,y)[0])"
   ]
  },
  {
   "cell_type": "markdown",
   "metadata": {
    "slideshow": {
     "slide_type": "slide"
    }
   },
   "source": [
    "## The Data\n",
    "\n",
    "Returning to the regression question we looked at last class:"
   ]
  },
  {
   "cell_type": "code",
   "execution_count": 28,
   "metadata": {
    "scrolled": false,
    "slideshow": {
     "slide_type": "fragment"
    }
   },
   "outputs": [
    {
     "data": {
      "text/html": [
       "<div>\n",
       "<style scoped>\n",
       "    .dataframe tbody tr th:only-of-type {\n",
       "        vertical-align: middle;\n",
       "    }\n",
       "\n",
       "    .dataframe tbody tr th {\n",
       "        vertical-align: top;\n",
       "    }\n",
       "\n",
       "    .dataframe thead th {\n",
       "        text-align: right;\n",
       "    }\n",
       "</style>\n",
       "<table border=\"1\" class=\"dataframe\">\n",
       "  <thead>\n",
       "    <tr style=\"text-align: right;\">\n",
       "      <th></th>\n",
       "      <th>Location</th>\n",
       "      <th>PovPct</th>\n",
       "      <th>Brth15to17</th>\n",
       "      <th>Brth18to19</th>\n",
       "      <th>ViolCrime</th>\n",
       "      <th>TeenBrth</th>\n",
       "    </tr>\n",
       "  </thead>\n",
       "  <tbody>\n",
       "    <tr>\n",
       "      <th>0</th>\n",
       "      <td>Alabama</td>\n",
       "      <td>20.1</td>\n",
       "      <td>31.5</td>\n",
       "      <td>88.7</td>\n",
       "      <td>11.2</td>\n",
       "      <td>54.5</td>\n",
       "    </tr>\n",
       "    <tr>\n",
       "      <th>1</th>\n",
       "      <td>Alaska</td>\n",
       "      <td>7.1</td>\n",
       "      <td>18.9</td>\n",
       "      <td>73.7</td>\n",
       "      <td>9.1</td>\n",
       "      <td>39.5</td>\n",
       "    </tr>\n",
       "    <tr>\n",
       "      <th>2</th>\n",
       "      <td>Arizona</td>\n",
       "      <td>16.1</td>\n",
       "      <td>35.0</td>\n",
       "      <td>102.5</td>\n",
       "      <td>10.4</td>\n",
       "      <td>61.2</td>\n",
       "    </tr>\n",
       "    <tr>\n",
       "      <th>3</th>\n",
       "      <td>Arkansas</td>\n",
       "      <td>14.9</td>\n",
       "      <td>31.6</td>\n",
       "      <td>101.7</td>\n",
       "      <td>10.4</td>\n",
       "      <td>59.9</td>\n",
       "    </tr>\n",
       "    <tr>\n",
       "      <th>4</th>\n",
       "      <td>California</td>\n",
       "      <td>16.7</td>\n",
       "      <td>22.6</td>\n",
       "      <td>69.1</td>\n",
       "      <td>11.2</td>\n",
       "      <td>41.1</td>\n",
       "    </tr>\n",
       "  </tbody>\n",
       "</table>\n",
       "</div>"
      ],
      "text/plain": [
       "     Location  PovPct  Brth15to17  Brth18to19  ViolCrime  TeenBrth\n",
       "0     Alabama    20.1        31.5        88.7       11.2      54.5\n",
       "1      Alaska     7.1        18.9        73.7        9.1      39.5\n",
       "2     Arizona    16.1        35.0       102.5       10.4      61.2\n",
       "3    Arkansas    14.9        31.6       101.7       10.4      59.9\n",
       "4  California    16.7        22.6        69.1       11.2      41.1"
      ]
     },
     "execution_count": 28,
     "metadata": {},
     "output_type": "execute_result"
    }
   ],
   "source": [
    "# read in file; specify that it is tab-separated file\n",
    "df = pd.read_csv('https://raw.githubusercontent.com/shanellis/datasets/master/index.txt', sep=\"\\t\")\n",
    "df = df[df['ViolCrime'] < 50]\n",
    "df.head()"
   ]
  },
  {
   "cell_type": "markdown",
   "metadata": {
    "slideshow": {
     "slide_type": "fragment"
    }
   },
   "source": [
    "### Clicker Question #2\n",
    "\n",
    "What is most correlated with Viol Crime?\n",
    "\n",
    "- A) PovPct\n",
    "- B) Brth15to17\n",
    "- C) Brth18to19\n",
    "- D) TeenBrth"
   ]
  },
  {
   "cell_type": "code",
   "execution_count": 32,
   "metadata": {
    "scrolled": true,
    "slideshow": {
     "slide_type": "fragment"
    }
   },
   "outputs": [
    {
     "data": {
      "text/html": [
       "<div>\n",
       "<style scoped>\n",
       "    .dataframe tbody tr th:only-of-type {\n",
       "        vertical-align: middle;\n",
       "    }\n",
       "\n",
       "    .dataframe tbody tr th {\n",
       "        vertical-align: top;\n",
       "    }\n",
       "\n",
       "    .dataframe thead th {\n",
       "        text-align: right;\n",
       "    }\n",
       "</style>\n",
       "<table border=\"1\" class=\"dataframe\">\n",
       "  <thead>\n",
       "    <tr style=\"text-align: right;\">\n",
       "      <th></th>\n",
       "      <th>PovPct</th>\n",
       "      <th>Brth15to17</th>\n",
       "      <th>Brth18to19</th>\n",
       "      <th>ViolCrime</th>\n",
       "      <th>TeenBrth</th>\n",
       "    </tr>\n",
       "  </thead>\n",
       "  <tbody>\n",
       "    <tr>\n",
       "      <th>PovPct</th>\n",
       "      <td>1.000000</td>\n",
       "      <td>0.698813</td>\n",
       "      <td>0.626986</td>\n",
       "      <td>0.515648</td>\n",
       "      <td>0.673180</td>\n",
       "    </tr>\n",
       "    <tr>\n",
       "      <th>Brth15to17</th>\n",
       "      <td>0.698813</td>\n",
       "      <td>1.000000</td>\n",
       "      <td>0.955235</td>\n",
       "      <td>0.743993</td>\n",
       "      <td>0.980834</td>\n",
       "    </tr>\n",
       "    <tr>\n",
       "      <th>Brth18to19</th>\n",
       "      <td>0.626986</td>\n",
       "      <td>0.955235</td>\n",
       "      <td>1.000000</td>\n",
       "      <td>0.700290</td>\n",
       "      <td>0.992755</td>\n",
       "    </tr>\n",
       "    <tr>\n",
       "      <th>ViolCrime</th>\n",
       "      <td>0.515648</td>\n",
       "      <td>0.743993</td>\n",
       "      <td>0.700290</td>\n",
       "      <td>1.000000</td>\n",
       "      <td>0.714076</td>\n",
       "    </tr>\n",
       "    <tr>\n",
       "      <th>TeenBrth</th>\n",
       "      <td>0.673180</td>\n",
       "      <td>0.980834</td>\n",
       "      <td>0.992755</td>\n",
       "      <td>0.714076</td>\n",
       "      <td>1.000000</td>\n",
       "    </tr>\n",
       "  </tbody>\n",
       "</table>\n",
       "</div>"
      ],
      "text/plain": [
       "              PovPct  Brth15to17  Brth18to19  ViolCrime  TeenBrth\n",
       "PovPct      1.000000    0.698813    0.626986   0.515648  0.673180\n",
       "Brth15to17  0.698813    1.000000    0.955235   0.743993  0.980834\n",
       "Brth18to19  0.626986    0.955235    1.000000   0.700290  0.992755\n",
       "ViolCrime   0.515648    0.743993    0.700290   1.000000  0.714076\n",
       "TeenBrth    0.673180    0.980834    0.992755   0.714076  1.000000"
      ]
     },
     "execution_count": 32,
     "metadata": {},
     "output_type": "execute_result"
    }
   ],
   "source": [
    "df.corr()"
   ]
  },
  {
   "cell_type": "markdown",
   "metadata": {
    "slideshow": {
     "slide_type": "notes"
    }
   },
   "source": [
    "Note that each variable is perfectly correlated with itself (b/c you're comparing the exact same values!)\n",
    "\n",
    "`TeenBrth` is highly correlated with `Brth15to17` and `Brth18to19`....which makes sense as the latter are subsets of the former. \n",
    "\n",
    "Last lecture we saw that `PovPct` plays a role in `TeenBrth`, so it makes sense that these values are somewhat correlated."
   ]
  },
  {
   "cell_type": "code",
   "execution_count": 35,
   "metadata": {
    "scrolled": false,
    "slideshow": {
     "slide_type": "fragment"
    }
   },
   "outputs": [
    {
     "name": "stdout",
     "output_type": "stream",
     "text": [
      "                            OLS Regression Results                            \n",
      "==============================================================================\n",
      "Dep. Variable:               TeenBrth   R-squared:                       0.510\n",
      "Model:                            OLS   Adj. R-squared:                  0.500\n",
      "Method:                 Least Squares   F-statistic:                     49.94\n",
      "Date:                Wed, 03 Nov 2021   Prob (F-statistic):           5.81e-09\n",
      "Time:                        10:12:50   Log-Likelihood:                -176.12\n",
      "No. Observations:                  50   AIC:                             356.2\n",
      "Df Residuals:                      48   BIC:                             360.1\n",
      "Df Model:                           1                                         \n",
      "Covariance Type:            nonrobust                                         \n",
      "==============================================================================\n",
      "                 coef    std err          t      P>|t|      [0.025      0.975]\n",
      "------------------------------------------------------------------------------\n",
      "Intercept     26.0510      2.511     10.374      0.000      21.002      31.100\n",
      "ViolCrime      2.3324      0.330      7.067      0.000       1.669       2.996\n",
      "==============================================================================\n",
      "Omnibus:                        1.261   Durbin-Watson:                   2.113\n",
      "Prob(Omnibus):                  0.532   Jarque-Bera (JB):                1.072\n",
      "Skew:                          -0.144   Prob(JB):                        0.585\n",
      "Kurtosis:                       2.343   Cond. No.                         16.4\n",
      "==============================================================================\n",
      "\n",
      "Notes:\n",
      "[1] Standard Errors assume that the covariance matrix of the errors is correctly specified.\n"
     ]
    }
   ],
   "source": [
    "# run model\n",
    "outcome, predictors = patsy.dmatrices('TeenBrth ~ ViolCrime', df)\n",
    "mod = sm.OLS(outcome, predictors)\n",
    "res = mod.fit()\n",
    "print(res.summary())"
   ]
  },
  {
   "cell_type": "code",
   "execution_count": 36,
   "metadata": {
    "scrolled": false,
    "slideshow": {
     "slide_type": "fragment"
    }
   },
   "outputs": [
    {
     "name": "stdout",
     "output_type": "stream",
     "text": [
      "                            OLS Regression Results                            \n",
      "==============================================================================\n",
      "Dep. Variable:               TeenBrth   R-squared:                       0.453\n",
      "Model:                            OLS   Adj. R-squared:                  0.442\n",
      "Method:                 Least Squares   F-statistic:                     39.78\n",
      "Date:                Wed, 03 Nov 2021   Prob (F-statistic):           8.50e-08\n",
      "Time:                        10:13:15   Log-Likelihood:                -178.86\n",
      "No. Observations:                  50   AIC:                             361.7\n",
      "Df Residuals:                      48   BIC:                             365.5\n",
      "Df Model:                           1                                         \n",
      "Covariance Type:            nonrobust                                         \n",
      "==============================================================================\n",
      "                 coef    std err          t      P>|t|      [0.025      0.975]\n",
      "------------------------------------------------------------------------------\n",
      "Intercept     16.7423      4.151      4.034      0.000       8.397      25.088\n",
      "PovPct         1.9292      0.306      6.307      0.000       1.314       2.544\n",
      "==============================================================================\n",
      "Omnibus:                        2.039   Durbin-Watson:                   2.264\n",
      "Prob(Omnibus):                  0.361   Jarque-Bera (JB):                1.309\n",
      "Skew:                           0.081   Prob(JB):                        0.520\n",
      "Kurtosis:                       2.224   Cond. No.                         45.3\n",
      "==============================================================================\n",
      "\n",
      "Notes:\n",
      "[1] Standard Errors assume that the covariance matrix of the errors is correctly specified.\n"
     ]
    }
   ],
   "source": [
    "# run model\n",
    "outcome, predictors = patsy.dmatrices('TeenBrth ~ PovPct', df)\n",
    "mod = sm.OLS(outcome, predictors)\n",
    "res = mod.fit()\n",
    "print(res.summary())"
   ]
  },
  {
   "cell_type": "code",
   "execution_count": 41,
   "metadata": {
    "scrolled": false,
    "slideshow": {
     "slide_type": "fragment"
    }
   },
   "outputs": [
    {
     "name": "stdout",
     "output_type": "stream",
     "text": [
      "                            OLS Regression Results                            \n",
      "==============================================================================\n",
      "Dep. Variable:               TeenBrth   R-squared:                       0.644\n",
      "Model:                            OLS   Adj. R-squared:                  0.621\n",
      "Method:                 Least Squares   F-statistic:                     27.72\n",
      "Date:                Wed, 03 Nov 2021   Prob (F-statistic):           2.18e-10\n",
      "Time:                        10:24:50   Log-Likelihood:                -168.14\n",
      "No. Observations:                  50   AIC:                             344.3\n",
      "Df Residuals:                      46   BIC:                             351.9\n",
      "Df Model:                           3                                         \n",
      "Covariance Type:            nonrobust                                         \n",
      "====================================================================================\n",
      "                       coef    std err          t      P>|t|      [0.025      0.975]\n",
      "------------------------------------------------------------------------------------\n",
      "Intercept            7.9493      8.380      0.949      0.348      -8.919      24.818\n",
      "ViolCrime            2.6036      1.059      2.460      0.018       0.473       4.734\n",
      "PovPct               1.7805      0.677      2.629      0.012       0.417       3.144\n",
      "ViolCrime:PovPct    -0.0716      0.074     -0.967      0.339      -0.221       0.077\n",
      "==============================================================================\n",
      "Omnibus:                        1.431   Durbin-Watson:                   2.113\n",
      "Prob(Omnibus):                  0.489   Jarque-Bera (JB):                0.956\n",
      "Skew:                          -0.336   Prob(JB):                        0.620\n",
      "Kurtosis:                       3.079   Cond. No.                         988.\n",
      "==============================================================================\n",
      "\n",
      "Notes:\n",
      "[1] Standard Errors assume that the covariance matrix of the errors is correctly specified.\n"
     ]
    }
   ],
   "source": [
    "# run model\n",
    "outcome, predictors = patsy.dmatrices('TeenBrth ~ ViolCrime + PovPct +ViolCrime*PovPct', df)\n",
    "mod = sm.OLS(outcome, predictors)\n",
    "res = mod.fit()\n",
    "print(res.summary())"
   ]
  },
  {
   "cell_type": "markdown",
   "metadata": {
    "slideshow": {
     "slide_type": "slide"
    }
   },
   "source": [
    "#### linear regression\n",
    "$\\beta_1 = 1.93$  \n",
    "\n",
    "#### correlation\n",
    "$r = 0.67$  \n",
    "$R^2 =  0.45$"
   ]
  },
  {
   "cell_type": "markdown",
   "metadata": {
    "slideshow": {
     "slide_type": "slide"
    }
   },
   "source": [
    "$R-squared$ ($R^2$) is equal to Pearson's correlation ($r$) squared.\n",
    "\n",
    "**$R-squared$** is the percentage of the the $outcome$ variable variation that is explained by a linear model. It takes a value between 0 and 100%.\n",
    "\n",
    "Here, 45.3% of the variation in Teen Birth ($outcome$) is explained by Poverty Percentage ($predictor$)"
   ]
  },
  {
   "cell_type": "code",
   "execution_count": 42,
   "metadata": {
    "scrolled": true,
    "slideshow": {
     "slide_type": "fragment"
    }
   },
   "outputs": [
    {
     "data": {
      "image/png": "[encoded data removed]",
      "text/plain": [
       "<Figure size 1224x504 with 1 Axes>"
      ]
     },
     "metadata": {
      "image/png": {
       "height": 451,
       "width": 1023
      }
     },
     "output_type": "display_data"
    }
   ],
   "source": [
    "## Plot the model fit line\n",
    "\n",
    "# Plot the orginal data (as before)\n",
    "sns.scatterplot(x='PovPct', y='TeenBrth', data=df, alpha=0.3, s=100);\n",
    "\n",
    "# Generate and plot the model fit line\n",
    "xs = np.arange(df['PovPct'].min(), df['PovPct'].max())\n",
    "ys = 1.9292 * xs + 16.7423\n",
    "plt.plot(xs, ys, '--k', linewidth=4, label='Model')\n",
    "\n",
    "plt.xlabel('Poverty Percentage')\n",
    "plt.ylabel('Teen Birth Rate')\n",
    "plt.legend();"
   ]
  },
  {
   "cell_type": "markdown",
   "metadata": {
    "slideshow": {
     "slide_type": "slide"
    }
   },
   "source": [
    "## Returning to multiple linear regression\n",
    "\n",
    "- Visualizing the relationship\n",
    "- Correlation coefficients\n"
   ]
  },
  {
   "cell_type": "code",
   "execution_count": 43,
   "metadata": {
    "scrolled": false
   },
   "outputs": [
    {
     "data": {
      "image/png": "[encoded data removed]",
      "text/plain": [
       "<Figure size 1224x504 with 1 Axes>"
      ]
     },
     "metadata": {
      "image/png": {
       "height": 450,
       "width": 1011
      }
     },
     "output_type": "display_data"
    }
   ],
   "source": [
    "sns.histplot(df['ViolCrime'], bins=10)\n",
    "plt.xlabel('Violent Crime');"
   ]
  },
  {
   "cell_type": "code",
   "execution_count": 44,
   "metadata": {},
   "outputs": [
    {
     "data": {
      "text/plain": [
       "count    50.000000\n",
       "mean      6.712000\n",
       "std       3.620274\n",
       "min       0.900000\n",
       "25%       3.900000\n",
       "50%       6.250000\n",
       "75%       9.325000\n",
       "max      17.000000\n",
       "Name: ViolCrime, dtype: float64"
      ]
     },
     "execution_count": 44,
     "metadata": {},
     "output_type": "execute_result"
    }
   ],
   "source": [
    "df['ViolCrime'].describe()"
   ]
  },
  {
   "cell_type": "markdown",
   "metadata": {
    "slideshow": {
     "slide_type": "fragment"
    }
   },
   "source": [
    "~Chat with your neighbor.~\n",
    "\n",
    "What is your interpretation of these data?\n",
    "\n",
    "Should this variable be used as is in our regression model? \n",
    "- If yes, why is that your conclusion?\n",
    "- If no, why not? What could we do to use this variable?\n"
   ]
  },
  {
   "cell_type": "markdown",
   "metadata": {
    "slideshow": {
     "slide_type": "fragment"
    }
   },
   "source": [
    "### Clicker Question #3\n",
    "\n",
    "Should this variable be used in our regression model as is? \n",
    "- A) Yes \n",
    "- B) No\n",
    "- C) I don't know"
   ]
  },
  {
   "cell_type": "code",
   "execution_count": 45,
   "metadata": {
    "scrolled": true,
    "slideshow": {
     "slide_type": "fragment"
    }
   },
   "outputs": [
    {
     "data": {
      "text/html": [
       "<div>\n",
       "<style scoped>\n",
       "    .dataframe tbody tr th:only-of-type {\n",
       "        vertical-align: middle;\n",
       "    }\n",
       "\n",
       "    .dataframe tbody tr th {\n",
       "        vertical-align: top;\n",
       "    }\n",
       "\n",
       "    .dataframe thead th {\n",
       "        text-align: right;\n",
       "    }\n",
       "</style>\n",
       "<table border=\"1\" class=\"dataframe\">\n",
       "  <thead>\n",
       "    <tr style=\"text-align: right;\">\n",
       "      <th></th>\n",
       "      <th>Location</th>\n",
       "      <th>PovPct</th>\n",
       "      <th>Brth15to17</th>\n",
       "      <th>Brth18to19</th>\n",
       "      <th>ViolCrime</th>\n",
       "      <th>TeenBrth</th>\n",
       "      <th>Violent</th>\n",
       "    </tr>\n",
       "  </thead>\n",
       "  <tbody>\n",
       "    <tr>\n",
       "      <th>0</th>\n",
       "      <td>Alabama</td>\n",
       "      <td>20.1</td>\n",
       "      <td>31.5</td>\n",
       "      <td>88.7</td>\n",
       "      <td>11.2</td>\n",
       "      <td>54.5</td>\n",
       "      <td>1</td>\n",
       "    </tr>\n",
       "    <tr>\n",
       "      <th>1</th>\n",
       "      <td>Alaska</td>\n",
       "      <td>7.1</td>\n",
       "      <td>18.9</td>\n",
       "      <td>73.7</td>\n",
       "      <td>9.1</td>\n",
       "      <td>39.5</td>\n",
       "      <td>1</td>\n",
       "    </tr>\n",
       "    <tr>\n",
       "      <th>2</th>\n",
       "      <td>Arizona</td>\n",
       "      <td>16.1</td>\n",
       "      <td>35.0</td>\n",
       "      <td>102.5</td>\n",
       "      <td>10.4</td>\n",
       "      <td>61.2</td>\n",
       "      <td>1</td>\n",
       "    </tr>\n",
       "    <tr>\n",
       "      <th>3</th>\n",
       "      <td>Arkansas</td>\n",
       "      <td>14.9</td>\n",
       "      <td>31.6</td>\n",
       "      <td>101.7</td>\n",
       "      <td>10.4</td>\n",
       "      <td>59.9</td>\n",
       "      <td>1</td>\n",
       "    </tr>\n",
       "    <tr>\n",
       "      <th>4</th>\n",
       "      <td>California</td>\n",
       "      <td>16.7</td>\n",
       "      <td>22.6</td>\n",
       "      <td>69.1</td>\n",
       "      <td>11.2</td>\n",
       "      <td>41.1</td>\n",
       "      <td>1</td>\n",
       "    </tr>\n",
       "  </tbody>\n",
       "</table>\n",
       "</div>"
      ],
      "text/plain": [
       "     Location  PovPct  Brth15to17  Brth18to19  ViolCrime  TeenBrth  Violent\n",
       "0     Alabama    20.1        31.5        88.7       11.2      54.5        1\n",
       "1      Alaska     7.1        18.9        73.7        9.1      39.5        1\n",
       "2     Arizona    16.1        35.0       102.5       10.4      61.2        1\n",
       "3    Arkansas    14.9        31.6       101.7       10.4      59.9        1\n",
       "4  California    16.7        22.6        69.1       11.2      41.1        1"
      ]
     },
     "execution_count": 45,
     "metadata": {},
     "output_type": "execute_result"
    }
   ],
   "source": [
    "# add a new column 'Violent'\n",
    "df['Violent'] = df['ViolCrime'].apply(lambda x: 0 if x < 6.7 else 1)\n",
    "df.head()"
   ]
  },
  {
   "cell_type": "code",
   "execution_count": null,
   "metadata": {
    "slideshow": {
     "slide_type": "slide"
    }
   },
   "outputs": [],
   "source": [
    "sns.boxplot(x='Violent', y='TeenBrth', data=df);"
   ]
  },
  {
   "cell_type": "code",
   "execution_count": 46,
   "metadata": {
    "scrolled": false,
    "slideshow": {
     "slide_type": "fragment"
    }
   },
   "outputs": [
    {
     "name": "stdout",
     "output_type": "stream",
     "text": [
      "                            OLS Regression Results                            \n",
      "==============================================================================\n",
      "Dep. Variable:               TeenBrth   R-squared:                       0.605\n",
      "Model:                            OLS   Adj. R-squared:                  0.588\n",
      "Method:                 Least Squares   F-statistic:                     36.03\n",
      "Date:                Wed, 03 Nov 2021   Prob (F-statistic):           3.26e-10\n",
      "Time:                        10:26:56   Log-Likelihood:                -170.71\n",
      "No. Observations:                  50   AIC:                             347.4\n",
      "Df Residuals:                      47   BIC:                             353.2\n",
      "Df Model:                           2                                         \n",
      "Covariance Type:            nonrobust                                         \n",
      "==============================================================================\n",
      "                 coef    std err          t      P>|t|      [0.025      0.975]\n",
      "------------------------------------------------------------------------------\n",
      "Intercept     19.8110      3.636      5.448      0.000      12.496      27.126\n",
      "PovPct         1.3036      0.301      4.331      0.000       0.698       1.909\n",
      "Violent       10.4715      2.461      4.255      0.000       5.521      15.422\n",
      "==============================================================================\n",
      "Omnibus:                        1.617   Durbin-Watson:                   2.188\n",
      "Prob(Omnibus):                  0.446   Jarque-Bera (JB):                0.920\n",
      "Skew:                          -0.302   Prob(JB):                        0.631\n",
      "Kurtosis:                       3.275   Cond. No.                         47.0\n",
      "==============================================================================\n",
      "\n",
      "Notes:\n",
      "[1] Standard Errors assume that the covariance matrix of the errors is correctly specified.\n"
     ]
    }
   ],
   "source": [
    "outcome, predictors = patsy.dmatrices('TeenBrth ~ PovPct + Violent', df)\n",
    "mod = sm.OLS(outcome, predictors)\n",
    "res = mod.fit()\n",
    "print(res.summary())"
   ]
  },
  {
   "cell_type": "markdown",
   "metadata": {
    "slideshow": {
     "slide_type": "fragment"
    }
   },
   "source": [
    "You may have noted above that there is an $R-squared$ and an $Adj R-squared$ in the model output.\n",
    "\n",
    "Every time a predictor is added to a model, $R-Squared$ will increase, making you *think* you should add all the predictors.\n",
    "\n",
    "$Adj R-Squared$ is adjusted to account for the number of predictors in a model (applies in multiple regression), allowing multiple models to be compared more accurately. "
   ]
  },
  {
   "cell_type": "markdown",
   "metadata": {
    "slideshow": {
     "slide_type": "fragment"
    }
   },
   "source": [
    "#### One predictor (Poverty Percentage)\n",
    "$R^2 = 0.45$  \n",
    "$Adj R^2 = 0.44$\n",
    "\n",
    "\n",
    "\n",
    "#### Two predictors (Violent and Poverty Percentage)\n",
    "$R^2 = 0.61$  \n",
    "$Adj R^2 = 0.59$"
   ]
  },
  {
   "cell_type": "markdown",
   "metadata": {
    "slideshow": {
     "slide_type": "fragment"
    }
   },
   "source": [
    "Comparison of the adjusted correlation coefficients suggests that even after adjusting for the fact that we're adding a second predictor, the second model explains more of the variance in the outcome variable, Teen Birth Rate."
   ]
  },
  {
   "cell_type": "markdown",
   "metadata": {
    "slideshow": {
     "slide_type": "slide"
    }
   },
   "source": [
    "### Clicker Question #4\n",
    "\n",
    "How are you doing? \n",
    "\n",
    "- A) totally got it\n",
    "- B) kinda got it\n",
    "- C) neutral\n",
    "- D) kinda confused\n",
    "- E) super confused"
   ]
  },
  {
   "cell_type": "markdown",
   "metadata": {
    "slideshow": {
     "slide_type": "slide"
    }
   },
   "source": [
    "## Visualizing multiple regression models"
   ]
  },
  {
   "cell_type": "code",
   "execution_count": null,
   "metadata": {
    "scrolled": false,
    "slideshow": {
     "slide_type": "fragment"
    }
   },
   "outputs": [],
   "source": [
    "# relationship between originalpredictor and outcome;\n",
    "sns.scatterplot(x='PovPct', y='TeenBrth', \n",
    "                data=df, s=200);"
   ]
  },
  {
   "cell_type": "code",
   "execution_count": null,
   "metadata": {
    "scrolled": false,
    "slideshow": {
     "slide_type": "fragment"
    }
   },
   "outputs": [],
   "source": [
    "# color by Violent\n",
    "sns.scatterplot(x='PovPct', y='TeenBrth', hue='Violent', \n",
    "                data=df, s=200 );"
   ]
  },
  {
   "cell_type": "code",
   "execution_count": null,
   "metadata": {
    "scrolled": false,
    "slideshow": {
     "slide_type": "fragment"
    }
   },
   "outputs": [],
   "source": [
    "# plot with regression line\n",
    "sns.lmplot(x=\"PovPct\", y=\"TeenBrth\", hue=\"Violent\", \n",
    "           data=df, ci=None, aspect=2.5);"
   ]
  },
  {
   "cell_type": "markdown",
   "metadata": {
    "slideshow": {
     "slide_type": "fragment"
    }
   },
   "source": [
    "$$ Teen Birth = 19.8 + (1.30  * Poverty Percentage) + (10.5 * Violent) $$"
   ]
  },
  {
   "cell_type": "markdown",
   "metadata": {
    "slideshow": {
     "slide_type": "slide"
    }
   },
   "source": [
    "### Clicker Question #5\n",
    "\n",
    "How are you doing? \n",
    "\n",
    "- A) totally got it\n",
    "- B) kinda got it\n",
    "- C) neutral\n",
    "- D) kinda confused\n",
    "- E) super confused"
   ]
  },
  {
   "cell_type": "markdown",
   "metadata": {
    "slideshow": {
     "slide_type": "slide"
    }
   },
   "source": [
    "## Cautions about correlation\n",
    "\n",
    "- Anscombe's Quartet: A Cautionary Tale\n",
    "- Correlation != Causation"
   ]
  },
  {
   "cell_type": "markdown",
   "metadata": {
    "slideshow": {
     "slide_type": "notes"
    }
   },
   "source": [
    "Code in this example taken from [here](https://matplotlib.org/gallery/specialty_plots/anscombe.html)."
   ]
  },
  {
   "cell_type": "code",
   "execution_count": 47,
   "metadata": {
    "slideshow": {
     "slide_type": "fragment"
    }
   },
   "outputs": [],
   "source": [
    "x = np.array([10, 8, 13, 9, 11, 14, 6, 4, 12, 7, 5])\n",
    "y1 = np.array([8.04, 6.95, 7.58, 8.81, 8.33, 9.96, 7.24, 4.26, 10.84, 4.82, 5.68])\n",
    "y2 = np.array([9.14, 8.14, 8.74, 8.77, 9.26, 8.10, 6.13, 3.10, 9.13, 7.26, 4.74])\n",
    "y3 = np.array([7.46, 6.77, 12.74, 7.11, 7.81, 8.84, 6.08, 5.39, 8.15, 6.42, 5.73])\n",
    "x4 = np.array([8, 8, 8, 8, 8, 8, 8, 19, 8, 8, 8])\n",
    "y4 = np.array([6.58, 5.76, 7.71, 8.84, 8.47, 7.04, 5.25, 12.50, 5.56, 7.91, 6.89])"
   ]
  },
  {
   "cell_type": "code",
   "execution_count": 48,
   "metadata": {
    "scrolled": false,
    "slideshow": {
     "slide_type": "fragment"
    }
   },
   "outputs": [
    {
     "name": "stdout",
     "output_type": "stream",
     "text": [
      "mean=7.50, std=1.94, r=0.82\n",
      "mean=7.50, std=1.94, r=0.82\n",
      "mean=7.50, std=1.94, r=0.82\n",
      "mean=7.50, std=1.94, r=0.82\n"
     ]
    },
    {
     "data": {
      "image/png": "[encoded data removed]",
      "text/plain": [
       "<Figure size 1224x504 with 4 Axes>"
      ]
     },
     "metadata": {
      "image/png": {
       "height": 424,
       "width": 1009
      }
     },
     "output_type": "display_data"
    }
   ],
   "source": [
    "def fit(x):\n",
    "    return 3 + 0.5 * x\n",
    "\n",
    "xfit = np.array([np.min(x), np.max(x)])\n",
    "\n",
    "plt.subplot(221)\n",
    "plt.plot(x, y1, 'ks', xfit, fit(xfit), 'r-', lw=2)\n",
    "plt.axis([2, 20, 2, 14])\n",
    "plt.setp(plt.gca(), xticklabels=[], yticks=(4, 8, 12), xticks=(0, 10, 20))\n",
    "plt.text(3, 12, 'I', fontsize=20)\n",
    "\n",
    "plt.subplot(222)\n",
    "plt.plot(x, y2, 'ks', xfit, fit(xfit), 'r-', lw=2)\n",
    "plt.axis([2, 20, 2, 14])\n",
    "plt.setp(plt.gca(), xticks=(0, 10, 20), xticklabels=[],\n",
    "         yticks=(4, 8, 12), yticklabels=[], )\n",
    "plt.text(3, 12, 'II', fontsize=20)\n",
    "\n",
    "plt.subplot(223)\n",
    "plt.plot(x, y3, 'ks', xfit, fit(xfit), 'r-', lw=2)\n",
    "plt.axis([2, 20, 2, 14])\n",
    "plt.text(3, 12, 'III', fontsize=20)\n",
    "plt.setp(plt.gca(), yticks=(4, 8, 12), xticks=(0, 10, 20))\n",
    "\n",
    "plt.subplot(224)\n",
    "xfit = np.array([np.min(x4), np.max(x4)])\n",
    "plt.plot(x4, y4, 'ks', xfit, fit(xfit), 'r-', lw=2)\n",
    "plt.axis([2, 20, 2, 14])\n",
    "plt.setp(plt.gca(), yticklabels=[], yticks=(4, 8, 12), xticks=(0, 10, 20))\n",
    "plt.text(3, 12, 'IV', fontsize=20)\n",
    "\n",
    "# verify the stats\n",
    "pairs = (x, y1), (x, y2), (x, y3), (x4, y4)\n",
    "for x, y in pairs:\n",
    "    print('mean=%1.2f, std=%1.2f, r=%1.2f' % (np.mean(y), np.std(y),\n",
    "          np.corrcoef(x, y)[0][1]))\n",
    "\n",
    "plt.show()"
   ]
  },
  {
   "cell_type": "markdown",
   "metadata": {
    "slideshow": {
     "slide_type": "slide"
    }
   },
   "source": [
    "## Correlation != Causation\n",
    "\n",
    "Measures a relationship, but neither correlation nor linear regression can say one variable _causes_ the other."
   ]
  },
  {
   "cell_type": "markdown",
   "metadata": {
    "slideshow": {
     "slide_type": "slide"
    }
   },
   "source": [
    "![](img/maine_margarine.png)\n",
    "\n",
    "Source: http://www.tylervigen.com/spurious-correlations "
   ]
  },
  {
   "cell_type": "markdown",
   "metadata": {
    "slideshow": {
     "slide_type": "slide"
    }
   },
   "source": [
    "![](img/pool_cage.png)\n",
    "\n",
    "Source: http://www.tylervigen.com/spurious-correlations \n"
   ]
  },
  {
   "cell_type": "markdown",
   "metadata": {
    "slideshow": {
     "slide_type": "slide"
    }
   },
   "source": [
    "# Difference in means: t-test\n",
    "\n",
    "The t-test tests for a difference in means between groups."
   ]
  },
  {
   "cell_type": "markdown",
   "metadata": {
    "slideshow": {
     "slide_type": "slide"
    }
   },
   "source": [
    "Student's t-test assumptions:\n",
    "\n",
    "- Data are continuous\n",
    "- Normally distributed\n",
    "- Large enough sample size\n",
    "- Equal variance b/w groups\n"
   ]
  },
  {
   "cell_type": "markdown",
   "metadata": {
    "slideshow": {
     "slide_type": "fragment"
    }
   },
   "source": [
    "$H_0: \\bar x = \\bar y$\n",
    "\n",
    "$H_a: \\bar x \\ne \\bar y$"
   ]
  },
  {
   "cell_type": "code",
   "execution_count": null,
   "metadata": {
    "slideshow": {
     "slide_type": "fragment"
    }
   },
   "outputs": [],
   "source": [
    "df.groupby(['Violent'])['TeenBrth'].mean()"
   ]
  },
  {
   "cell_type": "markdown",
   "metadata": {
    "slideshow": {
     "slide_type": "fragment"
    }
   },
   "source": [
    "$H_0: \\bar x_{ViolentTeenBirthRate} = \\bar y_{NotViolentTeenBirthRate}$\n",
    "\n",
    "$H_a: \\bar x_{ViolentTeenBirthRate} \\ne \\bar y_{NotViolentTeenBirthRate}$"
   ]
  },
  {
   "cell_type": "code",
   "execution_count": null,
   "metadata": {
    "slideshow": {
     "slide_type": "fragment"
    }
   },
   "outputs": [],
   "source": [
    "group1 = df.where(df.Violent==0).dropna()['TeenBrth']\n",
    "group2 = df.where(df.Violent==1).dropna()['TeenBrth']"
   ]
  },
  {
   "cell_type": "code",
   "execution_count": null,
   "metadata": {
    "slideshow": {
     "slide_type": "fragment"
    }
   },
   "outputs": [],
   "source": [
    "ttest_ind(group1, group2)"
   ]
  },
  {
   "cell_type": "markdown",
   "metadata": {
    "slideshow": {
     "slide_type": "fragment"
    }
   },
   "source": [
    "The p-value here is $1.08\\times 10^{-7}$ ...which means that observing this difference in means due to random chance alone is very unlikely. \n",
    "\n",
    "We reject the null in favor of the alternative hypothesis, concluding that the means between the groups are not the same and that violence plays a role on Teen Birth Rate."
   ]
  },
  {
   "cell_type": "markdown",
   "metadata": {
    "slideshow": {
     "slide_type": "slide"
    }
   },
   "source": [
    "### Clicker Question #6\n",
    "\n",
    "To understand the relationship between height and gender in this classroom, what would you use?\n",
    "\n",
    "- A) linear regression\n",
    "- B) correlation\n",
    "- C) t-test\n",
    "- D) something else"
   ]
  }
 ],
 "metadata": {
  "celltoolbar": "Slideshow",
  "kernelspec": {
   "display_name": "Python 3",
   "language": "python",
   "name": "python3"
  },
  "language_info": {
   "codemirror_mode": {
    "name": "ipython",
    "version": 3
   },
   "file_extension": ".py",
   "mimetype": "text/x-python",
   "name": "python",
   "nbconvert_exporter": "python",
   "pygments_lexer": "ipython3",
   "version": "3.8.8"
  },
  "rise": {
   "scroll": true
  }
 },
 "nbformat": 4,
 "nbformat_minor": 2
}
