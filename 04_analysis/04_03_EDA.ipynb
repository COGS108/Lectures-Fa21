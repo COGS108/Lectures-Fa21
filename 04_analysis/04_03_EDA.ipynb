{
 "cells": [
  {
   "cell_type": "markdown",
   "metadata": {
    "slideshow": {
     "slide_type": "slide"
    }
   },
   "source": [
    "# EDA: Exploratory Data Analysis\n",
    "\n",
    "- tools: `pandas`, `seaborn` & `matplotlib`\n",
    "- concepts:\n",
    "    - structure\n",
    "    - granularity\n",
    "    - scope \n",
    "    - temporality\n",
    "    - faithfulness\n",
    "- EDA Case Studies: Student pre-course survey data"
   ]
  },
  {
   "cell_type": "markdown",
   "metadata": {
    "slideshow": {
     "slide_type": "notes"
    }
   },
   "source": [
    "<div class=\"alert alert-success\">\n",
    "The examples and data in this notebook are largely adapted from two places: (1) Jake VanderPlas' <a href=\"https://github.com/jakevdp/PythonDataScienceHandbook\" class=\"alert-link\">Python Data Science Handbook</a> and (2) Berkeley's <a href=\"https://www.textbook.ds100.org/ch/06/viz_intro.html\" class=\"alert-link\">Data 100 Textbook</a>. Feel free to check out these resources for more!\n",
    "</div>"
   ]
  },
  {
   "cell_type": "markdown",
   "metadata": {
    "slideshow": {
     "slide_type": "slide"
    }
   },
   "source": [
    "## Exploratory data analysis (EDA)\n",
    "\n",
    "> an approach to completely and fully understand your dataset.\n",
    "\n",
    "It requires a state of flexibility and a willingness to look for both:\n",
    "- artifacts in the data we anticipate exist \n",
    "- artifacts that we don't expect / believe are there\n",
    "\n"
   ]
  },
  {
   "cell_type": "markdown",
   "metadata": {
    "slideshow": {
     "slide_type": "slide"
    }
   },
   "source": [
    "![eda](img/exploratory.png)\n"
   ]
  },
  {
   "cell_type": "markdown",
   "metadata": {
    "slideshow": {
     "slide_type": "slide"
    }
   },
   "source": [
    "## Setup"
   ]
  },
  {
   "cell_type": "code",
   "execution_count": 31,
   "metadata": {
    "slideshow": {
     "slide_type": "fragment"
    }
   },
   "outputs": [],
   "source": [
    "# Import seaborn and apply its plotting styles\n",
    "import seaborn as sns\n",
    "sns.set(style=\"white\", font_scale=1.5)\n",
    "\n",
    "# import matplotlib\n",
    "import matplotlib as mpl\n",
    "import matplotlib.pyplot as plt\n",
    "# set plotting size parameter\n",
    "plt.rcParams['figure.figsize'] = (17, 7)\n",
    "\n",
    "# make sure pandas & numpy are imported\n",
    "import pandas as pd\n",
    "import numpy as np\n",
    "\n",
    "import warnings\n",
    "warnings.filterwarnings('ignore')\n",
    "\n",
    "#improve resolution\n",
    "#comment this line if erroring on your machine/screen\n",
    "%config InlineBackend.figure_format ='retina'"
   ]
  },
  {
   "cell_type": "markdown",
   "metadata": {
    "slideshow": {
     "slide_type": "slide"
    }
   },
   "source": [
    "# EDA\n",
    "\n",
    "In the [Data 100 Textbook](https://www.textbook.ds100.org/ch/05/eda_intro.html), the authors state that with EDA, \"We seek to understand the following properties about our data\":\n",
    "\n",
    "- Structure: the format of our data file.\n",
    "- Granularity: how fine or coarse each row and column is.\n",
    "- Scope: how (in)complete our data are.\n",
    "- Temporality: how the data are situated in time.\n",
    "- Faithfulness: how well the data captures \"reality\"."
   ]
  },
  {
   "cell_type": "markdown",
   "metadata": {
    "slideshow": {
     "slide_type": "slide"
    }
   },
   "source": [
    "# Structure\n",
    "\n",
    "What is the format of our data file?"
   ]
  },
  {
   "cell_type": "markdown",
   "metadata": {
    "slideshow": {
     "slide_type": "fragment"
    }
   },
   "source": [
    "<div class=\"alert alert-info\">\n",
    "The <b>structure</b> of your data describes the \"shape\" of the dataset. This refers to the format that the data are stored.\n",
    "</div>"
   ]
  },
  {
   "cell_type": "markdown",
   "metadata": {
    "slideshow": {
     "slide_type": "slide"
    }
   },
   "source": [
    "#### Questions to be able to answer about the structure of your dataset:\n",
    "1. What format are the data in?\n",
    "    - tabular (CSV, TSV, Excel, SQL)\n",
    "    - nested (XML, JSON)  \n",
    "    - streaming (Arrow, Parquet)"
   ]
  },
  {
   "cell_type": "markdown",
   "metadata": {
    "slideshow": {
     "slide_type": "fragment"
    }
   },
   "source": [
    "2. Is each observation in a separate row? \n",
    "    - If not, can we get it into that format?\n",
    "    - If the data are nested, how would we unnest the data"
   ]
  },
  {
   "cell_type": "markdown",
   "metadata": {
    "slideshow": {
     "slide_type": "fragment"
    }
   },
   "source": [
    "3. What variables (columns) do we have information about?\n",
    "    - what `type` of information is in each column\n",
    "    - Do we have all of the variables we need?    "
   ]
  },
  {
   "cell_type": "markdown",
   "metadata": {
    "slideshow": {
     "slide_type": "fragment"
    }
   },
   "source": [
    "4. Are the data spread across multiple tables? \n",
    "    - How do we want to join the data?\n",
    "    "
   ]
  },
  {
   "cell_type": "markdown",
   "metadata": {
    "slideshow": {
     "slide_type": "slide"
    }
   },
   "source": [
    "# Granularity\n",
    "How fine or coarse is the data stored in each row and column?"
   ]
  },
  {
   "cell_type": "markdown",
   "metadata": {
    "slideshow": {
     "slide_type": "fragment"
    }
   },
   "source": [
    "<div class=\"alert alert-info\">\n",
    "The <b>granularity</b> of your data is what each observation in your data represents.\n",
    "</div>"
   ]
  },
  {
   "cell_type": "markdown",
   "metadata": {
    "slideshow": {
     "slide_type": "fragment"
    }
   },
   "source": [
    "Often, the observation will be a **single individual** (i.e. information about each person who has called into a call center). \n",
    "\n",
    "Other times, it will be data collected about a **single individual at a particular time** (i.e. information about each call received on a given day) - Note that the same individual could be in this dataset multiple times.\n",
    "\n",
    "Other times, each row will contain a **summary about a number of indidivuals** (i.e. total number of calls received at a call center each day) - Here, each row would contain summarized information about a whole bunch of people."
   ]
  },
  {
   "cell_type": "markdown",
   "metadata": {
    "slideshow": {
     "slide_type": "slide"
    }
   },
   "source": [
    "## Individual Level Granularity\n",
    "\n",
    "In this example, we see that each observation represents a single individual."
   ]
  },
  {
   "cell_type": "code",
   "execution_count": 32,
   "metadata": {
    "slideshow": {
     "slide_type": "fragment"
    }
   },
   "outputs": [
    {
     "data": {
      "text/html": [
       "<div>\n",
       "<style scoped>\n",
       "    .dataframe tbody tr th:only-of-type {\n",
       "        vertical-align: middle;\n",
       "    }\n",
       "\n",
       "    .dataframe tbody tr th {\n",
       "        vertical-align: top;\n",
       "    }\n",
       "\n",
       "    .dataframe thead th {\n",
       "        text-align: right;\n",
       "    }\n",
       "</style>\n",
       "<table border=\"1\" class=\"dataframe\">\n",
       "  <thead>\n",
       "    <tr style=\"text-align: right;\">\n",
       "      <th></th>\n",
       "      <th>Name</th>\n",
       "      <th>Complaint</th>\n",
       "      <th>Age</th>\n",
       "      <th>Gender</th>\n",
       "    </tr>\n",
       "  </thead>\n",
       "  <tbody>\n",
       "    <tr>\n",
       "      <th>0</th>\n",
       "      <td>Joey</td>\n",
       "      <td>suspected poisoning</td>\n",
       "      <td>42</td>\n",
       "      <td>M</td>\n",
       "    </tr>\n",
       "    <tr>\n",
       "      <th>1</th>\n",
       "      <td>Weiwei</td>\n",
       "      <td>ingested substance</td>\n",
       "      <td>50</td>\n",
       "      <td>F</td>\n",
       "    </tr>\n",
       "    <tr>\n",
       "      <th>2</th>\n",
       "      <td>Joey</td>\n",
       "      <td>chemical in eye</td>\n",
       "      <td>8</td>\n",
       "      <td>M</td>\n",
       "    </tr>\n",
       "    <tr>\n",
       "      <th>3</th>\n",
       "      <td>Karina</td>\n",
       "      <td>ingested substance</td>\n",
       "      <td>7</td>\n",
       "      <td>F</td>\n",
       "    </tr>\n",
       "    <tr>\n",
       "      <th>4</th>\n",
       "      <td>Nhi</td>\n",
       "      <td>ingested substance</td>\n",
       "      <td>3</td>\n",
       "      <td>F</td>\n",
       "    </tr>\n",
       "    <tr>\n",
       "      <th>5</th>\n",
       "      <td>Sam</td>\n",
       "      <td>chemical on skin</td>\n",
       "      <td>42</td>\n",
       "      <td>M</td>\n",
       "    </tr>\n",
       "  </tbody>\n",
       "</table>\n",
       "</div>"
      ],
      "text/plain": [
       "     Name            Complaint  Age Gender\n",
       "0    Joey  suspected poisoning   42      M\n",
       "1  Weiwei   ingested substance   50      F\n",
       "2    Joey      chemical in eye    8      M\n",
       "3  Karina   ingested substance    7      F\n",
       "4     Nhi   ingested substance    3      F\n",
       "5     Sam     chemical on skin   42      M"
      ]
     },
     "execution_count": 32,
     "metadata": {},
     "output_type": "execute_result"
    }
   ],
   "source": [
    "calls = pd.DataFrame(\n",
    "    [[\"Joey\",      \"suspected poisoning\",  42,  \"M\"],\n",
    "     [\"Weiwei\",    \"ingested substance\",   50,  \"F\"],\n",
    "     [\"Joey\",      \"chemical in eye\",       8,  \"M\"],\n",
    "     [\"Karina\",    \"ingested substance\",    7,  \"F\"],\n",
    "     [\"Nhi\",       \"ingested substance\",    3,  \"F\"],\n",
    "     [\"Sam\",       \"chemical on skin\",     42,  \"M\"]], \n",
    "    columns = [\"Name\", \"Complaint\", \"Age\", \"Gender\"])\n",
    "\n",
    "calls"
   ]
  },
  {
   "cell_type": "markdown",
   "metadata": {
    "slideshow": {
     "slide_type": "slide"
    }
   },
   "source": [
    "## Group-Level Granularity\n",
    "\n",
    "However often the data we're handed have observations (rows) that summarize information across many individuals."
   ]
  },
  {
   "cell_type": "code",
   "execution_count": 33,
   "metadata": {
    "scrolled": true,
    "slideshow": {
     "slide_type": "fragment"
    }
   },
   "outputs": [
    {
     "data": {
      "text/html": [
       "<div>\n",
       "<style scoped>\n",
       "    .dataframe tbody tr th:only-of-type {\n",
       "        vertical-align: middle;\n",
       "    }\n",
       "\n",
       "    .dataframe tbody tr th {\n",
       "        vertical-align: top;\n",
       "    }\n",
       "\n",
       "    .dataframe thead th {\n",
       "        text-align: right;\n",
       "    }\n",
       "</style>\n",
       "<table border=\"1\" class=\"dataframe\">\n",
       "  <thead>\n",
       "    <tr style=\"text-align: right;\">\n",
       "      <th></th>\n",
       "      <th>Date</th>\n",
       "      <th>Calls</th>\n",
       "    </tr>\n",
       "  </thead>\n",
       "  <tbody>\n",
       "    <tr>\n",
       "      <th>0</th>\n",
       "      <td>2019-08-29</td>\n",
       "      <td>100</td>\n",
       "    </tr>\n",
       "    <tr>\n",
       "      <th>1</th>\n",
       "      <td>2019-08-30</td>\n",
       "      <td>212</td>\n",
       "    </tr>\n",
       "    <tr>\n",
       "      <th>2</th>\n",
       "      <td>2019-08-31</td>\n",
       "      <td>88</td>\n",
       "    </tr>\n",
       "    <tr>\n",
       "      <th>3</th>\n",
       "      <td>2019-09-01</td>\n",
       "      <td>160</td>\n",
       "    </tr>\n",
       "    <tr>\n",
       "      <th>4</th>\n",
       "      <td>2019-09-02</td>\n",
       "      <td>122</td>\n",
       "    </tr>\n",
       "  </tbody>\n",
       "</table>\n",
       "</div>"
      ],
      "text/plain": [
       "         Date  Calls\n",
       "0  2019-08-29    100\n",
       "1  2019-08-30    212\n",
       "2  2019-08-31     88\n",
       "3  2019-09-01    160\n",
       "4  2019-09-02    122"
      ]
     },
     "execution_count": 33,
     "metadata": {},
     "output_type": "execute_result"
    }
   ],
   "source": [
    "calls_total = pd.DataFrame(\n",
    "    [[\"2019-08-29\", 100],\n",
    "    [\"2019-08-30\",  212],\n",
    "    [\"2019-08-31\",  88],\n",
    "    [\"2019-09-01\",  160],\n",
    "    [\"2019-09-02\",  122],\n",
    "    ], \n",
    "    columns = [\"Date\", \"Calls\"])\n",
    "\n",
    "calls_total"
   ]
  },
  {
   "cell_type": "markdown",
   "metadata": {
    "slideshow": {
     "slide_type": "slide"
    }
   },
   "source": [
    "#### Questions to be able to answer about the granularity of your dataset:\n",
    "1. What does each record (row) represent?"
   ]
  },
  {
   "cell_type": "markdown",
   "metadata": {
    "slideshow": {
     "slide_type": "fragment"
    }
   },
   "source": [
    "2. Do all records uniformly represent the same level of granularity\n",
    "   - are some rows individual-level, while others are summaries of the group? How will this be handled?"
   ]
  },
  {
   "cell_type": "markdown",
   "metadata": {
    "slideshow": {
     "slide_type": "fragment"
    }
   },
   "source": [
    "3. Were the data summarized or aggregated?\n",
    "    - How were they grouped & summarized\n",
    "    - What metrics were used for summarization (means and medians are common)"
   ]
  },
  {
   "cell_type": "markdown",
   "metadata": {
    "slideshow": {
     "slide_type": "fragment"
    }
   },
   "source": [
    "4. What aggregations/summarizations do we plan to do with these data?\n",
    "    "
   ]
  },
  {
   "cell_type": "markdown",
   "metadata": {
    "slideshow": {
     "slide_type": "slide"
    }
   },
   "source": [
    "# Scope\n",
    "\n",
    "How (in)complete are our data?"
   ]
  },
  {
   "cell_type": "markdown",
   "metadata": {
    "slideshow": {
     "slide_type": "fragment"
    }
   },
   "source": [
    "<div class=\"alert alert-info\">\n",
    "The <b>scope</b> of your data describes how helpful these data are with respect to our data science question.\n",
    "</div>"
   ]
  },
  {
   "cell_type": "markdown",
   "metadata": {
    "slideshow": {
     "slide_type": "fragment"
    }
   },
   "source": [
    "At this point, **descriptive statistics** & **exploratory visualizations** become pretty essential.\n",
    "\n",
    "- Descriptive Statistics - help to summarize typical values and ranges for variables of interest\n",
    "- Exploratory Visualizations - help us understand the distributions of individual variables and relationships between variables in our dataset\n",
    "\n",
    "We'll also want to start to determine how frequently, for what variables, and why data are **missing**."
   ]
  },
  {
   "cell_type": "markdown",
   "metadata": {
    "slideshow": {
     "slide_type": "slide"
    }
   },
   "source": [
    "# Temporality\n",
    "How are these data situated in time?"
   ]
  },
  {
   "cell_type": "markdown",
   "metadata": {
    "slideshow": {
     "slide_type": "fragment"
    }
   },
   "source": [
    "<div class=\"alert alert-info\">\n",
    "The <b>temporality</b> refers to how the data are situated in time. Specifically, we're interested in what data and time information are included in the dataset.\n",
    "</div>\n"
   ]
  },
  {
   "cell_type": "markdown",
   "metadata": {
    "slideshow": {
     "slide_type": "slide"
    }
   },
   "source": [
    "#### Questions to be able to answer about the temporality of your dataset:\n",
    "1. What do reported times represent?\n",
    "    - What does each date and time in the dataset mean? Time event occurred? Time reported?\n",
    "    - Note that **timezones** & **Daylight Saving Time** are always important to consider    "
   ]
  },
  {
   "cell_type": "markdown",
   "metadata": {
    "slideshow": {
     "slide_type": "fragment"
    }
   },
   "source": [
    "2. How are the dates/times represented? What format are they in?\n",
    "   - YYYY-MM-DD? Year? Time? Date & Time?"
   ]
  },
  {
   "cell_type": "markdown",
   "metadata": {
    "slideshow": {
     "slide_type": "fragment"
    }
   },
   "source": [
    "3. How are null timestamps represented? \n",
    "    - was a \"random\" date picked?\n",
    "        - `Jan 1st 1990` <- Excel's default date\n",
    "        - `Jan 1st, 1904` <- Excel's default date *on Mac*\n",
    "        - `12:00am Jan 1st, 1970`<- [Unix Epoch for Timestamps](https://www.wikiwand.com/en/Unix_time#/Encoding_time_as_a_number)\n",
    "    - `-999`, `NaN`, `NA`"
   ]
  },
  {
   "cell_type": "markdown",
   "metadata": {
    "slideshow": {
     "slide_type": "fragment"
    }
   },
   "source": [
    "4. What aggregations/summarizations do we plan to do with these data?"
   ]
  },
  {
   "cell_type": "markdown",
   "metadata": {},
   "source": [
    "5. Are the variables _stationary_? Does the mean or variance change as time goes on?"
   ]
  },
  {
   "cell_type": "markdown",
   "metadata": {
    "slideshow": {
     "slide_type": "slide"
    }
   },
   "source": [
    "# Faithfulness\n",
    "How well do these data reflect reality?\n"
   ]
  },
  {
   "cell_type": "markdown",
   "metadata": {
    "slideshow": {
     "slide_type": "fragment"
    }
   },
   "source": [
    "<div class=\"alert alert-info\">\n",
    "The <b>faithfulness</b> of your data is a determination of how trustworthy the data are.\n",
    "</div>"
   ]
  },
  {
   "cell_type": "markdown",
   "metadata": {
    "slideshow": {
     "slide_type": "slide"
    }
   },
   "source": [
    "#### Questions to be able to answer about the faithfulness of your dataset:\n",
    "1. Are the values reasonable / what we expect? \n",
    "    - Unreasonable values examples: dates in the future, locations that don't exist, negative counts, wild outliers"
   ]
  },
  {
   "cell_type": "markdown",
   "metadata": {
    "slideshow": {
     "slide_type": "fragment"
    }
   },
   "source": [
    "2. Are there inconsistencies across tables?\n",
    "    - Identifiers that don't match?\n",
    "    - Date of Births that differ between two tables?\n",
    "    - Any inconsistencies between values stored in more than one table?\n"
   ]
  },
  {
   "cell_type": "markdown",
   "metadata": {
    "slideshow": {
     "slide_type": "fragment"
    }
   },
   "source": [
    "3. Are there data entered by hand? These often contain inconsistencies.\n"
   ]
  },
  {
   "cell_type": "markdown",
   "metadata": {
    "slideshow": {
     "slide_type": "fragment"
    }
   },
   "source": [
    "4. Any obvious signs of falsification?\n",
    "    - examples: repeated names, fake looking email addresses, repeated uncommon names or fields"
   ]
  },
  {
   "cell_type": "markdown",
   "metadata": {
    "slideshow": {
     "slide_type": "slide"
    }
   },
   "source": [
    "# EDA Case Study: Pre-Course Surveys\n",
    "\n",
    "Typically you won't be handed a dataset without information about where the data came from or what question you want to ask. But, for the sake of this exercise, let's look at a dataset where you don't have too many specifics  beyond what's in the dataset itself and see what we can figure out through EDA."
   ]
  },
  {
   "cell_type": "markdown",
   "metadata": {
    "slideshow": {
     "slide_type": "slide"
    }
   },
   "source": [
    "## The Data"
   ]
  },
  {
   "cell_type": "code",
   "execution_count": 34,
   "metadata": {
    "slideshow": {
     "slide_type": "fragment"
    }
   },
   "outputs": [
    {
     "data": {
      "text/html": [
       "<div>\n",
       "<style scoped>\n",
       "    .dataframe tbody tr th:only-of-type {\n",
       "        vertical-align: middle;\n",
       "    }\n",
       "\n",
       "    .dataframe tbody tr th {\n",
       "        vertical-align: top;\n",
       "    }\n",
       "\n",
       "    .dataframe thead th {\n",
       "        text-align: right;\n",
       "    }\n",
       "</style>\n",
       "<table border=\"1\" class=\"dataframe\">\n",
       "  <thead>\n",
       "    <tr style=\"text-align: right;\">\n",
       "      <th></th>\n",
       "      <th>new_id</th>\n",
       "      <th>enrolled</th>\n",
       "      <th>To which of the following do you have access to this Spring Quarter?</th>\n",
       "      <th>Use the map below to answer this question. During this quarter, what time zone are you in? (For example, if you are in San Diego, your answer would be -7. If you are in UTC, respond with 0)</th>\n",
       "      <th>Check all that apply: Before COGS 108, which of the following skills do you feel you possess? (Note: you're not expected to have any of these before taking the class; we're just curious!)</th>\n",
       "      <th>In which of the following programming language(s) are you comfortable? Check all that apply.</th>\n",
       "      <th>Which of the following topics are you familiar with? (Here, familiar means you could explain the topic clearly to a friend without Googling it first.) Check all that apply.</th>\n",
       "      <th>How comfortable are you with statistics?</th>\n",
       "      <th>How comfortable are you with programming?</th>\n",
       "    </tr>\n",
       "  </thead>\n",
       "  <tbody>\n",
       "    <tr>\n",
       "      <th>0</th>\n",
       "      <td>001_fa21</td>\n",
       "      <td>1</td>\n",
       "      <td>Reliable Internet, A functioning laptop or tab...</td>\n",
       "      <td>-8.0</td>\n",
       "      <td>None of these</td>\n",
       "      <td>Java</td>\n",
       "      <td>none of the above</td>\n",
       "      <td>4.0</td>\n",
       "      <td>7.0</td>\n",
       "    </tr>\n",
       "    <tr>\n",
       "      <th>1</th>\n",
       "      <td>002_fa21</td>\n",
       "      <td>1</td>\n",
       "      <td>A functioning laptop or tablet, Access to YouTube</td>\n",
       "      <td>8.0</td>\n",
       "      <td>Communicate results concisely and effectively ...</td>\n",
       "      <td>Python</td>\n",
       "      <td>Python</td>\n",
       "      <td>6.0</td>\n",
       "      <td>4.0</td>\n",
       "    </tr>\n",
       "    <tr>\n",
       "      <th>2</th>\n",
       "      <td>003_fa21</td>\n",
       "      <td>1</td>\n",
       "      <td>NaN</td>\n",
       "      <td>NaN</td>\n",
       "      <td>NaN</td>\n",
       "      <td>NaN</td>\n",
       "      <td>NaN</td>\n",
       "      <td>NaN</td>\n",
       "      <td>NaN</td>\n",
       "    </tr>\n",
       "    <tr>\n",
       "      <th>3</th>\n",
       "      <td>004_fa21</td>\n",
       "      <td>1</td>\n",
       "      <td>Reliable Internet, A functioning laptop or tab...</td>\n",
       "      <td>-7.0</td>\n",
       "      <td>Formulate a plan for and complete a data scien...</td>\n",
       "      <td>Python, Java, MATLAB, R</td>\n",
       "      <td>data science, version control (i.e. git), GitH...</td>\n",
       "      <td>7.0</td>\n",
       "      <td>10.0</td>\n",
       "    </tr>\n",
       "    <tr>\n",
       "      <th>4</th>\n",
       "      <td>005_fa21</td>\n",
       "      <td>1</td>\n",
       "      <td>NaN</td>\n",
       "      <td>NaN</td>\n",
       "      <td>NaN</td>\n",
       "      <td>NaN</td>\n",
       "      <td>NaN</td>\n",
       "      <td>NaN</td>\n",
       "      <td>NaN</td>\n",
       "    </tr>\n",
       "  </tbody>\n",
       "</table>\n",
       "</div>"
      ],
      "text/plain": [
       "     new_id  enrolled  \\\n",
       "0  001_fa21         1   \n",
       "1  002_fa21         1   \n",
       "2  003_fa21         1   \n",
       "3  004_fa21         1   \n",
       "4  005_fa21         1   \n",
       "\n",
       "  To which of the following do you have access to this Spring Quarter?  \\\n",
       "0  Reliable Internet, A functioning laptop or tab...                     \n",
       "1  A functioning laptop or tablet, Access to YouTube                     \n",
       "2                                                NaN                     \n",
       "3  Reliable Internet, A functioning laptop or tab...                     \n",
       "4                                                NaN                     \n",
       "\n",
       "   Use the map below to answer this question. During this quarter, what time zone are you in? (For example, if you are in San Diego, your answer would be -7. If you are in UTC, respond with 0)  \\\n",
       "0                                               -8.0                                                                                                                                               \n",
       "1                                                8.0                                                                                                                                               \n",
       "2                                                NaN                                                                                                                                               \n",
       "3                                               -7.0                                                                                                                                               \n",
       "4                                                NaN                                                                                                                                               \n",
       "\n",
       "  Check all that apply: Before COGS 108, which of the following skills do you feel you possess? (Note: you're not expected to have any of these before taking the class; we're just curious!)  \\\n",
       "0                                      None of these                                                                                                                                            \n",
       "1  Communicate results concisely and effectively ...                                                                                                                                            \n",
       "2                                                NaN                                                                                                                                            \n",
       "3  Formulate a plan for and complete a data scien...                                                                                                                                            \n",
       "4                                                NaN                                                                                                                                            \n",
       "\n",
       "  In which of the following programming language(s) are you comfortable? Check all that apply.  \\\n",
       "0                                               Java                                             \n",
       "1                                             Python                                             \n",
       "2                                                NaN                                             \n",
       "3                            Python, Java, MATLAB, R                                             \n",
       "4                                                NaN                                             \n",
       "\n",
       "  Which of the following topics are you familiar with? (Here, familiar means you could explain the topic clearly to a friend without Googling it first.) Check all that apply.  \\\n",
       "0                                  none of the above                                                                                                                             \n",
       "1                                             Python                                                                                                                             \n",
       "2                                                NaN                                                                                                                             \n",
       "3  data science, version control (i.e. git), GitH...                                                                                                                             \n",
       "4                                                NaN                                                                                                                             \n",
       "\n",
       "   How comfortable are you with statistics?  \\\n",
       "0                                       4.0   \n",
       "1                                       6.0   \n",
       "2                                       NaN   \n",
       "3                                       7.0   \n",
       "4                                       NaN   \n",
       "\n",
       "   How comfortable are you with programming?  \n",
       "0                                        7.0  \n",
       "1                                        4.0  \n",
       "2                                        NaN  \n",
       "3                                       10.0  \n",
       "4                                        NaN  "
      ]
     },
     "execution_count": 34,
     "metadata": {},
     "output_type": "execute_result"
    }
   ],
   "source": [
    "## load dataset in\n",
    "df = pd.read_csv('data/pre_survey_data_fa21.csv').drop('Unnamed: 0',axis=1)\n",
    "df.head()"
   ]
  },
  {
   "cell_type": "markdown",
   "metadata": {
    "slideshow": {
     "slide_type": "slide"
    }
   },
   "source": [
    "## Structure\n",
    "\n",
    "<div class=\"alert alert-info\">\n",
    "The <b>structure</b> of your data describes the \"shape\" of the dataset. This refers to the format that the data are stored.\n",
    "</div>"
   ]
  },
  {
   "cell_type": "markdown",
   "metadata": {
    "slideshow": {
     "slide_type": "fragment"
    }
   },
   "source": [
    "Let's first clean up those column names for working with these data..."
   ]
  },
  {
   "cell_type": "code",
   "execution_count": 36,
   "metadata": {
    "slideshow": {
     "slide_type": "-"
    }
   },
   "outputs": [
    {
     "data": {
      "text/html": [
       "<div>\n",
       "<style scoped>\n",
       "    .dataframe tbody tr th:only-of-type {\n",
       "        vertical-align: middle;\n",
       "    }\n",
       "\n",
       "    .dataframe tbody tr th {\n",
       "        vertical-align: top;\n",
       "    }\n",
       "\n",
       "    .dataframe thead th {\n",
       "        text-align: right;\n",
       "    }\n",
       "</style>\n",
       "<table border=\"1\" class=\"dataframe\">\n",
       "  <thead>\n",
       "    <tr style=\"text-align: right;\">\n",
       "      <th></th>\n",
       "      <th>ID</th>\n",
       "      <th>enrolled</th>\n",
       "      <th>tech_access</th>\n",
       "      <th>timezone</th>\n",
       "      <th>objectives_pre</th>\n",
       "      <th>language</th>\n",
       "      <th>topics</th>\n",
       "      <th>statistics</th>\n",
       "      <th>programming</th>\n",
       "    </tr>\n",
       "  </thead>\n",
       "  <tbody>\n",
       "    <tr>\n",
       "      <th>0</th>\n",
       "      <td>001_fa21</td>\n",
       "      <td>1</td>\n",
       "      <td>Reliable Internet, A functioning laptop or tab...</td>\n",
       "      <td>-8.0</td>\n",
       "      <td>None of these</td>\n",
       "      <td>Java</td>\n",
       "      <td>none of the above</td>\n",
       "      <td>4.0</td>\n",
       "      <td>7.0</td>\n",
       "    </tr>\n",
       "    <tr>\n",
       "      <th>1</th>\n",
       "      <td>002_fa21</td>\n",
       "      <td>1</td>\n",
       "      <td>A functioning laptop or tablet, Access to YouTube</td>\n",
       "      <td>8.0</td>\n",
       "      <td>Communicate results concisely and effectively ...</td>\n",
       "      <td>Python</td>\n",
       "      <td>Python</td>\n",
       "      <td>6.0</td>\n",
       "      <td>4.0</td>\n",
       "    </tr>\n",
       "    <tr>\n",
       "      <th>2</th>\n",
       "      <td>003_fa21</td>\n",
       "      <td>1</td>\n",
       "      <td>NaN</td>\n",
       "      <td>NaN</td>\n",
       "      <td>NaN</td>\n",
       "      <td>NaN</td>\n",
       "      <td>NaN</td>\n",
       "      <td>NaN</td>\n",
       "      <td>NaN</td>\n",
       "    </tr>\n",
       "    <tr>\n",
       "      <th>3</th>\n",
       "      <td>004_fa21</td>\n",
       "      <td>1</td>\n",
       "      <td>Reliable Internet, A functioning laptop or tab...</td>\n",
       "      <td>-7.0</td>\n",
       "      <td>Formulate a plan for and complete a data scien...</td>\n",
       "      <td>Python, Java, MATLAB, R</td>\n",
       "      <td>data science, version control (i.e. git), GitH...</td>\n",
       "      <td>7.0</td>\n",
       "      <td>10.0</td>\n",
       "    </tr>\n",
       "    <tr>\n",
       "      <th>4</th>\n",
       "      <td>005_fa21</td>\n",
       "      <td>1</td>\n",
       "      <td>NaN</td>\n",
       "      <td>NaN</td>\n",
       "      <td>NaN</td>\n",
       "      <td>NaN</td>\n",
       "      <td>NaN</td>\n",
       "      <td>NaN</td>\n",
       "      <td>NaN</td>\n",
       "    </tr>\n",
       "    <tr>\n",
       "      <th>...</th>\n",
       "      <td>...</td>\n",
       "      <td>...</td>\n",
       "      <td>...</td>\n",
       "      <td>...</td>\n",
       "      <td>...</td>\n",
       "      <td>...</td>\n",
       "      <td>...</td>\n",
       "      <td>...</td>\n",
       "      <td>...</td>\n",
       "    </tr>\n",
       "    <tr>\n",
       "      <th>362</th>\n",
       "      <td>NaN</td>\n",
       "      <td>0</td>\n",
       "      <td>A functioning laptop or tablet, Access to YouTube</td>\n",
       "      <td>-7.0</td>\n",
       "      <td>Formulate a plan for and complete a data scien...</td>\n",
       "      <td>Python, R</td>\n",
       "      <td>data science, version control (i.e. git), GitH...</td>\n",
       "      <td>4.0</td>\n",
       "      <td>6.0</td>\n",
       "    </tr>\n",
       "    <tr>\n",
       "      <th>363</th>\n",
       "      <td>NaN</td>\n",
       "      <td>0</td>\n",
       "      <td>A functioning laptop or tablet, Access to YouTube</td>\n",
       "      <td>-7.0</td>\n",
       "      <td>None of these</td>\n",
       "      <td>Python, Java, MATLAB</td>\n",
       "      <td>Python, Jupyter Notebooks, machine learning</td>\n",
       "      <td>2.0</td>\n",
       "      <td>8.0</td>\n",
       "    </tr>\n",
       "    <tr>\n",
       "      <th>364</th>\n",
       "      <td>NaN</td>\n",
       "      <td>0</td>\n",
       "      <td>Reliable Internet, A functioning laptop or tab...</td>\n",
       "      <td>-7.0</td>\n",
       "      <td>Communicate results concisely and effectively ...</td>\n",
       "      <td>MATLAB</td>\n",
       "      <td>none of the above</td>\n",
       "      <td>4.0</td>\n",
       "      <td>3.0</td>\n",
       "    </tr>\n",
       "    <tr>\n",
       "      <th>365</th>\n",
       "      <td>NaN</td>\n",
       "      <td>0</td>\n",
       "      <td>Reliable Internet, A functioning laptop or tab...</td>\n",
       "      <td>-7.0</td>\n",
       "      <td>Communicate results concisely and effectively ...</td>\n",
       "      <td>Java, None of these (I'm not comfortable progr...</td>\n",
       "      <td>none of the above</td>\n",
       "      <td>4.0</td>\n",
       "      <td>5.0</td>\n",
       "    </tr>\n",
       "    <tr>\n",
       "      <th>366</th>\n",
       "      <td>NaN</td>\n",
       "      <td>0</td>\n",
       "      <td>Reliable Internet, A functioning laptop or tab...</td>\n",
       "      <td>-7.0</td>\n",
       "      <td>None of these</td>\n",
       "      <td>Java</td>\n",
       "      <td>p-value</td>\n",
       "      <td>6.0</td>\n",
       "      <td>5.0</td>\n",
       "    </tr>\n",
       "  </tbody>\n",
       "</table>\n",
       "<p>367 rows × 9 columns</p>\n",
       "</div>"
      ],
      "text/plain": [
       "           ID  enrolled                                        tech_access  \\\n",
       "0    001_fa21         1  Reliable Internet, A functioning laptop or tab...   \n",
       "1    002_fa21         1  A functioning laptop or tablet, Access to YouTube   \n",
       "2    003_fa21         1                                                NaN   \n",
       "3    004_fa21         1  Reliable Internet, A functioning laptop or tab...   \n",
       "4    005_fa21         1                                                NaN   \n",
       "..        ...       ...                                                ...   \n",
       "362       NaN         0  A functioning laptop or tablet, Access to YouTube   \n",
       "363       NaN         0  A functioning laptop or tablet, Access to YouTube   \n",
       "364       NaN         0  Reliable Internet, A functioning laptop or tab...   \n",
       "365       NaN         0  Reliable Internet, A functioning laptop or tab...   \n",
       "366       NaN         0  Reliable Internet, A functioning laptop or tab...   \n",
       "\n",
       "     timezone                                     objectives_pre  \\\n",
       "0        -8.0                                      None of these   \n",
       "1         8.0  Communicate results concisely and effectively ...   \n",
       "2         NaN                                                NaN   \n",
       "3        -7.0  Formulate a plan for and complete a data scien...   \n",
       "4         NaN                                                NaN   \n",
       "..        ...                                                ...   \n",
       "362      -7.0  Formulate a plan for and complete a data scien...   \n",
       "363      -7.0                                      None of these   \n",
       "364      -7.0  Communicate results concisely and effectively ...   \n",
       "365      -7.0  Communicate results concisely and effectively ...   \n",
       "366      -7.0                                      None of these   \n",
       "\n",
       "                                              language  \\\n",
       "0                                                 Java   \n",
       "1                                               Python   \n",
       "2                                                  NaN   \n",
       "3                              Python, Java, MATLAB, R   \n",
       "4                                                  NaN   \n",
       "..                                                 ...   \n",
       "362                                          Python, R   \n",
       "363                               Python, Java, MATLAB   \n",
       "364                                             MATLAB   \n",
       "365  Java, None of these (I'm not comfortable progr...   \n",
       "366                                               Java   \n",
       "\n",
       "                                                topics  statistics  \\\n",
       "0                                    none of the above         4.0   \n",
       "1                                               Python         6.0   \n",
       "2                                                  NaN         NaN   \n",
       "3    data science, version control (i.e. git), GitH...         7.0   \n",
       "4                                                  NaN         NaN   \n",
       "..                                                 ...         ...   \n",
       "362  data science, version control (i.e. git), GitH...         4.0   \n",
       "363        Python, Jupyter Notebooks, machine learning         2.0   \n",
       "364                                  none of the above         4.0   \n",
       "365                                  none of the above         4.0   \n",
       "366                                            p-value         6.0   \n",
       "\n",
       "     programming  \n",
       "0            7.0  \n",
       "1            4.0  \n",
       "2            NaN  \n",
       "3           10.0  \n",
       "4            NaN  \n",
       "..           ...  \n",
       "362          6.0  \n",
       "363          8.0  \n",
       "364          3.0  \n",
       "365          5.0  \n",
       "366          5.0  \n",
       "\n",
       "[367 rows x 9 columns]"
      ]
     },
     "execution_count": 36,
     "metadata": {},
     "output_type": "execute_result"
    }
   ],
   "source": [
    "df.columns = ['ID', 'enrolled', 'tech_access', 'timezone', 'objectives_pre', \n",
    "              'language', 'topics', 'statistics', 'programming']\n",
    "df"
   ]
  },
  {
   "cell_type": "markdown",
   "metadata": {
    "slideshow": {
     "slide_type": "-"
    }
   },
   "source": [
    "At a glance and without any additional information, we can tell this is **tabular data** with *observations in rows* and *variables in columns*."
   ]
  },
  {
   "cell_type": "markdown",
   "metadata": {
    "slideshow": {
     "slide_type": "fragment"
    }
   },
   "source": [
    "### Clicker Question #1\n",
    "\n",
    "Should we change the way these data are stored and why?\n",
    "\n",
    "- A) Yes, nested XML is easier to work with\n",
    "- B) Yes, observations should be in columns \n",
    "- C) Yes, nested JSON is easier to work with\n",
    "- D) No, observations in rows is best\n",
    "- E) Some other answer..."
   ]
  },
  {
   "cell_type": "markdown",
   "metadata": {
    "slideshow": {
     "slide_type": "slide"
    }
   },
   "source": [
    "Often the first thing you'll want to know is how big the datset is."
   ]
  },
  {
   "cell_type": "code",
   "execution_count": 37,
   "metadata": {
    "slideshow": {
     "slide_type": "fragment"
    }
   },
   "outputs": [
    {
     "data": {
      "text/plain": [
       "(367, 9)"
      ]
     },
     "execution_count": 37,
     "metadata": {},
     "output_type": "execute_result"
    }
   ],
   "source": [
    "## determine shape of dataset\n",
    "df.shape"
   ]
  },
  {
   "cell_type": "markdown",
   "metadata": {
    "slideshow": {
     "slide_type": "slide"
    }
   },
   "source": [
    "### What type of variable is in each column?"
   ]
  },
  {
   "cell_type": "code",
   "execution_count": 38,
   "metadata": {
    "slideshow": {
     "slide_type": "fragment"
    }
   },
   "outputs": [
    {
     "data": {
      "text/plain": [
       "ID                 object\n",
       "enrolled            int64\n",
       "tech_access        object\n",
       "timezone          float64\n",
       "objectives_pre     object\n",
       "language           object\n",
       "topics             object\n",
       "statistics        float64\n",
       "programming       float64\n",
       "dtype: object"
      ]
     },
     "execution_count": 38,
     "metadata": {},
     "output_type": "execute_result"
    }
   ],
   "source": [
    "df.dtypes "
   ]
  },
  {
   "cell_type": "markdown",
   "metadata": {
    "slideshow": {
     "slide_type": "slide"
    }
   },
   "source": [
    "## Granularity\n",
    "\n",
    "<div class=\"alert alert-info\">\n",
    "The <b>granularity</b> of your data is what each observation in your data represents.\n",
    "</div>"
   ]
  },
  {
   "cell_type": "code",
   "execution_count": 39,
   "metadata": {
    "slideshow": {
     "slide_type": "-"
    }
   },
   "outputs": [
    {
     "data": {
      "text/html": [
       "<div>\n",
       "<style scoped>\n",
       "    .dataframe tbody tr th:only-of-type {\n",
       "        vertical-align: middle;\n",
       "    }\n",
       "\n",
       "    .dataframe tbody tr th {\n",
       "        vertical-align: top;\n",
       "    }\n",
       "\n",
       "    .dataframe thead th {\n",
       "        text-align: right;\n",
       "    }\n",
       "</style>\n",
       "<table border=\"1\" class=\"dataframe\">\n",
       "  <thead>\n",
       "    <tr style=\"text-align: right;\">\n",
       "      <th></th>\n",
       "      <th>ID</th>\n",
       "      <th>enrolled</th>\n",
       "      <th>tech_access</th>\n",
       "      <th>timezone</th>\n",
       "      <th>objectives_pre</th>\n",
       "      <th>language</th>\n",
       "      <th>topics</th>\n",
       "      <th>statistics</th>\n",
       "      <th>programming</th>\n",
       "    </tr>\n",
       "  </thead>\n",
       "  <tbody>\n",
       "    <tr>\n",
       "      <th>0</th>\n",
       "      <td>001_fa21</td>\n",
       "      <td>1</td>\n",
       "      <td>Reliable Internet, A functioning laptop or tab...</td>\n",
       "      <td>-8.0</td>\n",
       "      <td>None of these</td>\n",
       "      <td>Java</td>\n",
       "      <td>none of the above</td>\n",
       "      <td>4.0</td>\n",
       "      <td>7.0</td>\n",
       "    </tr>\n",
       "    <tr>\n",
       "      <th>1</th>\n",
       "      <td>002_fa21</td>\n",
       "      <td>1</td>\n",
       "      <td>A functioning laptop or tablet, Access to YouTube</td>\n",
       "      <td>8.0</td>\n",
       "      <td>Communicate results concisely and effectively ...</td>\n",
       "      <td>Python</td>\n",
       "      <td>Python</td>\n",
       "      <td>6.0</td>\n",
       "      <td>4.0</td>\n",
       "    </tr>\n",
       "    <tr>\n",
       "      <th>2</th>\n",
       "      <td>003_fa21</td>\n",
       "      <td>1</td>\n",
       "      <td>NaN</td>\n",
       "      <td>NaN</td>\n",
       "      <td>NaN</td>\n",
       "      <td>NaN</td>\n",
       "      <td>NaN</td>\n",
       "      <td>NaN</td>\n",
       "      <td>NaN</td>\n",
       "    </tr>\n",
       "    <tr>\n",
       "      <th>3</th>\n",
       "      <td>004_fa21</td>\n",
       "      <td>1</td>\n",
       "      <td>Reliable Internet, A functioning laptop or tab...</td>\n",
       "      <td>-7.0</td>\n",
       "      <td>Formulate a plan for and complete a data scien...</td>\n",
       "      <td>Python, Java, MATLAB, R</td>\n",
       "      <td>data science, version control (i.e. git), GitH...</td>\n",
       "      <td>7.0</td>\n",
       "      <td>10.0</td>\n",
       "    </tr>\n",
       "    <tr>\n",
       "      <th>4</th>\n",
       "      <td>005_fa21</td>\n",
       "      <td>1</td>\n",
       "      <td>NaN</td>\n",
       "      <td>NaN</td>\n",
       "      <td>NaN</td>\n",
       "      <td>NaN</td>\n",
       "      <td>NaN</td>\n",
       "      <td>NaN</td>\n",
       "      <td>NaN</td>\n",
       "    </tr>\n",
       "  </tbody>\n",
       "</table>\n",
       "</div>"
      ],
      "text/plain": [
       "         ID  enrolled                                        tech_access  \\\n",
       "0  001_fa21         1  Reliable Internet, A functioning laptop or tab...   \n",
       "1  002_fa21         1  A functioning laptop or tablet, Access to YouTube   \n",
       "2  003_fa21         1                                                NaN   \n",
       "3  004_fa21         1  Reliable Internet, A functioning laptop or tab...   \n",
       "4  005_fa21         1                                                NaN   \n",
       "\n",
       "   timezone                                     objectives_pre  \\\n",
       "0      -8.0                                      None of these   \n",
       "1       8.0  Communicate results concisely and effectively ...   \n",
       "2       NaN                                                NaN   \n",
       "3      -7.0  Formulate a plan for and complete a data scien...   \n",
       "4       NaN                                                NaN   \n",
       "\n",
       "                  language                                             topics  \\\n",
       "0                     Java                                  none of the above   \n",
       "1                   Python                                             Python   \n",
       "2                      NaN                                                NaN   \n",
       "3  Python, Java, MATLAB, R  data science, version control (i.e. git), GitH...   \n",
       "4                      NaN                                                NaN   \n",
       "\n",
       "   statistics  programming  \n",
       "0         4.0          7.0  \n",
       "1         6.0          4.0  \n",
       "2         NaN          NaN  \n",
       "3         7.0         10.0  \n",
       "4         NaN          NaN  "
      ]
     },
     "execution_count": 39,
     "metadata": {},
     "output_type": "execute_result"
    }
   ],
   "source": [
    "df.head()"
   ]
  },
  {
   "cell_type": "markdown",
   "metadata": {
    "slideshow": {
     "slide_type": "fragment"
    }
   },
   "source": [
    "### Clicker Question #2\n",
    "\n",
    "What's the granularity of this dataset? \n",
    "\n",
    "- A) Individual-Level\n",
    "- B) Group-level\n",
    "- C) Individual-level over time\n",
    "- D) Group-level over time"
   ]
  },
  {
   "cell_type": "markdown",
   "metadata": {
    "slideshow": {
     "slide_type": "slide"
    }
   },
   "source": [
    "## Scope\n",
    "\n",
    "<div class=\"alert alert-info\">\n",
    "The <b>scope</b> of your data describes how helpful these data are with respect to our data science question.\n",
    "</div>"
   ]
  },
  {
   "cell_type": "code",
   "execution_count": null,
   "metadata": {
    "scrolled": true,
    "slideshow": {
     "slide_type": "-"
    }
   },
   "outputs": [],
   "source": [
    "df.shape"
   ]
  },
  {
   "cell_type": "markdown",
   "metadata": {
    "slideshow": {
     "slide_type": "-"
    }
   },
   "source": [
    "### Clicker Question #3\n",
    "\n",
    "If we wanted to understand something about all COGS 108 students this quarter, could we do that with these data? \n",
    "\n",
    "- A) Yes\n",
    "- B) No\n",
    "- C) ¯\\\\\\_(ツ)\\_/¯\n",
    "\n",
    "Note: There are currently 315 students enrolled in COGS 108."
   ]
  },
  {
   "cell_type": "markdown",
   "metadata": {
    "slideshow": {
     "slide_type": "slide"
    }
   },
   "source": [
    "## Temporality?\n",
    "\n",
    "<div class=\"alert alert-info\">\n",
    "The <b>temporality</b> refers to how the data are situated in time. Specifically, we're interested in what data and time information are included in the dataset.\n",
    "</div>\n"
   ]
  },
  {
   "cell_type": "markdown",
   "metadata": {
    "slideshow": {
     "slide_type": "-"
    }
   },
   "source": [
    "Note: I deleted timestamps from the data (just in case students were chatting with one another filling these out, but not sharing the information in them with one another, I didn't want anyone to be able to identify data from any one student), but those data were in there originally."
   ]
  },
  {
   "cell_type": "markdown",
   "metadata": {
    "slideshow": {
     "slide_type": "slide"
    }
   },
   "source": [
    "## Faithfulness?\n",
    "\n",
    "<div class=\"alert alert-info\">\n",
    "The <b>faithfulness</b> of your data is a determination of how trustworthy the data are.\n",
    "</div>"
   ]
  },
  {
   "cell_type": "markdown",
   "metadata": {
    "slideshow": {
     "slide_type": "fragment"
    }
   },
   "source": [
    "First, the data are self reported. There are always concerns on surveys with faithfulness."
   ]
  },
  {
   "cell_type": "code",
   "execution_count": null,
   "metadata": {
    "slideshow": {
     "slide_type": "fragment"
    }
   },
   "outputs": [],
   "source": [
    "df.head()"
   ]
  },
  {
   "cell_type": "code",
   "execution_count": 40,
   "metadata": {},
   "outputs": [
    {
     "data": {
      "text/plain": [
       "1    324\n",
       "0     43\n",
       "Name: enrolled, dtype: int64"
      ]
     },
     "execution_count": 40,
     "metadata": {},
     "output_type": "execute_result"
    }
   ],
   "source": [
    "df['enrolled'].value_counts()"
   ]
  },
  {
   "cell_type": "markdown",
   "metadata": {
    "slideshow": {
     "slide_type": "-"
    }
   },
   "source": [
    "### Clicker Question #4\n",
    "\n",
    "But wait...let's think about the information in this dataset...what does the `enrolled` mean? And why are there a bunch of `NaN` values? Have any idea?\n",
    "\n",
    "- A) I've got some thoughts.\n",
    "- B) No ideas here...\n",
    "- C) What am I supposed to be thinking about?"
   ]
  },
  {
   "cell_type": "markdown",
   "metadata": {
    "slideshow": {
     "slide_type": "slide"
    }
   },
   "source": [
    "## Observations to include?"
   ]
  },
  {
   "cell_type": "code",
   "execution_count": null,
   "metadata": {
    "scrolled": false,
    "slideshow": {
     "slide_type": "-"
    }
   },
   "outputs": [],
   "source": [
    "## breakdown of enrolled\n",
    "df['enrolled'].value_counts()"
   ]
  },
  {
   "cell_type": "code",
   "execution_count": 41,
   "metadata": {
    "scrolled": true,
    "slideshow": {
     "slide_type": "-"
    }
   },
   "outputs": [
    {
     "data": {
      "text/plain": [
       "(324, 9)"
      ]
     },
     "execution_count": 41,
     "metadata": {},
     "output_type": "execute_result"
    }
   ],
   "source": [
    "# only students currently enrolled\n",
    "df = df[df['enrolled'] == 1]\n",
    "df.shape"
   ]
  },
  {
   "cell_type": "markdown",
   "metadata": {
    "slideshow": {
     "slide_type": "fragment"
    }
   },
   "source": [
    "### Clicker Question #5\n",
    "\n",
    "What? Prof Ellis told me there were 315 students in this class....why do we have *more* observations than students enrolled?\n",
    "\n",
    "- A) I've got some thoughts.\n",
    "- B) No ideas here...\n",
    "- C) What am I supposed to be thinking about?\n",
    "\n"
   ]
  },
  {
   "cell_type": "code",
   "execution_count": null,
   "metadata": {
    "slideshow": {
     "slide_type": "fragment"
    }
   },
   "outputs": [],
   "source": [
    "# remove duplicate values\n",
    "# you would have to figure out which to drop in the real world\n",
    "# and chck for consistency of responses\n",
    "df = df.drop_duplicates(subset='ID', keep='last')\n",
    "df.shape"
   ]
  },
  {
   "cell_type": "markdown",
   "metadata": {
    "slideshow": {
     "slide_type": "slide"
    }
   },
   "source": [
    "## Missing values?"
   ]
  },
  {
   "cell_type": "code",
   "execution_count": 51,
   "metadata": {
    "scrolled": true,
    "slideshow": {
     "slide_type": "fragment"
    }
   },
   "outputs": [
    {
     "data": {
      "text/html": [
       "<div>\n",
       "<style scoped>\n",
       "    .dataframe tbody tr th:only-of-type {\n",
       "        vertical-align: middle;\n",
       "    }\n",
       "\n",
       "    .dataframe tbody tr th {\n",
       "        vertical-align: top;\n",
       "    }\n",
       "\n",
       "    .dataframe thead th {\n",
       "        text-align: right;\n",
       "    }\n",
       "</style>\n",
       "<table border=\"1\" class=\"dataframe\">\n",
       "  <thead>\n",
       "    <tr style=\"text-align: right;\">\n",
       "      <th></th>\n",
       "      <th>ID</th>\n",
       "      <th>enrolled</th>\n",
       "      <th>tech_access</th>\n",
       "      <th>timezone</th>\n",
       "      <th>objectives_pre</th>\n",
       "      <th>language</th>\n",
       "      <th>topics</th>\n",
       "      <th>statistics</th>\n",
       "      <th>programming</th>\n",
       "    </tr>\n",
       "  </thead>\n",
       "  <tbody>\n",
       "    <tr>\n",
       "      <th>2</th>\n",
       "      <td>003_fa21</td>\n",
       "      <td>1</td>\n",
       "      <td>NaN</td>\n",
       "      <td>NaN</td>\n",
       "      <td>NaN</td>\n",
       "      <td>NaN</td>\n",
       "      <td>NaN</td>\n",
       "      <td>NaN</td>\n",
       "      <td>NaN</td>\n",
       "    </tr>\n",
       "    <tr>\n",
       "      <th>4</th>\n",
       "      <td>005_fa21</td>\n",
       "      <td>1</td>\n",
       "      <td>NaN</td>\n",
       "      <td>NaN</td>\n",
       "      <td>NaN</td>\n",
       "      <td>NaN</td>\n",
       "      <td>NaN</td>\n",
       "      <td>NaN</td>\n",
       "      <td>NaN</td>\n",
       "    </tr>\n",
       "    <tr>\n",
       "      <th>5</th>\n",
       "      <td>006_fa21</td>\n",
       "      <td>1</td>\n",
       "      <td>NaN</td>\n",
       "      <td>NaN</td>\n",
       "      <td>NaN</td>\n",
       "      <td>NaN</td>\n",
       "      <td>NaN</td>\n",
       "      <td>NaN</td>\n",
       "      <td>NaN</td>\n",
       "    </tr>\n",
       "    <tr>\n",
       "      <th>6</th>\n",
       "      <td>007_fa21</td>\n",
       "      <td>1</td>\n",
       "      <td>NaN</td>\n",
       "      <td>NaN</td>\n",
       "      <td>NaN</td>\n",
       "      <td>NaN</td>\n",
       "      <td>NaN</td>\n",
       "      <td>NaN</td>\n",
       "      <td>NaN</td>\n",
       "    </tr>\n",
       "    <tr>\n",
       "      <th>7</th>\n",
       "      <td>008_fa21</td>\n",
       "      <td>1</td>\n",
       "      <td>NaN</td>\n",
       "      <td>NaN</td>\n",
       "      <td>NaN</td>\n",
       "      <td>NaN</td>\n",
       "      <td>NaN</td>\n",
       "      <td>NaN</td>\n",
       "      <td>NaN</td>\n",
       "    </tr>\n",
       "    <tr>\n",
       "      <th>10</th>\n",
       "      <td>011_fa21</td>\n",
       "      <td>1</td>\n",
       "      <td>NaN</td>\n",
       "      <td>NaN</td>\n",
       "      <td>NaN</td>\n",
       "      <td>NaN</td>\n",
       "      <td>NaN</td>\n",
       "      <td>NaN</td>\n",
       "      <td>NaN</td>\n",
       "    </tr>\n",
       "    <tr>\n",
       "      <th>60</th>\n",
       "      <td>058_fa21</td>\n",
       "      <td>1</td>\n",
       "      <td>NaN</td>\n",
       "      <td>NaN</td>\n",
       "      <td>NaN</td>\n",
       "      <td>NaN</td>\n",
       "      <td>NaN</td>\n",
       "      <td>NaN</td>\n",
       "      <td>NaN</td>\n",
       "    </tr>\n",
       "    <tr>\n",
       "      <th>64</th>\n",
       "      <td>062_fa21</td>\n",
       "      <td>1</td>\n",
       "      <td>NaN</td>\n",
       "      <td>NaN</td>\n",
       "      <td>NaN</td>\n",
       "      <td>NaN</td>\n",
       "      <td>NaN</td>\n",
       "      <td>NaN</td>\n",
       "      <td>NaN</td>\n",
       "    </tr>\n",
       "    <tr>\n",
       "      <th>75</th>\n",
       "      <td>073_fa21</td>\n",
       "      <td>1</td>\n",
       "      <td>NaN</td>\n",
       "      <td>NaN</td>\n",
       "      <td>NaN</td>\n",
       "      <td>NaN</td>\n",
       "      <td>NaN</td>\n",
       "      <td>NaN</td>\n",
       "      <td>NaN</td>\n",
       "    </tr>\n",
       "    <tr>\n",
       "      <th>78</th>\n",
       "      <td>076_fa21</td>\n",
       "      <td>1</td>\n",
       "      <td>NaN</td>\n",
       "      <td>NaN</td>\n",
       "      <td>NaN</td>\n",
       "      <td>NaN</td>\n",
       "      <td>NaN</td>\n",
       "      <td>NaN</td>\n",
       "      <td>NaN</td>\n",
       "    </tr>\n",
       "    <tr>\n",
       "      <th>80</th>\n",
       "      <td>078_fa21</td>\n",
       "      <td>1</td>\n",
       "      <td>NaN</td>\n",
       "      <td>NaN</td>\n",
       "      <td>NaN</td>\n",
       "      <td>NaN</td>\n",
       "      <td>NaN</td>\n",
       "      <td>NaN</td>\n",
       "      <td>NaN</td>\n",
       "    </tr>\n",
       "    <tr>\n",
       "      <th>82</th>\n",
       "      <td>080_fa21</td>\n",
       "      <td>1</td>\n",
       "      <td>NaN</td>\n",
       "      <td>NaN</td>\n",
       "      <td>NaN</td>\n",
       "      <td>NaN</td>\n",
       "      <td>NaN</td>\n",
       "      <td>NaN</td>\n",
       "      <td>NaN</td>\n",
       "    </tr>\n",
       "    <tr>\n",
       "      <th>89</th>\n",
       "      <td>087_fa21</td>\n",
       "      <td>1</td>\n",
       "      <td>NaN</td>\n",
       "      <td>NaN</td>\n",
       "      <td>NaN</td>\n",
       "      <td>NaN</td>\n",
       "      <td>NaN</td>\n",
       "      <td>NaN</td>\n",
       "      <td>NaN</td>\n",
       "    </tr>\n",
       "    <tr>\n",
       "      <th>91</th>\n",
       "      <td>089_fa21</td>\n",
       "      <td>1</td>\n",
       "      <td>NaN</td>\n",
       "      <td>NaN</td>\n",
       "      <td>NaN</td>\n",
       "      <td>NaN</td>\n",
       "      <td>NaN</td>\n",
       "      <td>NaN</td>\n",
       "      <td>NaN</td>\n",
       "    </tr>\n",
       "    <tr>\n",
       "      <th>95</th>\n",
       "      <td>093_fa21</td>\n",
       "      <td>1</td>\n",
       "      <td>NaN</td>\n",
       "      <td>NaN</td>\n",
       "      <td>NaN</td>\n",
       "      <td>NaN</td>\n",
       "      <td>NaN</td>\n",
       "      <td>NaN</td>\n",
       "      <td>NaN</td>\n",
       "    </tr>\n",
       "    <tr>\n",
       "      <th>96</th>\n",
       "      <td>094_fa21</td>\n",
       "      <td>1</td>\n",
       "      <td>NaN</td>\n",
       "      <td>NaN</td>\n",
       "      <td>NaN</td>\n",
       "      <td>NaN</td>\n",
       "      <td>NaN</td>\n",
       "      <td>NaN</td>\n",
       "      <td>NaN</td>\n",
       "    </tr>\n",
       "    <tr>\n",
       "      <th>112</th>\n",
       "      <td>110_fa21</td>\n",
       "      <td>1</td>\n",
       "      <td>NaN</td>\n",
       "      <td>NaN</td>\n",
       "      <td>NaN</td>\n",
       "      <td>NaN</td>\n",
       "      <td>NaN</td>\n",
       "      <td>NaN</td>\n",
       "      <td>NaN</td>\n",
       "    </tr>\n",
       "    <tr>\n",
       "      <th>119</th>\n",
       "      <td>116_fa21</td>\n",
       "      <td>1</td>\n",
       "      <td>NaN</td>\n",
       "      <td>NaN</td>\n",
       "      <td>NaN</td>\n",
       "      <td>NaN</td>\n",
       "      <td>NaN</td>\n",
       "      <td>NaN</td>\n",
       "      <td>NaN</td>\n",
       "    </tr>\n",
       "    <tr>\n",
       "      <th>125</th>\n",
       "      <td>122_fa21</td>\n",
       "      <td>1</td>\n",
       "      <td>NaN</td>\n",
       "      <td>NaN</td>\n",
       "      <td>NaN</td>\n",
       "      <td>NaN</td>\n",
       "      <td>NaN</td>\n",
       "      <td>NaN</td>\n",
       "      <td>NaN</td>\n",
       "    </tr>\n",
       "    <tr>\n",
       "      <th>145</th>\n",
       "      <td>141_fa21</td>\n",
       "      <td>1</td>\n",
       "      <td>NaN</td>\n",
       "      <td>NaN</td>\n",
       "      <td>NaN</td>\n",
       "      <td>NaN</td>\n",
       "      <td>NaN</td>\n",
       "      <td>NaN</td>\n",
       "      <td>NaN</td>\n",
       "    </tr>\n",
       "    <tr>\n",
       "      <th>165</th>\n",
       "      <td>161_fa21</td>\n",
       "      <td>1</td>\n",
       "      <td>NaN</td>\n",
       "      <td>NaN</td>\n",
       "      <td>NaN</td>\n",
       "      <td>NaN</td>\n",
       "      <td>NaN</td>\n",
       "      <td>NaN</td>\n",
       "      <td>NaN</td>\n",
       "    </tr>\n",
       "    <tr>\n",
       "      <th>178</th>\n",
       "      <td>174_fa21</td>\n",
       "      <td>1</td>\n",
       "      <td>NaN</td>\n",
       "      <td>NaN</td>\n",
       "      <td>NaN</td>\n",
       "      <td>NaN</td>\n",
       "      <td>NaN</td>\n",
       "      <td>NaN</td>\n",
       "      <td>NaN</td>\n",
       "    </tr>\n",
       "    <tr>\n",
       "      <th>232</th>\n",
       "      <td>226_fa21</td>\n",
       "      <td>1</td>\n",
       "      <td>NaN</td>\n",
       "      <td>NaN</td>\n",
       "      <td>NaN</td>\n",
       "      <td>NaN</td>\n",
       "      <td>NaN</td>\n",
       "      <td>NaN</td>\n",
       "      <td>NaN</td>\n",
       "    </tr>\n",
       "    <tr>\n",
       "      <th>235</th>\n",
       "      <td>229_fa21</td>\n",
       "      <td>1</td>\n",
       "      <td>NaN</td>\n",
       "      <td>NaN</td>\n",
       "      <td>NaN</td>\n",
       "      <td>NaN</td>\n",
       "      <td>NaN</td>\n",
       "      <td>NaN</td>\n",
       "      <td>NaN</td>\n",
       "    </tr>\n",
       "    <tr>\n",
       "      <th>242</th>\n",
       "      <td>236_fa21</td>\n",
       "      <td>1</td>\n",
       "      <td>NaN</td>\n",
       "      <td>NaN</td>\n",
       "      <td>NaN</td>\n",
       "      <td>NaN</td>\n",
       "      <td>NaN</td>\n",
       "      <td>NaN</td>\n",
       "      <td>NaN</td>\n",
       "    </tr>\n",
       "    <tr>\n",
       "      <th>246</th>\n",
       "      <td>239_fa21</td>\n",
       "      <td>1</td>\n",
       "      <td>NaN</td>\n",
       "      <td>NaN</td>\n",
       "      <td>NaN</td>\n",
       "      <td>NaN</td>\n",
       "      <td>NaN</td>\n",
       "      <td>NaN</td>\n",
       "      <td>NaN</td>\n",
       "    </tr>\n",
       "    <tr>\n",
       "      <th>267</th>\n",
       "      <td>260_fa21</td>\n",
       "      <td>1</td>\n",
       "      <td>NaN</td>\n",
       "      <td>NaN</td>\n",
       "      <td>NaN</td>\n",
       "      <td>NaN</td>\n",
       "      <td>NaN</td>\n",
       "      <td>NaN</td>\n",
       "      <td>NaN</td>\n",
       "    </tr>\n",
       "    <tr>\n",
       "      <th>275</th>\n",
       "      <td>268_fa21</td>\n",
       "      <td>1</td>\n",
       "      <td>NaN</td>\n",
       "      <td>NaN</td>\n",
       "      <td>NaN</td>\n",
       "      <td>NaN</td>\n",
       "      <td>NaN</td>\n",
       "      <td>NaN</td>\n",
       "      <td>NaN</td>\n",
       "    </tr>\n",
       "    <tr>\n",
       "      <th>281</th>\n",
       "      <td>274_fa21</td>\n",
       "      <td>1</td>\n",
       "      <td>NaN</td>\n",
       "      <td>NaN</td>\n",
       "      <td>NaN</td>\n",
       "      <td>NaN</td>\n",
       "      <td>NaN</td>\n",
       "      <td>NaN</td>\n",
       "      <td>NaN</td>\n",
       "    </tr>\n",
       "    <tr>\n",
       "      <th>285</th>\n",
       "      <td>278_fa21</td>\n",
       "      <td>1</td>\n",
       "      <td>NaN</td>\n",
       "      <td>NaN</td>\n",
       "      <td>NaN</td>\n",
       "      <td>NaN</td>\n",
       "      <td>NaN</td>\n",
       "      <td>NaN</td>\n",
       "      <td>NaN</td>\n",
       "    </tr>\n",
       "    <tr>\n",
       "      <th>293</th>\n",
       "      <td>286_fa21</td>\n",
       "      <td>1</td>\n",
       "      <td>NaN</td>\n",
       "      <td>NaN</td>\n",
       "      <td>NaN</td>\n",
       "      <td>NaN</td>\n",
       "      <td>NaN</td>\n",
       "      <td>NaN</td>\n",
       "      <td>NaN</td>\n",
       "    </tr>\n",
       "    <tr>\n",
       "      <th>295</th>\n",
       "      <td>288_fa21</td>\n",
       "      <td>1</td>\n",
       "      <td>NaN</td>\n",
       "      <td>NaN</td>\n",
       "      <td>NaN</td>\n",
       "      <td>NaN</td>\n",
       "      <td>NaN</td>\n",
       "      <td>NaN</td>\n",
       "      <td>NaN</td>\n",
       "    </tr>\n",
       "    <tr>\n",
       "      <th>297</th>\n",
       "      <td>290_fa21</td>\n",
       "      <td>1</td>\n",
       "      <td>NaN</td>\n",
       "      <td>NaN</td>\n",
       "      <td>NaN</td>\n",
       "      <td>NaN</td>\n",
       "      <td>NaN</td>\n",
       "      <td>NaN</td>\n",
       "      <td>NaN</td>\n",
       "    </tr>\n",
       "    <tr>\n",
       "      <th>301</th>\n",
       "      <td>294_fa21</td>\n",
       "      <td>1</td>\n",
       "      <td>NaN</td>\n",
       "      <td>NaN</td>\n",
       "      <td>NaN</td>\n",
       "      <td>NaN</td>\n",
       "      <td>NaN</td>\n",
       "      <td>NaN</td>\n",
       "      <td>NaN</td>\n",
       "    </tr>\n",
       "    <tr>\n",
       "      <th>309</th>\n",
       "      <td>301_fa21</td>\n",
       "      <td>1</td>\n",
       "      <td>NaN</td>\n",
       "      <td>NaN</td>\n",
       "      <td>NaN</td>\n",
       "      <td>NaN</td>\n",
       "      <td>NaN</td>\n",
       "      <td>NaN</td>\n",
       "      <td>NaN</td>\n",
       "    </tr>\n",
       "    <tr>\n",
       "      <th>313</th>\n",
       "      <td>305_fa21</td>\n",
       "      <td>1</td>\n",
       "      <td>NaN</td>\n",
       "      <td>NaN</td>\n",
       "      <td>NaN</td>\n",
       "      <td>NaN</td>\n",
       "      <td>NaN</td>\n",
       "      <td>NaN</td>\n",
       "      <td>NaN</td>\n",
       "    </tr>\n",
       "  </tbody>\n",
       "</table>\n",
       "</div>"
      ],
      "text/plain": [
       "           ID  enrolled tech_access  timezone objectives_pre language topics  \\\n",
       "2    003_fa21         1         NaN       NaN            NaN      NaN    NaN   \n",
       "4    005_fa21         1         NaN       NaN            NaN      NaN    NaN   \n",
       "5    006_fa21         1         NaN       NaN            NaN      NaN    NaN   \n",
       "6    007_fa21         1         NaN       NaN            NaN      NaN    NaN   \n",
       "7    008_fa21         1         NaN       NaN            NaN      NaN    NaN   \n",
       "10   011_fa21         1         NaN       NaN            NaN      NaN    NaN   \n",
       "60   058_fa21         1         NaN       NaN            NaN      NaN    NaN   \n",
       "64   062_fa21         1         NaN       NaN            NaN      NaN    NaN   \n",
       "75   073_fa21         1         NaN       NaN            NaN      NaN    NaN   \n",
       "78   076_fa21         1         NaN       NaN            NaN      NaN    NaN   \n",
       "80   078_fa21         1         NaN       NaN            NaN      NaN    NaN   \n",
       "82   080_fa21         1         NaN       NaN            NaN      NaN    NaN   \n",
       "89   087_fa21         1         NaN       NaN            NaN      NaN    NaN   \n",
       "91   089_fa21         1         NaN       NaN            NaN      NaN    NaN   \n",
       "95   093_fa21         1         NaN       NaN            NaN      NaN    NaN   \n",
       "96   094_fa21         1         NaN       NaN            NaN      NaN    NaN   \n",
       "112  110_fa21         1         NaN       NaN            NaN      NaN    NaN   \n",
       "119  116_fa21         1         NaN       NaN            NaN      NaN    NaN   \n",
       "125  122_fa21         1         NaN       NaN            NaN      NaN    NaN   \n",
       "145  141_fa21         1         NaN       NaN            NaN      NaN    NaN   \n",
       "165  161_fa21         1         NaN       NaN            NaN      NaN    NaN   \n",
       "178  174_fa21         1         NaN       NaN            NaN      NaN    NaN   \n",
       "232  226_fa21         1         NaN       NaN            NaN      NaN    NaN   \n",
       "235  229_fa21         1         NaN       NaN            NaN      NaN    NaN   \n",
       "242  236_fa21         1         NaN       NaN            NaN      NaN    NaN   \n",
       "246  239_fa21         1         NaN       NaN            NaN      NaN    NaN   \n",
       "267  260_fa21         1         NaN       NaN            NaN      NaN    NaN   \n",
       "275  268_fa21         1         NaN       NaN            NaN      NaN    NaN   \n",
       "281  274_fa21         1         NaN       NaN            NaN      NaN    NaN   \n",
       "285  278_fa21         1         NaN       NaN            NaN      NaN    NaN   \n",
       "293  286_fa21         1         NaN       NaN            NaN      NaN    NaN   \n",
       "295  288_fa21         1         NaN       NaN            NaN      NaN    NaN   \n",
       "297  290_fa21         1         NaN       NaN            NaN      NaN    NaN   \n",
       "301  294_fa21         1         NaN       NaN            NaN      NaN    NaN   \n",
       "309  301_fa21         1         NaN       NaN            NaN      NaN    NaN   \n",
       "313  305_fa21         1         NaN       NaN            NaN      NaN    NaN   \n",
       "\n",
       "     statistics  programming  \n",
       "2           NaN          NaN  \n",
       "4           NaN          NaN  \n",
       "5           NaN          NaN  \n",
       "6           NaN          NaN  \n",
       "7           NaN          NaN  \n",
       "10          NaN          NaN  \n",
       "60          NaN          NaN  \n",
       "64          NaN          NaN  \n",
       "75          NaN          NaN  \n",
       "78          NaN          NaN  \n",
       "80          NaN          NaN  \n",
       "82          NaN          NaN  \n",
       "89          NaN          NaN  \n",
       "91          NaN          NaN  \n",
       "95          NaN          NaN  \n",
       "96          NaN          NaN  \n",
       "112         NaN          NaN  \n",
       "119         NaN          NaN  \n",
       "125         NaN          NaN  \n",
       "145         NaN          NaN  \n",
       "165         NaN          NaN  \n",
       "178         NaN          NaN  \n",
       "232         NaN          NaN  \n",
       "235         NaN          NaN  \n",
       "242         NaN          NaN  \n",
       "246         NaN          NaN  \n",
       "267         NaN          NaN  \n",
       "275         NaN          NaN  \n",
       "281         NaN          NaN  \n",
       "285         NaN          NaN  \n",
       "293         NaN          NaN  \n",
       "295         NaN          NaN  \n",
       "297         NaN          NaN  \n",
       "301         NaN          NaN  \n",
       "309         NaN          NaN  \n",
       "313         NaN          NaN  "
      ]
     },
     "execution_count": 51,
     "metadata": {},
     "output_type": "execute_result"
    }
   ],
   "source": [
    "null_rows = df.isnull().any(axis=1)\n",
    "df[null_rows]"
   ]
  },
  {
   "cell_type": "markdown",
   "metadata": {
    "slideshow": {
     "slide_type": "fragment"
    }
   },
   "source": [
    "### Clicker Question #6\n",
    "\n",
    "Why are there so many `NaN`s?\n",
    "\n",
    "- A) I've got some thoughts.\n",
    "- B) No ideas here...\n",
    "- C) What am I supposed to be thinking about?"
   ]
  },
  {
   "cell_type": "code",
   "execution_count": 52,
   "metadata": {
    "slideshow": {
     "slide_type": "fragment"
    }
   },
   "outputs": [
    {
     "data": {
      "text/plain": [
       "36"
      ]
     },
     "execution_count": 52,
     "metadata": {},
     "output_type": "execute_result"
    }
   ],
   "source": [
    "# we'd expect to drop 36 rows\n",
    "sum(null_rows)"
   ]
  },
  {
   "cell_type": "code",
   "execution_count": 53,
   "metadata": {
    "slideshow": {
     "slide_type": "-"
    }
   },
   "outputs": [
    {
     "data": {
      "text/plain": [
       "(288, 9)"
      ]
     },
     "execution_count": 53,
     "metadata": {},
     "output_type": "execute_result"
    }
   ],
   "source": [
    "# drop those who didn't respond to the survey\n",
    "df = df.dropna(how='any').reset_index(drop=True)\n",
    "df.shape"
   ]
  },
  {
   "cell_type": "code",
   "execution_count": 54,
   "metadata": {},
   "outputs": [
    {
     "data": {
      "text/html": [
       "<div>\n",
       "<style scoped>\n",
       "    .dataframe tbody tr th:only-of-type {\n",
       "        vertical-align: middle;\n",
       "    }\n",
       "\n",
       "    .dataframe tbody tr th {\n",
       "        vertical-align: top;\n",
       "    }\n",
       "\n",
       "    .dataframe thead th {\n",
       "        text-align: right;\n",
       "    }\n",
       "</style>\n",
       "<table border=\"1\" class=\"dataframe\">\n",
       "  <thead>\n",
       "    <tr style=\"text-align: right;\">\n",
       "      <th></th>\n",
       "      <th>ID</th>\n",
       "      <th>enrolled</th>\n",
       "      <th>tech_access</th>\n",
       "      <th>timezone</th>\n",
       "      <th>objectives_pre</th>\n",
       "      <th>language</th>\n",
       "      <th>topics</th>\n",
       "      <th>statistics</th>\n",
       "      <th>programming</th>\n",
       "    </tr>\n",
       "  </thead>\n",
       "  <tbody>\n",
       "    <tr>\n",
       "      <th>0</th>\n",
       "      <td>001_fa21</td>\n",
       "      <td>1</td>\n",
       "      <td>Reliable Internet, A functioning laptop or tab...</td>\n",
       "      <td>-8.0</td>\n",
       "      <td>None of these</td>\n",
       "      <td>Java</td>\n",
       "      <td>none of the above</td>\n",
       "      <td>4.0</td>\n",
       "      <td>7.0</td>\n",
       "    </tr>\n",
       "    <tr>\n",
       "      <th>1</th>\n",
       "      <td>002_fa21</td>\n",
       "      <td>1</td>\n",
       "      <td>A functioning laptop or tablet, Access to YouTube</td>\n",
       "      <td>8.0</td>\n",
       "      <td>Communicate results concisely and effectively ...</td>\n",
       "      <td>Python</td>\n",
       "      <td>Python</td>\n",
       "      <td>6.0</td>\n",
       "      <td>4.0</td>\n",
       "    </tr>\n",
       "    <tr>\n",
       "      <th>2</th>\n",
       "      <td>004_fa21</td>\n",
       "      <td>1</td>\n",
       "      <td>Reliable Internet, A functioning laptop or tab...</td>\n",
       "      <td>-7.0</td>\n",
       "      <td>Formulate a plan for and complete a data scien...</td>\n",
       "      <td>Python, Java, MATLAB, R</td>\n",
       "      <td>data science, version control (i.e. git), GitH...</td>\n",
       "      <td>7.0</td>\n",
       "      <td>10.0</td>\n",
       "    </tr>\n",
       "    <tr>\n",
       "      <th>3</th>\n",
       "      <td>009_fa21</td>\n",
       "      <td>1</td>\n",
       "      <td>Reliable Internet, A functioning laptop or tab...</td>\n",
       "      <td>3.0</td>\n",
       "      <td>Formulate a plan for and complete a data scien...</td>\n",
       "      <td>Python, R</td>\n",
       "      <td>data science, Python, Jupyter Notebooks, confo...</td>\n",
       "      <td>7.0</td>\n",
       "      <td>4.0</td>\n",
       "    </tr>\n",
       "    <tr>\n",
       "      <th>4</th>\n",
       "      <td>010_fa21</td>\n",
       "      <td>1</td>\n",
       "      <td>Reliable Internet, A functioning laptop or tab...</td>\n",
       "      <td>-7.0</td>\n",
       "      <td>None of these</td>\n",
       "      <td>Java</td>\n",
       "      <td>GitHub</td>\n",
       "      <td>4.0</td>\n",
       "      <td>9.0</td>\n",
       "    </tr>\n",
       "    <tr>\n",
       "      <th>...</th>\n",
       "      <td>...</td>\n",
       "      <td>...</td>\n",
       "      <td>...</td>\n",
       "      <td>...</td>\n",
       "      <td>...</td>\n",
       "      <td>...</td>\n",
       "      <td>...</td>\n",
       "      <td>...</td>\n",
       "      <td>...</td>\n",
       "    </tr>\n",
       "    <tr>\n",
       "      <th>283</th>\n",
       "      <td>311_fa21</td>\n",
       "      <td>1</td>\n",
       "      <td>Reliable Internet, A functioning laptop or tab...</td>\n",
       "      <td>-7.0</td>\n",
       "      <td>None of these</td>\n",
       "      <td>Java</td>\n",
       "      <td>Python, A|B testing</td>\n",
       "      <td>3.0</td>\n",
       "      <td>5.0</td>\n",
       "    </tr>\n",
       "    <tr>\n",
       "      <th>284</th>\n",
       "      <td>312_fa21</td>\n",
       "      <td>1</td>\n",
       "      <td>Reliable Internet, A functioning laptop or tab...</td>\n",
       "      <td>-7.0</td>\n",
       "      <td>Explain and carry out descriptive, exploratory...</td>\n",
       "      <td>Python, Java, MATLAB</td>\n",
       "      <td>version control (i.e. git), GitHub, Python, Ju...</td>\n",
       "      <td>6.0</td>\n",
       "      <td>9.0</td>\n",
       "    </tr>\n",
       "    <tr>\n",
       "      <th>285</th>\n",
       "      <td>313_fa21</td>\n",
       "      <td>1</td>\n",
       "      <td>Reliable Internet, A functioning laptop or tab...</td>\n",
       "      <td>-7.0</td>\n",
       "      <td>Explain and carry out descriptive, exploratory...</td>\n",
       "      <td>Python</td>\n",
       "      <td>Python, Jupyter Notebooks, tabular data, p-value</td>\n",
       "      <td>6.0</td>\n",
       "      <td>3.0</td>\n",
       "    </tr>\n",
       "    <tr>\n",
       "      <th>286</th>\n",
       "      <td>314_fa21</td>\n",
       "      <td>1</td>\n",
       "      <td>Reliable Internet, A functioning laptop or tab...</td>\n",
       "      <td>-7.0</td>\n",
       "      <td>Explain and carry out descriptive, exploratory...</td>\n",
       "      <td>Java</td>\n",
       "      <td>version control (i.e. git), GitHub, Jupyter No...</td>\n",
       "      <td>7.0</td>\n",
       "      <td>9.0</td>\n",
       "    </tr>\n",
       "    <tr>\n",
       "      <th>287</th>\n",
       "      <td>315_fa21</td>\n",
       "      <td>1</td>\n",
       "      <td>A functioning laptop or tablet, Access to YouTube</td>\n",
       "      <td>-7.0</td>\n",
       "      <td>Communicate results concisely and effectively ...</td>\n",
       "      <td>Python, Java</td>\n",
       "      <td>version control (i.e. git), GitHub, Python, JSON</td>\n",
       "      <td>5.0</td>\n",
       "      <td>10.0</td>\n",
       "    </tr>\n",
       "  </tbody>\n",
       "</table>\n",
       "<p>288 rows × 9 columns</p>\n",
       "</div>"
      ],
      "text/plain": [
       "           ID  enrolled                                        tech_access  \\\n",
       "0    001_fa21         1  Reliable Internet, A functioning laptop or tab...   \n",
       "1    002_fa21         1  A functioning laptop or tablet, Access to YouTube   \n",
       "2    004_fa21         1  Reliable Internet, A functioning laptop or tab...   \n",
       "3    009_fa21         1  Reliable Internet, A functioning laptop or tab...   \n",
       "4    010_fa21         1  Reliable Internet, A functioning laptop or tab...   \n",
       "..        ...       ...                                                ...   \n",
       "283  311_fa21         1  Reliable Internet, A functioning laptop or tab...   \n",
       "284  312_fa21         1  Reliable Internet, A functioning laptop or tab...   \n",
       "285  313_fa21         1  Reliable Internet, A functioning laptop or tab...   \n",
       "286  314_fa21         1  Reliable Internet, A functioning laptop or tab...   \n",
       "287  315_fa21         1  A functioning laptop or tablet, Access to YouTube   \n",
       "\n",
       "     timezone                                     objectives_pre  \\\n",
       "0        -8.0                                      None of these   \n",
       "1         8.0  Communicate results concisely and effectively ...   \n",
       "2        -7.0  Formulate a plan for and complete a data scien...   \n",
       "3         3.0  Formulate a plan for and complete a data scien...   \n",
       "4        -7.0                                      None of these   \n",
       "..        ...                                                ...   \n",
       "283      -7.0                                      None of these   \n",
       "284      -7.0  Explain and carry out descriptive, exploratory...   \n",
       "285      -7.0  Explain and carry out descriptive, exploratory...   \n",
       "286      -7.0  Explain and carry out descriptive, exploratory...   \n",
       "287      -7.0  Communicate results concisely and effectively ...   \n",
       "\n",
       "                    language  \\\n",
       "0                       Java   \n",
       "1                     Python   \n",
       "2    Python, Java, MATLAB, R   \n",
       "3                  Python, R   \n",
       "4                       Java   \n",
       "..                       ...   \n",
       "283                     Java   \n",
       "284     Python, Java, MATLAB   \n",
       "285                   Python   \n",
       "286                     Java   \n",
       "287             Python, Java   \n",
       "\n",
       "                                                topics  statistics  \\\n",
       "0                                    none of the above         4.0   \n",
       "1                                               Python         6.0   \n",
       "2    data science, version control (i.e. git), GitH...         7.0   \n",
       "3    data science, Python, Jupyter Notebooks, confo...         7.0   \n",
       "4                                               GitHub         4.0   \n",
       "..                                                 ...         ...   \n",
       "283                                Python, A|B testing         3.0   \n",
       "284  version control (i.e. git), GitHub, Python, Ju...         6.0   \n",
       "285   Python, Jupyter Notebooks, tabular data, p-value         6.0   \n",
       "286  version control (i.e. git), GitHub, Jupyter No...         7.0   \n",
       "287   version control (i.e. git), GitHub, Python, JSON         5.0   \n",
       "\n",
       "     programming  \n",
       "0            7.0  \n",
       "1            4.0  \n",
       "2           10.0  \n",
       "3            4.0  \n",
       "4            9.0  \n",
       "..           ...  \n",
       "283          5.0  \n",
       "284          9.0  \n",
       "285          3.0  \n",
       "286          9.0  \n",
       "287         10.0  \n",
       "\n",
       "[288 rows x 9 columns]"
      ]
     },
     "execution_count": 54,
     "metadata": {},
     "output_type": "execute_result"
    }
   ],
   "source": [
    "df"
   ]
  },
  {
   "cell_type": "markdown",
   "metadata": {
    "slideshow": {
     "slide_type": "slide"
    }
   },
   "source": [
    "## Expected values? Wild outliers?\n",
    "\n",
    "We'll look at each of the variables in the dataset to see if any thing looks *off*."
   ]
  },
  {
   "cell_type": "code",
   "execution_count": 55,
   "metadata": {
    "scrolled": true,
    "slideshow": {
     "slide_type": "slide"
    }
   },
   "outputs": [
    {
     "data": {
      "text/html": [
       "<div>\n",
       "<style scoped>\n",
       "    .dataframe tbody tr th:only-of-type {\n",
       "        vertical-align: middle;\n",
       "    }\n",
       "\n",
       "    .dataframe tbody tr th {\n",
       "        vertical-align: top;\n",
       "    }\n",
       "\n",
       "    .dataframe thead th {\n",
       "        text-align: right;\n",
       "    }\n",
       "</style>\n",
       "<table border=\"1\" class=\"dataframe\">\n",
       "  <thead>\n",
       "    <tr style=\"text-align: right;\">\n",
       "      <th></th>\n",
       "      <th>enrolled</th>\n",
       "      <th>timezone</th>\n",
       "      <th>statistics</th>\n",
       "      <th>programming</th>\n",
       "    </tr>\n",
       "  </thead>\n",
       "  <tbody>\n",
       "    <tr>\n",
       "      <th>count</th>\n",
       "      <td>288.0</td>\n",
       "      <td>288.000000</td>\n",
       "      <td>288.000000</td>\n",
       "      <td>288.000000</td>\n",
       "    </tr>\n",
       "    <tr>\n",
       "      <th>mean</th>\n",
       "      <td>1.0</td>\n",
       "      <td>-5.618056</td>\n",
       "      <td>5.805556</td>\n",
       "      <td>6.923611</td>\n",
       "    </tr>\n",
       "    <tr>\n",
       "      <th>std</th>\n",
       "      <td>0.0</td>\n",
       "      <td>4.340871</td>\n",
       "      <td>2.035496</td>\n",
       "      <td>2.172299</td>\n",
       "    </tr>\n",
       "    <tr>\n",
       "      <th>min</th>\n",
       "      <td>1.0</td>\n",
       "      <td>-8.000000</td>\n",
       "      <td>1.000000</td>\n",
       "      <td>1.000000</td>\n",
       "    </tr>\n",
       "    <tr>\n",
       "      <th>25%</th>\n",
       "      <td>1.0</td>\n",
       "      <td>-7.000000</td>\n",
       "      <td>4.000000</td>\n",
       "      <td>5.000000</td>\n",
       "    </tr>\n",
       "    <tr>\n",
       "      <th>50%</th>\n",
       "      <td>1.0</td>\n",
       "      <td>-7.000000</td>\n",
       "      <td>6.000000</td>\n",
       "      <td>7.000000</td>\n",
       "    </tr>\n",
       "    <tr>\n",
       "      <th>75%</th>\n",
       "      <td>1.0</td>\n",
       "      <td>-7.000000</td>\n",
       "      <td>7.000000</td>\n",
       "      <td>9.000000</td>\n",
       "    </tr>\n",
       "    <tr>\n",
       "      <th>max</th>\n",
       "      <td>1.0</td>\n",
       "      <td>8.000000</td>\n",
       "      <td>10.000000</td>\n",
       "      <td>10.000000</td>\n",
       "    </tr>\n",
       "  </tbody>\n",
       "</table>\n",
       "</div>"
      ],
      "text/plain": [
       "       enrolled    timezone  statistics  programming\n",
       "count     288.0  288.000000  288.000000   288.000000\n",
       "mean        1.0   -5.618056    5.805556     6.923611\n",
       "std         0.0    4.340871    2.035496     2.172299\n",
       "min         1.0   -8.000000    1.000000     1.000000\n",
       "25%         1.0   -7.000000    4.000000     5.000000\n",
       "50%         1.0   -7.000000    6.000000     7.000000\n",
       "75%         1.0   -7.000000    7.000000     9.000000\n",
       "max         1.0    8.000000   10.000000    10.000000"
      ]
     },
     "execution_count": 55,
     "metadata": {},
     "output_type": "execute_result"
    }
   ],
   "source": [
    "df.describe()"
   ]
  },
  {
   "cell_type": "code",
   "execution_count": 56,
   "metadata": {
    "slideshow": {
     "slide_type": "slide"
    }
   },
   "outputs": [
    {
     "data": {
      "image/png": "[encoded data removed]",
      "text/plain": [
       "<Figure size 1224x504 with 3 Axes>"
      ]
     },
     "metadata": {
      "image/png": {
       "height": 440,
       "width": 1011
      }
     },
     "output_type": "display_data"
    }
   ],
   "source": [
    "plt.subplot(1, 3, 1)\n",
    "sns.histplot(df['statistics'], kde=True, color='#DE2D26')\n",
    "plt.subplot(1, 3, 2)\n",
    "sns.histplot(df['programming'], kde=True, color='#0CBD18')\n",
    "plt.subplot(1, 3, 3)\n",
    "sns.countplot(df['timezone'], color='#940CE8');"
   ]
  },
  {
   "cell_type": "markdown",
   "metadata": {
    "slideshow": {
     "slide_type": "slide"
    }
   },
   "source": [
    "## Categorical Columns\n",
    "\n",
    "Note that we're only focusing on the three columns above, and ignoring `tech_access`, `objectives_pre`, `language`, and `topics`. More cleaning/wrangling would need to be done...I'll show an example of one approach to this for the `language` and `topics` columns now. The idea here is called **one hot encoding** (AKA creating **dummy variables**)"
   ]
  },
  {
   "cell_type": "code",
   "execution_count": 57,
   "metadata": {
    "slideshow": {
     "slide_type": "-"
    }
   },
   "outputs": [],
   "source": [
    "lang = (df.language.str.split('\\s*,\\s*', expand=True) # split on comma\n",
    "       .stack() # reshape multilevel index\n",
    "       .str.get_dummies() # one-hot encode\n",
    "       .sum(level=0))"
   ]
  },
  {
   "cell_type": "code",
   "execution_count": 61,
   "metadata": {},
   "outputs": [
    {
     "data": {
      "text/plain": [
       "0                         Java\n",
       "1                       Python\n",
       "2      Python, Java, MATLAB, R\n",
       "3                    Python, R\n",
       "4                         Java\n",
       "                ...           \n",
       "283                       Java\n",
       "284       Python, Java, MATLAB\n",
       "285                     Python\n",
       "286                       Java\n",
       "287               Python, Java\n",
       "Name: language, Length: 288, dtype: category\n",
       "Categories (24, object): ['Java', 'Java, MATLAB', 'Java, MATLAB, None of these (I'm not comforta..., 'Java, MATLAB, R', ..., 'Python, None of these (I'm comfortable in ano..., 'Python, None of these (I'm not comfortable pr..., 'Python, R', 'R']"
      ]
     },
     "execution_count": 61,
     "metadata": {},
     "output_type": "execute_result"
    }
   ],
   "source": [
    "df.language.astype('category')"
   ]
  },
  {
   "cell_type": "code",
   "execution_count": 58,
   "metadata": {
    "slideshow": {
     "slide_type": "-"
    }
   },
   "outputs": [
    {
     "data": {
      "text/html": [
       "<div>\n",
       "<style scoped>\n",
       "    .dataframe tbody tr th:only-of-type {\n",
       "        vertical-align: middle;\n",
       "    }\n",
       "\n",
       "    .dataframe tbody tr th {\n",
       "        vertical-align: top;\n",
       "    }\n",
       "\n",
       "    .dataframe thead th {\n",
       "        text-align: right;\n",
       "    }\n",
       "</style>\n",
       "<table border=\"1\" class=\"dataframe\">\n",
       "  <thead>\n",
       "    <tr style=\"text-align: right;\">\n",
       "      <th></th>\n",
       "      <th>Java</th>\n",
       "      <th>MATLAB</th>\n",
       "      <th>None of these (I'm comfortable in another language)</th>\n",
       "      <th>None of these (I'm not comfortable programming)</th>\n",
       "      <th>Python</th>\n",
       "      <th>R</th>\n",
       "    </tr>\n",
       "  </thead>\n",
       "  <tbody>\n",
       "    <tr>\n",
       "      <th>0</th>\n",
       "      <td>1</td>\n",
       "      <td>0</td>\n",
       "      <td>0</td>\n",
       "      <td>0</td>\n",
       "      <td>0</td>\n",
       "      <td>0</td>\n",
       "    </tr>\n",
       "    <tr>\n",
       "      <th>1</th>\n",
       "      <td>0</td>\n",
       "      <td>0</td>\n",
       "      <td>0</td>\n",
       "      <td>0</td>\n",
       "      <td>1</td>\n",
       "      <td>0</td>\n",
       "    </tr>\n",
       "    <tr>\n",
       "      <th>2</th>\n",
       "      <td>1</td>\n",
       "      <td>1</td>\n",
       "      <td>0</td>\n",
       "      <td>0</td>\n",
       "      <td>1</td>\n",
       "      <td>1</td>\n",
       "    </tr>\n",
       "    <tr>\n",
       "      <th>3</th>\n",
       "      <td>0</td>\n",
       "      <td>0</td>\n",
       "      <td>0</td>\n",
       "      <td>0</td>\n",
       "      <td>1</td>\n",
       "      <td>1</td>\n",
       "    </tr>\n",
       "    <tr>\n",
       "      <th>4</th>\n",
       "      <td>1</td>\n",
       "      <td>0</td>\n",
       "      <td>0</td>\n",
       "      <td>0</td>\n",
       "      <td>0</td>\n",
       "      <td>0</td>\n",
       "    </tr>\n",
       "    <tr>\n",
       "      <th>...</th>\n",
       "      <td>...</td>\n",
       "      <td>...</td>\n",
       "      <td>...</td>\n",
       "      <td>...</td>\n",
       "      <td>...</td>\n",
       "      <td>...</td>\n",
       "    </tr>\n",
       "    <tr>\n",
       "      <th>283</th>\n",
       "      <td>1</td>\n",
       "      <td>0</td>\n",
       "      <td>0</td>\n",
       "      <td>0</td>\n",
       "      <td>0</td>\n",
       "      <td>0</td>\n",
       "    </tr>\n",
       "    <tr>\n",
       "      <th>284</th>\n",
       "      <td>1</td>\n",
       "      <td>1</td>\n",
       "      <td>0</td>\n",
       "      <td>0</td>\n",
       "      <td>1</td>\n",
       "      <td>0</td>\n",
       "    </tr>\n",
       "    <tr>\n",
       "      <th>285</th>\n",
       "      <td>0</td>\n",
       "      <td>0</td>\n",
       "      <td>0</td>\n",
       "      <td>0</td>\n",
       "      <td>1</td>\n",
       "      <td>0</td>\n",
       "    </tr>\n",
       "    <tr>\n",
       "      <th>286</th>\n",
       "      <td>1</td>\n",
       "      <td>0</td>\n",
       "      <td>0</td>\n",
       "      <td>0</td>\n",
       "      <td>0</td>\n",
       "      <td>0</td>\n",
       "    </tr>\n",
       "    <tr>\n",
       "      <th>287</th>\n",
       "      <td>1</td>\n",
       "      <td>0</td>\n",
       "      <td>0</td>\n",
       "      <td>0</td>\n",
       "      <td>1</td>\n",
       "      <td>0</td>\n",
       "    </tr>\n",
       "  </tbody>\n",
       "</table>\n",
       "<p>288 rows × 6 columns</p>\n",
       "</div>"
      ],
      "text/plain": [
       "     Java  MATLAB  None of these (I'm comfortable in another language)  \\\n",
       "0       1       0                                                  0     \n",
       "1       0       0                                                  0     \n",
       "2       1       1                                                  0     \n",
       "3       0       0                                                  0     \n",
       "4       1       0                                                  0     \n",
       "..    ...     ...                                                ...     \n",
       "283     1       0                                                  0     \n",
       "284     1       1                                                  0     \n",
       "285     0       0                                                  0     \n",
       "286     1       0                                                  0     \n",
       "287     1       0                                                  0     \n",
       "\n",
       "     None of these (I'm not comfortable programming)  Python  R  \n",
       "0                                                  0       0  0  \n",
       "1                                                  0       1  0  \n",
       "2                                                  0       1  1  \n",
       "3                                                  0       1  1  \n",
       "4                                                  0       0  0  \n",
       "..                                               ...     ... ..  \n",
       "283                                                0       0  0  \n",
       "284                                                0       1  0  \n",
       "285                                                0       1  0  \n",
       "286                                                0       0  0  \n",
       "287                                                0       1  0  \n",
       "\n",
       "[288 rows x 6 columns]"
      ]
     },
     "execution_count": 58,
     "metadata": {},
     "output_type": "execute_result"
    }
   ],
   "source": [
    "lang"
   ]
  },
  {
   "cell_type": "code",
   "execution_count": 62,
   "metadata": {
    "slideshow": {
     "slide_type": "fragment"
    }
   },
   "outputs": [],
   "source": [
    "# one hot encode topics\n",
    "topics = (df.topics.str.split('\\s*,\\s*', expand=True) \n",
    "          .stack() \n",
    "          .str.get_dummies() \n",
    "          .sum(level=0))"
   ]
  },
  {
   "cell_type": "code",
   "execution_count": 63,
   "metadata": {
    "scrolled": false,
    "slideshow": {
     "slide_type": "-"
    }
   },
   "outputs": [
    {
     "data": {
      "text/html": [
       "<div>\n",
       "<style scoped>\n",
       "    .dataframe tbody tr th:only-of-type {\n",
       "        vertical-align: middle;\n",
       "    }\n",
       "\n",
       "    .dataframe tbody tr th {\n",
       "        vertical-align: top;\n",
       "    }\n",
       "\n",
       "    .dataframe thead th {\n",
       "        text-align: right;\n",
       "    }\n",
       "</style>\n",
       "<table border=\"1\" class=\"dataframe\">\n",
       "  <thead>\n",
       "    <tr style=\"text-align: right;\">\n",
       "      <th></th>\n",
       "      <th>A</th>\n",
       "      <th>B testing</th>\n",
       "      <th>GitHub</th>\n",
       "      <th>JSON</th>\n",
       "      <th>Jupyter Notebooks</th>\n",
       "      <th>Python</th>\n",
       "      <th>confounding</th>\n",
       "      <th>data science</th>\n",
       "      <th>geospatial analysis</th>\n",
       "      <th>machine learning</th>\n",
       "      <th>none of the above</th>\n",
       "      <th>not the animal)</th>\n",
       "      <th>p-hacking</th>\n",
       "      <th>p-value</th>\n",
       "      <th>pandas (the package</th>\n",
       "      <th>sentiment analysis</th>\n",
       "      <th>sklearn</th>\n",
       "      <th>tabular data</th>\n",
       "      <th>tetral analysis</th>\n",
       "      <th>version control (i.e. git)</th>\n",
       "    </tr>\n",
       "  </thead>\n",
       "  <tbody>\n",
       "    <tr>\n",
       "      <th>0</th>\n",
       "      <td>0</td>\n",
       "      <td>0</td>\n",
       "      <td>0</td>\n",
       "      <td>0</td>\n",
       "      <td>0</td>\n",
       "      <td>0</td>\n",
       "      <td>0</td>\n",
       "      <td>0</td>\n",
       "      <td>0</td>\n",
       "      <td>0</td>\n",
       "      <td>1</td>\n",
       "      <td>0</td>\n",
       "      <td>0</td>\n",
       "      <td>0</td>\n",
       "      <td>0</td>\n",
       "      <td>0</td>\n",
       "      <td>0</td>\n",
       "      <td>0</td>\n",
       "      <td>0</td>\n",
       "      <td>0</td>\n",
       "    </tr>\n",
       "    <tr>\n",
       "      <th>1</th>\n",
       "      <td>0</td>\n",
       "      <td>0</td>\n",
       "      <td>0</td>\n",
       "      <td>0</td>\n",
       "      <td>0</td>\n",
       "      <td>1</td>\n",
       "      <td>0</td>\n",
       "      <td>0</td>\n",
       "      <td>0</td>\n",
       "      <td>0</td>\n",
       "      <td>0</td>\n",
       "      <td>0</td>\n",
       "      <td>0</td>\n",
       "      <td>0</td>\n",
       "      <td>0</td>\n",
       "      <td>0</td>\n",
       "      <td>0</td>\n",
       "      <td>0</td>\n",
       "      <td>0</td>\n",
       "      <td>0</td>\n",
       "    </tr>\n",
       "    <tr>\n",
       "      <th>2</th>\n",
       "      <td>1</td>\n",
       "      <td>1</td>\n",
       "      <td>1</td>\n",
       "      <td>0</td>\n",
       "      <td>1</td>\n",
       "      <td>1</td>\n",
       "      <td>1</td>\n",
       "      <td>1</td>\n",
       "      <td>1</td>\n",
       "      <td>1</td>\n",
       "      <td>0</td>\n",
       "      <td>1</td>\n",
       "      <td>1</td>\n",
       "      <td>1</td>\n",
       "      <td>1</td>\n",
       "      <td>0</td>\n",
       "      <td>1</td>\n",
       "      <td>1</td>\n",
       "      <td>0</td>\n",
       "      <td>1</td>\n",
       "    </tr>\n",
       "    <tr>\n",
       "      <th>3</th>\n",
       "      <td>0</td>\n",
       "      <td>0</td>\n",
       "      <td>0</td>\n",
       "      <td>0</td>\n",
       "      <td>1</td>\n",
       "      <td>1</td>\n",
       "      <td>1</td>\n",
       "      <td>1</td>\n",
       "      <td>0</td>\n",
       "      <td>0</td>\n",
       "      <td>0</td>\n",
       "      <td>1</td>\n",
       "      <td>0</td>\n",
       "      <td>1</td>\n",
       "      <td>1</td>\n",
       "      <td>0</td>\n",
       "      <td>0</td>\n",
       "      <td>0</td>\n",
       "      <td>0</td>\n",
       "      <td>0</td>\n",
       "    </tr>\n",
       "    <tr>\n",
       "      <th>4</th>\n",
       "      <td>0</td>\n",
       "      <td>0</td>\n",
       "      <td>1</td>\n",
       "      <td>0</td>\n",
       "      <td>0</td>\n",
       "      <td>0</td>\n",
       "      <td>0</td>\n",
       "      <td>0</td>\n",
       "      <td>0</td>\n",
       "      <td>0</td>\n",
       "      <td>0</td>\n",
       "      <td>0</td>\n",
       "      <td>0</td>\n",
       "      <td>0</td>\n",
       "      <td>0</td>\n",
       "      <td>0</td>\n",
       "      <td>0</td>\n",
       "      <td>0</td>\n",
       "      <td>0</td>\n",
       "      <td>0</td>\n",
       "    </tr>\n",
       "    <tr>\n",
       "      <th>...</th>\n",
       "      <td>...</td>\n",
       "      <td>...</td>\n",
       "      <td>...</td>\n",
       "      <td>...</td>\n",
       "      <td>...</td>\n",
       "      <td>...</td>\n",
       "      <td>...</td>\n",
       "      <td>...</td>\n",
       "      <td>...</td>\n",
       "      <td>...</td>\n",
       "      <td>...</td>\n",
       "      <td>...</td>\n",
       "      <td>...</td>\n",
       "      <td>...</td>\n",
       "      <td>...</td>\n",
       "      <td>...</td>\n",
       "      <td>...</td>\n",
       "      <td>...</td>\n",
       "      <td>...</td>\n",
       "      <td>...</td>\n",
       "    </tr>\n",
       "    <tr>\n",
       "      <th>283</th>\n",
       "      <td>1</td>\n",
       "      <td>1</td>\n",
       "      <td>0</td>\n",
       "      <td>0</td>\n",
       "      <td>0</td>\n",
       "      <td>1</td>\n",
       "      <td>0</td>\n",
       "      <td>0</td>\n",
       "      <td>0</td>\n",
       "      <td>0</td>\n",
       "      <td>0</td>\n",
       "      <td>0</td>\n",
       "      <td>0</td>\n",
       "      <td>0</td>\n",
       "      <td>0</td>\n",
       "      <td>0</td>\n",
       "      <td>0</td>\n",
       "      <td>0</td>\n",
       "      <td>0</td>\n",
       "      <td>0</td>\n",
       "    </tr>\n",
       "    <tr>\n",
       "      <th>284</th>\n",
       "      <td>1</td>\n",
       "      <td>1</td>\n",
       "      <td>1</td>\n",
       "      <td>0</td>\n",
       "      <td>1</td>\n",
       "      <td>1</td>\n",
       "      <td>0</td>\n",
       "      <td>0</td>\n",
       "      <td>0</td>\n",
       "      <td>1</td>\n",
       "      <td>0</td>\n",
       "      <td>0</td>\n",
       "      <td>0</td>\n",
       "      <td>1</td>\n",
       "      <td>0</td>\n",
       "      <td>0</td>\n",
       "      <td>1</td>\n",
       "      <td>0</td>\n",
       "      <td>0</td>\n",
       "      <td>1</td>\n",
       "    </tr>\n",
       "    <tr>\n",
       "      <th>285</th>\n",
       "      <td>0</td>\n",
       "      <td>0</td>\n",
       "      <td>0</td>\n",
       "      <td>0</td>\n",
       "      <td>1</td>\n",
       "      <td>1</td>\n",
       "      <td>0</td>\n",
       "      <td>0</td>\n",
       "      <td>0</td>\n",
       "      <td>0</td>\n",
       "      <td>0</td>\n",
       "      <td>0</td>\n",
       "      <td>0</td>\n",
       "      <td>1</td>\n",
       "      <td>0</td>\n",
       "      <td>0</td>\n",
       "      <td>0</td>\n",
       "      <td>1</td>\n",
       "      <td>0</td>\n",
       "      <td>0</td>\n",
       "    </tr>\n",
       "    <tr>\n",
       "      <th>286</th>\n",
       "      <td>0</td>\n",
       "      <td>0</td>\n",
       "      <td>1</td>\n",
       "      <td>0</td>\n",
       "      <td>1</td>\n",
       "      <td>0</td>\n",
       "      <td>0</td>\n",
       "      <td>0</td>\n",
       "      <td>0</td>\n",
       "      <td>1</td>\n",
       "      <td>0</td>\n",
       "      <td>0</td>\n",
       "      <td>0</td>\n",
       "      <td>0</td>\n",
       "      <td>0</td>\n",
       "      <td>0</td>\n",
       "      <td>0</td>\n",
       "      <td>0</td>\n",
       "      <td>0</td>\n",
       "      <td>1</td>\n",
       "    </tr>\n",
       "    <tr>\n",
       "      <th>287</th>\n",
       "      <td>0</td>\n",
       "      <td>0</td>\n",
       "      <td>1</td>\n",
       "      <td>1</td>\n",
       "      <td>0</td>\n",
       "      <td>1</td>\n",
       "      <td>0</td>\n",
       "      <td>0</td>\n",
       "      <td>0</td>\n",
       "      <td>0</td>\n",
       "      <td>0</td>\n",
       "      <td>0</td>\n",
       "      <td>0</td>\n",
       "      <td>0</td>\n",
       "      <td>0</td>\n",
       "      <td>0</td>\n",
       "      <td>0</td>\n",
       "      <td>0</td>\n",
       "      <td>0</td>\n",
       "      <td>1</td>\n",
       "    </tr>\n",
       "  </tbody>\n",
       "</table>\n",
       "<p>288 rows × 20 columns</p>\n",
       "</div>"
      ],
      "text/plain": [
       "     A  B testing  GitHub  JSON  Jupyter Notebooks  Python  confounding  \\\n",
       "0    0          0       0     0                  0       0            0   \n",
       "1    0          0       0     0                  0       1            0   \n",
       "2    1          1       1     0                  1       1            1   \n",
       "3    0          0       0     0                  1       1            1   \n",
       "4    0          0       1     0                  0       0            0   \n",
       "..  ..        ...     ...   ...                ...     ...          ...   \n",
       "283  1          1       0     0                  0       1            0   \n",
       "284  1          1       1     0                  1       1            0   \n",
       "285  0          0       0     0                  1       1            0   \n",
       "286  0          0       1     0                  1       0            0   \n",
       "287  0          0       1     1                  0       1            0   \n",
       "\n",
       "     data science  geospatial analysis  machine learning  none of the above  \\\n",
       "0               0                    0                 0                  1   \n",
       "1               0                    0                 0                  0   \n",
       "2               1                    1                 1                  0   \n",
       "3               1                    0                 0                  0   \n",
       "4               0                    0                 0                  0   \n",
       "..            ...                  ...               ...                ...   \n",
       "283             0                    0                 0                  0   \n",
       "284             0                    0                 1                  0   \n",
       "285             0                    0                 0                  0   \n",
       "286             0                    0                 1                  0   \n",
       "287             0                    0                 0                  0   \n",
       "\n",
       "     not the animal)  p-hacking  p-value  pandas (the package  \\\n",
       "0                  0          0        0                    0   \n",
       "1                  0          0        0                    0   \n",
       "2                  1          1        1                    1   \n",
       "3                  1          0        1                    1   \n",
       "4                  0          0        0                    0   \n",
       "..               ...        ...      ...                  ...   \n",
       "283                0          0        0                    0   \n",
       "284                0          0        1                    0   \n",
       "285                0          0        1                    0   \n",
       "286                0          0        0                    0   \n",
       "287                0          0        0                    0   \n",
       "\n",
       "     sentiment analysis  sklearn  tabular data  tetral analysis  \\\n",
       "0                     0        0             0                0   \n",
       "1                     0        0             0                0   \n",
       "2                     0        1             1                0   \n",
       "3                     0        0             0                0   \n",
       "4                     0        0             0                0   \n",
       "..                  ...      ...           ...              ...   \n",
       "283                   0        0             0                0   \n",
       "284                   0        1             0                0   \n",
       "285                   0        0             1                0   \n",
       "286                   0        0             0                0   \n",
       "287                   0        0             0                0   \n",
       "\n",
       "     version control (i.e. git)  \n",
       "0                             0  \n",
       "1                             0  \n",
       "2                             1  \n",
       "3                             0  \n",
       "4                             0  \n",
       "..                          ...  \n",
       "283                           0  \n",
       "284                           1  \n",
       "285                           0  \n",
       "286                           1  \n",
       "287                           1  \n",
       "\n",
       "[288 rows x 20 columns]"
      ]
     },
     "execution_count": 63,
     "metadata": {},
     "output_type": "execute_result"
    }
   ],
   "source": [
    "topics"
   ]
  },
  {
   "cell_type": "code",
   "execution_count": 64,
   "metadata": {
    "slideshow": {
     "slide_type": "fragment"
    }
   },
   "outputs": [
    {
     "data": {
      "text/html": [
       "<div>\n",
       "<style scoped>\n",
       "    .dataframe tbody tr th:only-of-type {\n",
       "        vertical-align: middle;\n",
       "    }\n",
       "\n",
       "    .dataframe tbody tr th {\n",
       "        vertical-align: top;\n",
       "    }\n",
       "\n",
       "    .dataframe thead th {\n",
       "        text-align: right;\n",
       "    }\n",
       "</style>\n",
       "<table border=\"1\" class=\"dataframe\">\n",
       "  <thead>\n",
       "    <tr style=\"text-align: right;\">\n",
       "      <th></th>\n",
       "      <th>ID</th>\n",
       "      <th>enrolled</th>\n",
       "      <th>tech_access</th>\n",
       "      <th>timezone</th>\n",
       "      <th>objectives_pre</th>\n",
       "      <th>language</th>\n",
       "      <th>topics</th>\n",
       "      <th>statistics</th>\n",
       "      <th>programming</th>\n",
       "      <th>Java</th>\n",
       "      <th>MATLAB</th>\n",
       "      <th>None of these (I'm comfortable in another language)</th>\n",
       "      <th>None of these (I'm not comfortable programming)</th>\n",
       "      <th>Python</th>\n",
       "      <th>R</th>\n",
       "    </tr>\n",
       "  </thead>\n",
       "  <tbody>\n",
       "    <tr>\n",
       "      <th>0</th>\n",
       "      <td>001_fa21</td>\n",
       "      <td>1</td>\n",
       "      <td>Reliable Internet, A functioning laptop or tab...</td>\n",
       "      <td>-8.0</td>\n",
       "      <td>None of these</td>\n",
       "      <td>Java</td>\n",
       "      <td>none of the above</td>\n",
       "      <td>4.0</td>\n",
       "      <td>7.0</td>\n",
       "      <td>1</td>\n",
       "      <td>0</td>\n",
       "      <td>0</td>\n",
       "      <td>0</td>\n",
       "      <td>0</td>\n",
       "      <td>0</td>\n",
       "    </tr>\n",
       "    <tr>\n",
       "      <th>1</th>\n",
       "      <td>002_fa21</td>\n",
       "      <td>1</td>\n",
       "      <td>A functioning laptop or tablet, Access to YouTube</td>\n",
       "      <td>8.0</td>\n",
       "      <td>Communicate results concisely and effectively ...</td>\n",
       "      <td>Python</td>\n",
       "      <td>Python</td>\n",
       "      <td>6.0</td>\n",
       "      <td>4.0</td>\n",
       "      <td>0</td>\n",
       "      <td>0</td>\n",
       "      <td>0</td>\n",
       "      <td>0</td>\n",
       "      <td>1</td>\n",
       "      <td>0</td>\n",
       "    </tr>\n",
       "    <tr>\n",
       "      <th>2</th>\n",
       "      <td>004_fa21</td>\n",
       "      <td>1</td>\n",
       "      <td>Reliable Internet, A functioning laptop or tab...</td>\n",
       "      <td>-7.0</td>\n",
       "      <td>Formulate a plan for and complete a data scien...</td>\n",
       "      <td>Python, Java, MATLAB, R</td>\n",
       "      <td>data science, version control (i.e. git), GitH...</td>\n",
       "      <td>7.0</td>\n",
       "      <td>10.0</td>\n",
       "      <td>1</td>\n",
       "      <td>1</td>\n",
       "      <td>0</td>\n",
       "      <td>0</td>\n",
       "      <td>1</td>\n",
       "      <td>1</td>\n",
       "    </tr>\n",
       "    <tr>\n",
       "      <th>3</th>\n",
       "      <td>009_fa21</td>\n",
       "      <td>1</td>\n",
       "      <td>Reliable Internet, A functioning laptop or tab...</td>\n",
       "      <td>3.0</td>\n",
       "      <td>Formulate a plan for and complete a data scien...</td>\n",
       "      <td>Python, R</td>\n",
       "      <td>data science, Python, Jupyter Notebooks, confo...</td>\n",
       "      <td>7.0</td>\n",
       "      <td>4.0</td>\n",
       "      <td>0</td>\n",
       "      <td>0</td>\n",
       "      <td>0</td>\n",
       "      <td>0</td>\n",
       "      <td>1</td>\n",
       "      <td>1</td>\n",
       "    </tr>\n",
       "    <tr>\n",
       "      <th>4</th>\n",
       "      <td>010_fa21</td>\n",
       "      <td>1</td>\n",
       "      <td>Reliable Internet, A functioning laptop or tab...</td>\n",
       "      <td>-7.0</td>\n",
       "      <td>None of these</td>\n",
       "      <td>Java</td>\n",
       "      <td>GitHub</td>\n",
       "      <td>4.0</td>\n",
       "      <td>9.0</td>\n",
       "      <td>1</td>\n",
       "      <td>0</td>\n",
       "      <td>0</td>\n",
       "      <td>0</td>\n",
       "      <td>0</td>\n",
       "      <td>0</td>\n",
       "    </tr>\n",
       "    <tr>\n",
       "      <th>...</th>\n",
       "      <td>...</td>\n",
       "      <td>...</td>\n",
       "      <td>...</td>\n",
       "      <td>...</td>\n",
       "      <td>...</td>\n",
       "      <td>...</td>\n",
       "      <td>...</td>\n",
       "      <td>...</td>\n",
       "      <td>...</td>\n",
       "      <td>...</td>\n",
       "      <td>...</td>\n",
       "      <td>...</td>\n",
       "      <td>...</td>\n",
       "      <td>...</td>\n",
       "      <td>...</td>\n",
       "    </tr>\n",
       "    <tr>\n",
       "      <th>283</th>\n",
       "      <td>311_fa21</td>\n",
       "      <td>1</td>\n",
       "      <td>Reliable Internet, A functioning laptop or tab...</td>\n",
       "      <td>-7.0</td>\n",
       "      <td>None of these</td>\n",
       "      <td>Java</td>\n",
       "      <td>Python, A|B testing</td>\n",
       "      <td>3.0</td>\n",
       "      <td>5.0</td>\n",
       "      <td>1</td>\n",
       "      <td>0</td>\n",
       "      <td>0</td>\n",
       "      <td>0</td>\n",
       "      <td>0</td>\n",
       "      <td>0</td>\n",
       "    </tr>\n",
       "    <tr>\n",
       "      <th>284</th>\n",
       "      <td>312_fa21</td>\n",
       "      <td>1</td>\n",
       "      <td>Reliable Internet, A functioning laptop or tab...</td>\n",
       "      <td>-7.0</td>\n",
       "      <td>Explain and carry out descriptive, exploratory...</td>\n",
       "      <td>Python, Java, MATLAB</td>\n",
       "      <td>version control (i.e. git), GitHub, Python, Ju...</td>\n",
       "      <td>6.0</td>\n",
       "      <td>9.0</td>\n",
       "      <td>1</td>\n",
       "      <td>1</td>\n",
       "      <td>0</td>\n",
       "      <td>0</td>\n",
       "      <td>1</td>\n",
       "      <td>0</td>\n",
       "    </tr>\n",
       "    <tr>\n",
       "      <th>285</th>\n",
       "      <td>313_fa21</td>\n",
       "      <td>1</td>\n",
       "      <td>Reliable Internet, A functioning laptop or tab...</td>\n",
       "      <td>-7.0</td>\n",
       "      <td>Explain and carry out descriptive, exploratory...</td>\n",
       "      <td>Python</td>\n",
       "      <td>Python, Jupyter Notebooks, tabular data, p-value</td>\n",
       "      <td>6.0</td>\n",
       "      <td>3.0</td>\n",
       "      <td>0</td>\n",
       "      <td>0</td>\n",
       "      <td>0</td>\n",
       "      <td>0</td>\n",
       "      <td>1</td>\n",
       "      <td>0</td>\n",
       "    </tr>\n",
       "    <tr>\n",
       "      <th>286</th>\n",
       "      <td>314_fa21</td>\n",
       "      <td>1</td>\n",
       "      <td>Reliable Internet, A functioning laptop or tab...</td>\n",
       "      <td>-7.0</td>\n",
       "      <td>Explain and carry out descriptive, exploratory...</td>\n",
       "      <td>Java</td>\n",
       "      <td>version control (i.e. git), GitHub, Jupyter No...</td>\n",
       "      <td>7.0</td>\n",
       "      <td>9.0</td>\n",
       "      <td>1</td>\n",
       "      <td>0</td>\n",
       "      <td>0</td>\n",
       "      <td>0</td>\n",
       "      <td>0</td>\n",
       "      <td>0</td>\n",
       "    </tr>\n",
       "    <tr>\n",
       "      <th>287</th>\n",
       "      <td>315_fa21</td>\n",
       "      <td>1</td>\n",
       "      <td>A functioning laptop or tablet, Access to YouTube</td>\n",
       "      <td>-7.0</td>\n",
       "      <td>Communicate results concisely and effectively ...</td>\n",
       "      <td>Python, Java</td>\n",
       "      <td>version control (i.e. git), GitHub, Python, JSON</td>\n",
       "      <td>5.0</td>\n",
       "      <td>10.0</td>\n",
       "      <td>1</td>\n",
       "      <td>0</td>\n",
       "      <td>0</td>\n",
       "      <td>0</td>\n",
       "      <td>1</td>\n",
       "      <td>0</td>\n",
       "    </tr>\n",
       "  </tbody>\n",
       "</table>\n",
       "<p>288 rows × 15 columns</p>\n",
       "</div>"
      ],
      "text/plain": [
       "           ID  enrolled                                        tech_access  \\\n",
       "0    001_fa21         1  Reliable Internet, A functioning laptop or tab...   \n",
       "1    002_fa21         1  A functioning laptop or tablet, Access to YouTube   \n",
       "2    004_fa21         1  Reliable Internet, A functioning laptop or tab...   \n",
       "3    009_fa21         1  Reliable Internet, A functioning laptop or tab...   \n",
       "4    010_fa21         1  Reliable Internet, A functioning laptop or tab...   \n",
       "..        ...       ...                                                ...   \n",
       "283  311_fa21         1  Reliable Internet, A functioning laptop or tab...   \n",
       "284  312_fa21         1  Reliable Internet, A functioning laptop or tab...   \n",
       "285  313_fa21         1  Reliable Internet, A functioning laptop or tab...   \n",
       "286  314_fa21         1  Reliable Internet, A functioning laptop or tab...   \n",
       "287  315_fa21         1  A functioning laptop or tablet, Access to YouTube   \n",
       "\n",
       "     timezone                                     objectives_pre  \\\n",
       "0        -8.0                                      None of these   \n",
       "1         8.0  Communicate results concisely and effectively ...   \n",
       "2        -7.0  Formulate a plan for and complete a data scien...   \n",
       "3         3.0  Formulate a plan for and complete a data scien...   \n",
       "4        -7.0                                      None of these   \n",
       "..        ...                                                ...   \n",
       "283      -7.0                                      None of these   \n",
       "284      -7.0  Explain and carry out descriptive, exploratory...   \n",
       "285      -7.0  Explain and carry out descriptive, exploratory...   \n",
       "286      -7.0  Explain and carry out descriptive, exploratory...   \n",
       "287      -7.0  Communicate results concisely and effectively ...   \n",
       "\n",
       "                    language  \\\n",
       "0                       Java   \n",
       "1                     Python   \n",
       "2    Python, Java, MATLAB, R   \n",
       "3                  Python, R   \n",
       "4                       Java   \n",
       "..                       ...   \n",
       "283                     Java   \n",
       "284     Python, Java, MATLAB   \n",
       "285                   Python   \n",
       "286                     Java   \n",
       "287             Python, Java   \n",
       "\n",
       "                                                topics  statistics  \\\n",
       "0                                    none of the above         4.0   \n",
       "1                                               Python         6.0   \n",
       "2    data science, version control (i.e. git), GitH...         7.0   \n",
       "3    data science, Python, Jupyter Notebooks, confo...         7.0   \n",
       "4                                               GitHub         4.0   \n",
       "..                                                 ...         ...   \n",
       "283                                Python, A|B testing         3.0   \n",
       "284  version control (i.e. git), GitHub, Python, Ju...         6.0   \n",
       "285   Python, Jupyter Notebooks, tabular data, p-value         6.0   \n",
       "286  version control (i.e. git), GitHub, Jupyter No...         7.0   \n",
       "287   version control (i.e. git), GitHub, Python, JSON         5.0   \n",
       "\n",
       "     programming  Java  MATLAB  \\\n",
       "0            7.0     1       0   \n",
       "1            4.0     0       0   \n",
       "2           10.0     1       1   \n",
       "3            4.0     0       0   \n",
       "4            9.0     1       0   \n",
       "..           ...   ...     ...   \n",
       "283          5.0     1       0   \n",
       "284          9.0     1       1   \n",
       "285          3.0     0       0   \n",
       "286          9.0     1       0   \n",
       "287         10.0     1       0   \n",
       "\n",
       "     None of these (I'm comfortable in another language)  \\\n",
       "0                                                    0     \n",
       "1                                                    0     \n",
       "2                                                    0     \n",
       "3                                                    0     \n",
       "4                                                    0     \n",
       "..                                                 ...     \n",
       "283                                                  0     \n",
       "284                                                  0     \n",
       "285                                                  0     \n",
       "286                                                  0     \n",
       "287                                                  0     \n",
       "\n",
       "     None of these (I'm not comfortable programming)  Python  R  \n",
       "0                                                  0       0  0  \n",
       "1                                                  0       1  0  \n",
       "2                                                  0       1  1  \n",
       "3                                                  0       1  1  \n",
       "4                                                  0       0  0  \n",
       "..                                               ...     ... ..  \n",
       "283                                                0       0  0  \n",
       "284                                                0       1  0  \n",
       "285                                                0       1  0  \n",
       "286                                                0       0  0  \n",
       "287                                                0       1  0  \n",
       "\n",
       "[288 rows x 15 columns]"
      ]
     },
     "execution_count": 64,
     "metadata": {},
     "output_type": "execute_result"
    }
   ],
   "source": [
    "# join on index (merge on column/series)\n",
    "# note only joining lang here, not topics\n",
    "df = df.join(lang, how='outer').reset_index(drop=True)\n",
    "df"
   ]
  },
  {
   "cell_type": "code",
   "execution_count": 65,
   "metadata": {
    "slideshow": {
     "slide_type": "fragment"
    }
   },
   "outputs": [
    {
     "data": {
      "image/png": "[encoded data removed]",
      "text/plain": [
       "<Figure size 1224x504 with 2 Axes>"
      ]
     },
     "metadata": {
      "image/png": {
       "height": 429,
       "width": 995
      }
     },
     "output_type": "display_data"
    }
   ],
   "source": [
    "# plot one-hot eoncoded data\n",
    "plt.subplot(2, 1, 1)\n",
    "lang.columns = lang.columns.str.wrap(12) # wrap column names\n",
    "a = lang.sum()/len(df)\n",
    "a = a.sort_values(axis=0, ascending=False)\n",
    "a.plot.bar(color='#686868', rot=0)\n",
    "\n",
    "plt.subplot(2, 1, 2)\n",
    "topics.columns = topics.columns.str.wrap(12) # wrap column names\n",
    "a = topics.sum()/len(df)\n",
    "a = a.sort_values(axis=0, ascending=False)\n",
    "a.plot.bar(color='#686868', rot=0)\n",
    "plt.xticks(size = 8);"
   ]
  },
  {
   "cell_type": "markdown",
   "metadata": {
    "slideshow": {
     "slide_type": "slide"
    }
   },
   "source": [
    "### Relationship between these variables?\n",
    "\n",
    "We can use scatterplots to start to get an understanding for how these values are related to one another."
   ]
  },
  {
   "cell_type": "code",
   "execution_count": 69,
   "metadata": {
    "scrolled": false,
    "slideshow": {
     "slide_type": "fragment"
    }
   },
   "outputs": [
    {
     "data": {
      "image/png": "[encoded data removed]",
      "text/plain": [
       "<Figure size 864x432 with 1 Axes>"
      ]
     },
     "metadata": {
      "image/png": {
       "height": 428,
       "width": 860
      }
     },
     "output_type": "display_data"
    }
   ],
   "source": [
    "# scatterplot\n",
    "sns.lmplot(x='statistics', y='programming', \n",
    "           data=df, fit_reg=True, \n",
    "           height=6, aspect=2, \n",
    "           x_jitter=.5, y_jitter=.5);"
   ]
  },
  {
   "cell_type": "markdown",
   "metadata": {
    "slideshow": {
     "slide_type": "fragment"
    }
   },
   "source": [
    "So we see a relationship...but there's a lot of variability here. And, maybe we're most interested in understanding those who fall further away from the group"
   ]
  },
  {
   "cell_type": "code",
   "execution_count": 70,
   "metadata": {
    "slideshow": {
     "slide_type": "slide"
    }
   },
   "outputs": [
    {
     "data": {
      "text/html": [
       "<div>\n",
       "<style scoped>\n",
       "    .dataframe tbody tr th:only-of-type {\n",
       "        vertical-align: middle;\n",
       "    }\n",
       "\n",
       "    .dataframe tbody tr th {\n",
       "        vertical-align: top;\n",
       "    }\n",
       "\n",
       "    .dataframe thead th {\n",
       "        text-align: right;\n",
       "    }\n",
       "</style>\n",
       "<table border=\"1\" class=\"dataframe\">\n",
       "  <thead>\n",
       "    <tr style=\"text-align: right;\">\n",
       "      <th></th>\n",
       "      <th>ID</th>\n",
       "      <th>enrolled</th>\n",
       "      <th>tech_access</th>\n",
       "      <th>timezone</th>\n",
       "      <th>objectives_pre</th>\n",
       "      <th>language</th>\n",
       "      <th>topics</th>\n",
       "      <th>statistics</th>\n",
       "      <th>programming</th>\n",
       "      <th>Java</th>\n",
       "      <th>MATLAB</th>\n",
       "      <th>None of these (I'm comfortable in another language)</th>\n",
       "      <th>None of these (I'm not comfortable programming)</th>\n",
       "      <th>Python</th>\n",
       "      <th>R</th>\n",
       "    </tr>\n",
       "  </thead>\n",
       "  <tbody>\n",
       "    <tr>\n",
       "      <th>200</th>\n",
       "      <td>217_fa21</td>\n",
       "      <td>1</td>\n",
       "      <td>A functioning laptop or tablet, Access to YouTube</td>\n",
       "      <td>-7.0</td>\n",
       "      <td>Communicate results concisely and effectively ...</td>\n",
       "      <td>Java</td>\n",
       "      <td>GitHub, p-value</td>\n",
       "      <td>10.0</td>\n",
       "      <td>5.0</td>\n",
       "      <td>1</td>\n",
       "      <td>0</td>\n",
       "      <td>0</td>\n",
       "      <td>0</td>\n",
       "      <td>0</td>\n",
       "      <td>0</td>\n",
       "    </tr>\n",
       "    <tr>\n",
       "      <th>210</th>\n",
       "      <td>227_fa21</td>\n",
       "      <td>1</td>\n",
       "      <td>A functioning laptop or tablet, Access to YouTube</td>\n",
       "      <td>-7.0</td>\n",
       "      <td>Communicate results concisely and effectively ...</td>\n",
       "      <td>Python, Java, None of these (I'm not comfortab...</td>\n",
       "      <td>A|B testing</td>\n",
       "      <td>10.0</td>\n",
       "      <td>5.0</td>\n",
       "      <td>1</td>\n",
       "      <td>0</td>\n",
       "      <td>0</td>\n",
       "      <td>1</td>\n",
       "      <td>1</td>\n",
       "      <td>0</td>\n",
       "    </tr>\n",
       "  </tbody>\n",
       "</table>\n",
       "</div>"
      ],
      "text/plain": [
       "           ID  enrolled                                        tech_access  \\\n",
       "200  217_fa21         1  A functioning laptop or tablet, Access to YouTube   \n",
       "210  227_fa21         1  A functioning laptop or tablet, Access to YouTube   \n",
       "\n",
       "     timezone                                     objectives_pre  \\\n",
       "200      -7.0  Communicate results concisely and effectively ...   \n",
       "210      -7.0  Communicate results concisely and effectively ...   \n",
       "\n",
       "                                              language           topics  \\\n",
       "200                                               Java  GitHub, p-value   \n",
       "210  Python, Java, None of these (I'm not comfortab...      A|B testing   \n",
       "\n",
       "     statistics  programming  Java  MATLAB  \\\n",
       "200        10.0          5.0     1       0   \n",
       "210        10.0          5.0     1       0   \n",
       "\n",
       "     None of these (I'm comfortable in another language)  \\\n",
       "200                                                  0     \n",
       "210                                                  0     \n",
       "\n",
       "     None of these (I'm not comfortable programming)  Python  R  \n",
       "200                                                0       0  0  \n",
       "210                                                1       1  0  "
      ]
     },
     "execution_count": 70,
     "metadata": {},
     "output_type": "execute_result"
    }
   ],
   "source": [
    "# check for multiple conditions\n",
    "# be sure each condition in parentheses\n",
    "df[(df['statistics'] > 9) & (df['programming'] < 6)]"
   ]
  },
  {
   "cell_type": "markdown",
   "metadata": {
    "slideshow": {
     "slide_type": "slide"
    }
   },
   "source": [
    "## Relationships Across Multiple Variables\n",
    "\n",
    "We've looked at the histograms individually and scatterplots for the relationship, so we wanted to note that it is possible to combine the two in a single matrix plot."
   ]
  },
  {
   "cell_type": "code",
   "execution_count": 71,
   "metadata": {
    "scrolled": false,
    "slideshow": {
     "slide_type": "fragment"
    }
   },
   "outputs": [
    {
     "data": {
      "image/png": "[encoded data removed]",
      "text/plain": [
       "<Figure size 1080x720 with 9 Axes>"
      ]
     },
     "metadata": {
      "image/png": {
       "height": 597,
       "width": 890
      }
     },
     "output_type": "display_data"
    }
   ],
   "source": [
    "# generate scatter matrix\n",
    "pd.plotting.scatter_matrix(df[['timezone','statistics','programming']], figsize=(15, 10));"
   ]
  },
  {
   "cell_type": "code",
   "execution_count": 83,
   "metadata": {},
   "outputs": [
    {
     "data": {
      "image/png": "[encoded data removed]",
      "text/plain": [
       "<Figure size 540x540 with 12 Axes>"
      ]
     },
     "metadata": {
      "image/png": {
       "height": 524,
       "width": 523
      }
     },
     "output_type": "display_data"
    }
   ],
   "source": [
    "sns.pairplot(data=df.iloc[:,2:9], kind='hist'); #,kind='kde' or 'hist');"
   ]
  },
  {
   "cell_type": "code",
   "execution_count": null,
   "metadata": {
    "slideshow": {
     "slide_type": "fragment"
    }
   },
   "outputs": [],
   "source": [
    "# co-occurrence matrix\n",
    "lang.T.dot(lang)"
   ]
  },
  {
   "cell_type": "code",
   "execution_count": null,
   "metadata": {
    "slideshow": {
     "slide_type": "fragment"
    }
   },
   "outputs": [],
   "source": [
    "# cooccurrence matrix\n",
    "topics.T.dot(topics)"
   ]
  }
 ],
 "metadata": {
  "celltoolbar": "Slideshow",
  "kernelspec": {
   "display_name": "Python 3",
   "language": "python",
   "name": "python3"
  },
  "language_info": {
   "codemirror_mode": {
    "name": "ipython",
    "version": 3
   },
   "file_extension": ".py",
   "mimetype": "text/x-python",
   "name": "python",
   "nbconvert_exporter": "python",
   "pygments_lexer": "ipython3",
   "version": "3.8.8"
  },
  "rise": {
   "scroll": true
  }
 },
 "nbformat": 4,
 "nbformat_minor": 2
}
