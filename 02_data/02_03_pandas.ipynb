{
 "cells": [
  {
   "cell_type": "markdown",
   "metadata": {
    "slideshow": {
     "slide_type": "slide"
    }
   },
   "source": [
    "# Data Wrangling\n",
    "\n",
    "- `pandas`\n",
    "- Where to find data?\n",
    "   - Web Scraping & APIs"
   ]
  },
  {
   "cell_type": "markdown",
   "metadata": {
    "slideshow": {
     "slide_type": "slide"
    }
   },
   "source": [
    "<center>\n",
    "<img src=\"img/pandas.png\" alt=\"pandas\" width=\"600px\">\n",
    "</center>"
   ]
  },
  {
   "cell_type": "markdown",
   "metadata": {
    "slideshow": {
     "slide_type": "-"
    }
   },
   "source": [
    "Pandas is Python library for managing heterogenous data.\n",
    "\n",
    "At its core, Pandas is used for the **DataFrame** object, which is:\n",
    "- a data structure for labeled rows and columns of data\n",
    "- associated methods and utilities for working with data.\n",
    "- each column contains a `pandas` **Series**"
   ]
  },
  {
   "cell_type": "markdown",
   "metadata": {
    "slideshow": {
     "slide_type": "slide"
    }
   },
   "source": [
    "## Setup"
   ]
  },
  {
   "cell_type": "code",
   "execution_count": 1,
   "metadata": {
    "slideshow": {
     "slide_type": "-"
    }
   },
   "outputs": [],
   "source": [
    "# Import standard libraries\n",
    "%matplotlib inline\n",
    "import pandas as pd\n",
    "import numpy as np"
   ]
  },
  {
   "cell_type": "markdown",
   "metadata": {
    "slideshow": {
     "slide_type": "slide"
    }
   },
   "source": [
    "## Loading Data"
   ]
  },
  {
   "cell_type": "code",
   "execution_count": 2,
   "metadata": {
    "slideshow": {
     "slide_type": "fragment"
    }
   },
   "outputs": [],
   "source": [
    "# Load a csv file of data\n",
    "df = pd.read_csv('data/my_data.csv')"
   ]
  },
  {
   "cell_type": "code",
   "execution_count": 6,
   "metadata": {
    "slideshow": {
     "slide_type": "fragment"
    }
   },
   "outputs": [
    {
     "data": {
      "text/html": [
       "<div>\n",
       "<style scoped>\n",
       "    .dataframe tbody tr th:only-of-type {\n",
       "        vertical-align: middle;\n",
       "    }\n",
       "\n",
       "    .dataframe tbody tr th {\n",
       "        vertical-align: top;\n",
       "    }\n",
       "\n",
       "    .dataframe thead th {\n",
       "        text-align: right;\n",
       "    }\n",
       "</style>\n",
       "<table border=\"1\" class=\"dataframe\">\n",
       "  <thead>\n",
       "    <tr style=\"text-align: right;\">\n",
       "      <th></th>\n",
       "      <th>id</th>\n",
       "      <th>first_name</th>\n",
       "      <th>last_name</th>\n",
       "      <th>age</th>\n",
       "      <th>score</th>\n",
       "      <th>value</th>\n",
       "    </tr>\n",
       "  </thead>\n",
       "  <tbody>\n",
       "    <tr>\n",
       "      <th>0</th>\n",
       "      <td>295</td>\n",
       "      <td>Andrea</td>\n",
       "      <td>Clark</td>\n",
       "      <td>46</td>\n",
       "      <td>-1</td>\n",
       "      <td>24547.87</td>\n",
       "    </tr>\n",
       "    <tr>\n",
       "      <th>1</th>\n",
       "      <td>620</td>\n",
       "      <td>Bill</td>\n",
       "      <td>Woods</td>\n",
       "      <td>46</td>\n",
       "      <td>492</td>\n",
       "      <td>46713.90</td>\n",
       "    </tr>\n",
       "    <tr>\n",
       "      <th>2</th>\n",
       "      <td>891</td>\n",
       "      <td>Alexander</td>\n",
       "      <td>Jacobson</td>\n",
       "      <td>48</td>\n",
       "      <td>489</td>\n",
       "      <td>32071.74</td>\n",
       "    </tr>\n",
       "    <tr>\n",
       "      <th>3</th>\n",
       "      <td>914</td>\n",
       "      <td>Derrick</td>\n",
       "      <td>Bradley</td>\n",
       "      <td>52</td>\n",
       "      <td>-1</td>\n",
       "      <td>30650.48</td>\n",
       "    </tr>\n",
       "    <tr>\n",
       "      <th>4</th>\n",
       "      <td>1736</td>\n",
       "      <td>Allison</td>\n",
       "      <td>Thomas</td>\n",
       "      <td>44</td>\n",
       "      <td>-1</td>\n",
       "      <td>9553.12</td>\n",
       "    </tr>\n",
       "  </tbody>\n",
       "</table>\n",
       "</div>"
      ],
      "text/plain": [
       "     id first_name last_name  age  score     value\n",
       "0   295     Andrea     Clark   46     -1  24547.87\n",
       "1   620       Bill     Woods   46    492  46713.90\n",
       "2   891  Alexander  Jacobson   48    489  32071.74\n",
       "3   914    Derrick   Bradley   52     -1  30650.48\n",
       "4  1736    Allison    Thomas   44     -1   9553.12"
      ]
     },
     "execution_count": 6,
     "metadata": {},
     "output_type": "execute_result"
    }
   ],
   "source": [
    "# Check out a few rows of the dataframe\n",
    "df.head()"
   ]
  },
  {
   "cell_type": "markdown",
   "metadata": {
    "slideshow": {
     "slide_type": "-"
    }
   },
   "source": [
    "Pandas DataFrame:\n",
    "- Index for each row\n",
    "- Column name for each column (Series)\n",
    "- Stores heterogenous types"
   ]
  },
  {
   "cell_type": "markdown",
   "metadata": {
    "slideshow": {
     "slide_type": "slide"
    }
   },
   "source": [
    "## Slicing"
   ]
  },
  {
   "cell_type": "code",
   "execution_count": 24,
   "metadata": {
    "scrolled": true,
    "slideshow": {
     "slide_type": "fragment"
    }
   },
   "outputs": [
    {
     "data": {
      "text/html": [
       "<div>\n",
       "<style scoped>\n",
       "    .dataframe tbody tr th:only-of-type {\n",
       "        vertical-align: middle;\n",
       "    }\n",
       "\n",
       "    .dataframe tbody tr th {\n",
       "        vertical-align: top;\n",
       "    }\n",
       "\n",
       "    .dataframe thead th {\n",
       "        text-align: right;\n",
       "    }\n",
       "</style>\n",
       "<table border=\"1\" class=\"dataframe\">\n",
       "  <thead>\n",
       "    <tr style=\"text-align: right;\">\n",
       "      <th></th>\n",
       "      <th>id</th>\n",
       "      <th>first_name</th>\n",
       "      <th>last_name</th>\n",
       "      <th>age</th>\n",
       "      <th>score</th>\n",
       "      <th>value</th>\n",
       "    </tr>\n",
       "  </thead>\n",
       "  <tbody>\n",
       "    <tr>\n",
       "      <th>0</th>\n",
       "      <td>295</td>\n",
       "      <td>Andrea</td>\n",
       "      <td>Clark</td>\n",
       "      <td>46</td>\n",
       "      <td>-1</td>\n",
       "      <td>24547.87</td>\n",
       "    </tr>\n",
       "    <tr>\n",
       "      <th>1</th>\n",
       "      <td>620</td>\n",
       "      <td>Bill</td>\n",
       "      <td>Woods</td>\n",
       "      <td>46</td>\n",
       "      <td>492</td>\n",
       "      <td>46713.90</td>\n",
       "    </tr>\n",
       "    <tr>\n",
       "      <th>2</th>\n",
       "      <td>891</td>\n",
       "      <td>Alexander</td>\n",
       "      <td>Jacobson</td>\n",
       "      <td>48</td>\n",
       "      <td>489</td>\n",
       "      <td>32071.74</td>\n",
       "    </tr>\n",
       "    <tr>\n",
       "      <th>3</th>\n",
       "      <td>914</td>\n",
       "      <td>Derrick</td>\n",
       "      <td>Bradley</td>\n",
       "      <td>52</td>\n",
       "      <td>-1</td>\n",
       "      <td>30650.48</td>\n",
       "    </tr>\n",
       "    <tr>\n",
       "      <th>4</th>\n",
       "      <td>1736</td>\n",
       "      <td>Allison</td>\n",
       "      <td>Thomas</td>\n",
       "      <td>44</td>\n",
       "      <td>-1</td>\n",
       "      <td>9553.12</td>\n",
       "    </tr>\n",
       "    <tr>\n",
       "      <th>...</th>\n",
       "      <td>...</td>\n",
       "      <td>...</td>\n",
       "      <td>...</td>\n",
       "      <td>...</td>\n",
       "      <td>...</td>\n",
       "      <td>...</td>\n",
       "    </tr>\n",
       "    <tr>\n",
       "      <th>195</th>\n",
       "      <td>97441</td>\n",
       "      <td>Krista</td>\n",
       "      <td>Ortiz</td>\n",
       "      <td>34</td>\n",
       "      <td>-1</td>\n",
       "      <td>24074.79</td>\n",
       "    </tr>\n",
       "    <tr>\n",
       "      <th>196</th>\n",
       "      <td>97728</td>\n",
       "      <td>Anna</td>\n",
       "      <td>Chambers</td>\n",
       "      <td>37</td>\n",
       "      <td>598</td>\n",
       "      <td>0.00</td>\n",
       "    </tr>\n",
       "    <tr>\n",
       "      <th>197</th>\n",
       "      <td>98115</td>\n",
       "      <td>Jennifer</td>\n",
       "      <td>Pitts</td>\n",
       "      <td>29</td>\n",
       "      <td>606</td>\n",
       "      <td>6876.75</td>\n",
       "    </tr>\n",
       "    <tr>\n",
       "      <th>198</th>\n",
       "      <td>98284</td>\n",
       "      <td>Brittany</td>\n",
       "      <td>Jenkins</td>\n",
       "      <td>34</td>\n",
       "      <td>665</td>\n",
       "      <td>43525.88</td>\n",
       "    </tr>\n",
       "    <tr>\n",
       "      <th>199</th>\n",
       "      <td>98366</td>\n",
       "      <td>Katelyn</td>\n",
       "      <td>Brown</td>\n",
       "      <td>45</td>\n",
       "      <td>501</td>\n",
       "      <td>29668.38</td>\n",
       "    </tr>\n",
       "  </tbody>\n",
       "</table>\n",
       "<p>200 rows × 6 columns</p>\n",
       "</div>"
      ],
      "text/plain": [
       "        id first_name last_name  age  score     value\n",
       "0      295     Andrea     Clark   46     -1  24547.87\n",
       "1      620       Bill     Woods   46    492  46713.90\n",
       "2      891  Alexander  Jacobson   48    489  32071.74\n",
       "3      914    Derrick   Bradley   52     -1  30650.48\n",
       "4     1736    Allison    Thomas   44     -1   9553.12\n",
       "..     ...        ...       ...  ...    ...       ...\n",
       "195  97441     Krista     Ortiz   34     -1  24074.79\n",
       "196  97728       Anna  Chambers   37    598      0.00\n",
       "197  98115   Jennifer     Pitts   29    606   6876.75\n",
       "198  98284   Brittany   Jenkins   34    665  43525.88\n",
       "199  98366    Katelyn     Brown   45    501  29668.38\n",
       "\n",
       "[200 rows x 6 columns]"
      ]
     },
     "execution_count": 24,
     "metadata": {},
     "output_type": "execute_result"
    }
   ],
   "source": [
    "# Slicing (Indexing): select a Series (column) using its name\n",
    "\n",
    "#df['first_name']\n",
    "df#.loc[0] #.set_index('first_name').loc['Andrea']"
   ]
  },
  {
   "cell_type": "code",
   "execution_count": 25,
   "metadata": {},
   "outputs": [
    {
     "data": {
      "text/plain": [
       "pandas.core.frame.DataFrame"
      ]
     },
     "execution_count": 25,
     "metadata": {},
     "output_type": "execute_result"
    }
   ],
   "source": [
    "type(df)"
   ]
  },
  {
   "cell_type": "code",
   "execution_count": 26,
   "metadata": {
    "slideshow": {
     "slide_type": "fragment"
    }
   },
   "outputs": [
    {
     "data": {
      "text/plain": [
       "pandas.core.series.Series"
      ]
     },
     "execution_count": 26,
     "metadata": {},
     "output_type": "execute_result"
    }
   ],
   "source": [
    "type(df['last_name'])"
   ]
  },
  {
   "cell_type": "code",
   "execution_count": 28,
   "metadata": {
    "slideshow": {
     "slide_type": "fragment"
    }
   },
   "outputs": [
    {
     "data": {
      "text/plain": [
       "492"
      ]
     },
     "execution_count": 28,
     "metadata": {},
     "output_type": "execute_result"
    }
   ],
   "source": [
    "# Slicing: select a row & column with 'loc'\n",
    "df.loc[1, 'score']"
   ]
  },
  {
   "cell_type": "markdown",
   "metadata": {
    "slideshow": {
     "slide_type": "slide"
    }
   },
   "source": [
    "#### clicker Question #1\n",
    "\n",
    "What would be the output of `df['age'] > 10`?\n",
    "\n",
    "- A) subset of `df` including only rows of individuals older than 10\n",
    "- B) a Boolean with `True` for rows where age is greater than 10 and `False` otherwise\n",
    "- C) `id`s of rows where observations are greater than 10 \n",
    "- D) an error\n",
    "- E) I'm super lost"
   ]
  },
  {
   "cell_type": "code",
   "execution_count": 36,
   "metadata": {},
   "outputs": [
    {
     "data": {
      "text/plain": [
       "0       True\n",
       "1       True\n",
       "2       True\n",
       "3       True\n",
       "4       True\n",
       "       ...  \n",
       "195     True\n",
       "196     True\n",
       "197    False\n",
       "198     True\n",
       "199     True\n",
       "Name: age, Length: 200, dtype: bool"
      ]
     },
     "execution_count": 36,
     "metadata": {},
     "output_type": "execute_result"
    }
   ],
   "source": [
    "(df['age']>30)"
   ]
  },
  {
   "cell_type": "code",
   "execution_count": 37,
   "metadata": {
    "scrolled": true
   },
   "outputs": [
    {
     "data": {
      "text/html": [
       "<div>\n",
       "<style scoped>\n",
       "    .dataframe tbody tr th:only-of-type {\n",
       "        vertical-align: middle;\n",
       "    }\n",
       "\n",
       "    .dataframe tbody tr th {\n",
       "        vertical-align: top;\n",
       "    }\n",
       "\n",
       "    .dataframe thead th {\n",
       "        text-align: right;\n",
       "    }\n",
       "</style>\n",
       "<table border=\"1\" class=\"dataframe\">\n",
       "  <thead>\n",
       "    <tr style=\"text-align: right;\">\n",
       "      <th></th>\n",
       "      <th>id</th>\n",
       "      <th>first_name</th>\n",
       "      <th>last_name</th>\n",
       "      <th>age</th>\n",
       "      <th>score</th>\n",
       "      <th>value</th>\n",
       "    </tr>\n",
       "  </thead>\n",
       "  <tbody>\n",
       "    <tr>\n",
       "      <th>0</th>\n",
       "      <td>295</td>\n",
       "      <td>Andrea</td>\n",
       "      <td>Clark</td>\n",
       "      <td>46</td>\n",
       "      <td>-1</td>\n",
       "      <td>24547.87</td>\n",
       "    </tr>\n",
       "    <tr>\n",
       "      <th>1</th>\n",
       "      <td>620</td>\n",
       "      <td>Bill</td>\n",
       "      <td>Woods</td>\n",
       "      <td>46</td>\n",
       "      <td>492</td>\n",
       "      <td>46713.90</td>\n",
       "    </tr>\n",
       "    <tr>\n",
       "      <th>2</th>\n",
       "      <td>891</td>\n",
       "      <td>Alexander</td>\n",
       "      <td>Jacobson</td>\n",
       "      <td>48</td>\n",
       "      <td>489</td>\n",
       "      <td>32071.74</td>\n",
       "    </tr>\n",
       "    <tr>\n",
       "      <th>3</th>\n",
       "      <td>914</td>\n",
       "      <td>Derrick</td>\n",
       "      <td>Bradley</td>\n",
       "      <td>52</td>\n",
       "      <td>-1</td>\n",
       "      <td>30650.48</td>\n",
       "    </tr>\n",
       "    <tr>\n",
       "      <th>4</th>\n",
       "      <td>1736</td>\n",
       "      <td>Allison</td>\n",
       "      <td>Thomas</td>\n",
       "      <td>44</td>\n",
       "      <td>-1</td>\n",
       "      <td>9553.12</td>\n",
       "    </tr>\n",
       "    <tr>\n",
       "      <th>...</th>\n",
       "      <td>...</td>\n",
       "      <td>...</td>\n",
       "      <td>...</td>\n",
       "      <td>...</td>\n",
       "      <td>...</td>\n",
       "      <td>...</td>\n",
       "    </tr>\n",
       "    <tr>\n",
       "      <th>194</th>\n",
       "      <td>96371</td>\n",
       "      <td>Sherri</td>\n",
       "      <td>Austin</td>\n",
       "      <td>46</td>\n",
       "      <td>698</td>\n",
       "      <td>29412.01</td>\n",
       "    </tr>\n",
       "    <tr>\n",
       "      <th>195</th>\n",
       "      <td>97441</td>\n",
       "      <td>Krista</td>\n",
       "      <td>Ortiz</td>\n",
       "      <td>34</td>\n",
       "      <td>-1</td>\n",
       "      <td>24074.79</td>\n",
       "    </tr>\n",
       "    <tr>\n",
       "      <th>196</th>\n",
       "      <td>97728</td>\n",
       "      <td>Anna</td>\n",
       "      <td>Chambers</td>\n",
       "      <td>37</td>\n",
       "      <td>598</td>\n",
       "      <td>0.00</td>\n",
       "    </tr>\n",
       "    <tr>\n",
       "      <th>198</th>\n",
       "      <td>98284</td>\n",
       "      <td>Brittany</td>\n",
       "      <td>Jenkins</td>\n",
       "      <td>34</td>\n",
       "      <td>665</td>\n",
       "      <td>43525.88</td>\n",
       "    </tr>\n",
       "    <tr>\n",
       "      <th>199</th>\n",
       "      <td>98366</td>\n",
       "      <td>Katelyn</td>\n",
       "      <td>Brown</td>\n",
       "      <td>45</td>\n",
       "      <td>501</td>\n",
       "      <td>29668.38</td>\n",
       "    </tr>\n",
       "  </tbody>\n",
       "</table>\n",
       "<p>188 rows × 6 columns</p>\n",
       "</div>"
      ],
      "text/plain": [
       "        id first_name last_name  age  score     value\n",
       "0      295     Andrea     Clark   46     -1  24547.87\n",
       "1      620       Bill     Woods   46    492  46713.90\n",
       "2      891  Alexander  Jacobson   48    489  32071.74\n",
       "3      914    Derrick   Bradley   52     -1  30650.48\n",
       "4     1736    Allison    Thomas   44     -1   9553.12\n",
       "..     ...        ...       ...  ...    ...       ...\n",
       "194  96371     Sherri    Austin   46    698  29412.01\n",
       "195  97441     Krista     Ortiz   34     -1  24074.79\n",
       "196  97728       Anna  Chambers   37    598      0.00\n",
       "198  98284   Brittany   Jenkins   34    665  43525.88\n",
       "199  98366    Katelyn     Brown   45    501  29668.38\n",
       "\n",
       "[188 rows x 6 columns]"
      ]
     },
     "execution_count": 37,
     "metadata": {},
     "output_type": "execute_result"
    }
   ],
   "source": [
    "# to get subset\n",
    "df[df['age'] > 30]"
   ]
  },
  {
   "cell_type": "code",
   "execution_count": null,
   "metadata": {
    "scrolled": false,
    "slideshow": {
     "slide_type": "-"
    }
   },
   "outputs": [],
   "source": [
    "## YOUR CODE HERE\n",
    "df['age'] > 10"
   ]
  },
  {
   "cell_type": "markdown",
   "metadata": {
    "slideshow": {
     "slide_type": "slide"
    }
   },
   "source": [
    "## Checking out the DataFrame"
   ]
  },
  {
   "cell_type": "code",
   "execution_count": 38,
   "metadata": {
    "scrolled": false,
    "slideshow": {
     "slide_type": "fragment"
    }
   },
   "outputs": [
    {
     "data": {
      "text/plain": [
       "(200, 6)"
      ]
     },
     "execution_count": 38,
     "metadata": {},
     "output_type": "execute_result"
    }
   ],
   "source": [
    "# Check how large our dataframe is\n",
    "df.shape"
   ]
  },
  {
   "cell_type": "code",
   "execution_count": 39,
   "metadata": {
    "slideshow": {
     "slide_type": "fragment"
    }
   },
   "outputs": [
    {
     "data": {
      "text/plain": [
       "Index(['id', 'first_name', 'last_name', 'age', 'score', 'value'], dtype='object')"
      ]
     },
     "execution_count": 39,
     "metadata": {},
     "output_type": "execute_result"
    }
   ],
   "source": [
    "# Check what columns we have in our DataFrame\n",
    "df.columns"
   ]
  },
  {
   "cell_type": "code",
   "execution_count": 40,
   "metadata": {
    "scrolled": true,
    "slideshow": {
     "slide_type": "fragment"
    }
   },
   "outputs": [
    {
     "data": {
      "text/plain": [
       "id              int64\n",
       "first_name     object\n",
       "last_name      object\n",
       "age             int64\n",
       "score           int64\n",
       "value         float64\n",
       "dtype: object"
      ]
     },
     "execution_count": 40,
     "metadata": {},
     "output_type": "execute_result"
    }
   ],
   "source": [
    "# Check the datatypes of our variables\n",
    "df.dtypes"
   ]
  },
  {
   "cell_type": "markdown",
   "metadata": {
    "slideshow": {
     "slide_type": "slide"
    }
   },
   "source": [
    "## Exploring the data\n",
    "\n",
    "- quantitative (numbers)\n",
    "- qualitative (categorical)\n",
    "- basic descriptive statistics"
   ]
  },
  {
   "cell_type": "code",
   "execution_count": 43,
   "metadata": {
    "scrolled": true,
    "slideshow": {
     "slide_type": "slide"
    }
   },
   "outputs": [
    {
     "data": {
      "text/plain": [
       "David      6\n",
       "Michael    5\n",
       "James      4\n",
       "Eric       4\n",
       "Charles    4\n",
       "Name: first_name, dtype: int64"
      ]
     },
     "execution_count": 43,
     "metadata": {},
     "output_type": "execute_result"
    }
   ],
   "source": [
    "# Checking categorical data\n",
    "df['first_name'].value_counts()[4:-2]"
   ]
  },
  {
   "cell_type": "code",
   "execution_count": 46,
   "metadata": {
    "slideshow": {
     "slide_type": "fragment"
    }
   },
   "outputs": [
    {
     "data": {
      "text/plain": [
       "32493.94574115322"
      ]
     },
     "execution_count": 46,
     "metadata": {},
     "output_type": "execute_result"
    }
   ],
   "source": [
    "# Check a particular descriptive statistic\n",
    "df['value'].std()"
   ]
  },
  {
   "cell_type": "code",
   "execution_count": 48,
   "metadata": {
    "slideshow": {
     "slide_type": "fragment"
    }
   },
   "outputs": [
    {
     "data": {
      "text/plain": [
       "count       189.000000\n",
       "mean      28730.336296\n",
       "std       32493.945741\n",
       "min           0.000000\n",
       "25%        9593.030000\n",
       "50%       17976.510000\n",
       "75%       33163.310000\n",
       "max      204999.960000\n",
       "Name: value, dtype: float64"
      ]
     },
     "execution_count": 48,
     "metadata": {},
     "output_type": "execute_result"
    }
   ],
   "source": [
    "# Describe a particular column\n",
    "df['value'].describe()"
   ]
  },
  {
   "cell_type": "code",
   "execution_count": 49,
   "metadata": {
    "slideshow": {
     "slide_type": "fragment"
    }
   },
   "outputs": [
    {
     "data": {
      "text/html": [
       "<div>\n",
       "<style scoped>\n",
       "    .dataframe tbody tr th:only-of-type {\n",
       "        vertical-align: middle;\n",
       "    }\n",
       "\n",
       "    .dataframe tbody tr th {\n",
       "        vertical-align: top;\n",
       "    }\n",
       "\n",
       "    .dataframe thead th {\n",
       "        text-align: right;\n",
       "    }\n",
       "</style>\n",
       "<table border=\"1\" class=\"dataframe\">\n",
       "  <thead>\n",
       "    <tr style=\"text-align: right;\">\n",
       "      <th></th>\n",
       "      <th>id</th>\n",
       "      <th>age</th>\n",
       "      <th>score</th>\n",
       "      <th>value</th>\n",
       "    </tr>\n",
       "  </thead>\n",
       "  <tbody>\n",
       "    <tr>\n",
       "      <th>count</th>\n",
       "      <td>200.000000</td>\n",
       "      <td>200.000000</td>\n",
       "      <td>200.000000</td>\n",
       "      <td>189.000000</td>\n",
       "    </tr>\n",
       "    <tr>\n",
       "      <th>mean</th>\n",
       "      <td>52929.150000</td>\n",
       "      <td>46.020000</td>\n",
       "      <td>416.595000</td>\n",
       "      <td>28730.336296</td>\n",
       "    </tr>\n",
       "    <tr>\n",
       "      <th>std</th>\n",
       "      <td>29414.298899</td>\n",
       "      <td>10.028582</td>\n",
       "      <td>237.176674</td>\n",
       "      <td>32493.945741</td>\n",
       "    </tr>\n",
       "    <tr>\n",
       "      <th>min</th>\n",
       "      <td>295.000000</td>\n",
       "      <td>14.000000</td>\n",
       "      <td>-1.000000</td>\n",
       "      <td>0.000000</td>\n",
       "    </tr>\n",
       "    <tr>\n",
       "      <th>25%</th>\n",
       "      <td>26709.500000</td>\n",
       "      <td>39.000000</td>\n",
       "      <td>288.750000</td>\n",
       "      <td>9593.030000</td>\n",
       "    </tr>\n",
       "    <tr>\n",
       "      <th>50%</th>\n",
       "      <td>54643.500000</td>\n",
       "      <td>46.000000</td>\n",
       "      <td>463.500000</td>\n",
       "      <td>17976.510000</td>\n",
       "    </tr>\n",
       "    <tr>\n",
       "      <th>75%</th>\n",
       "      <td>80840.750000</td>\n",
       "      <td>53.000000</td>\n",
       "      <td>596.500000</td>\n",
       "      <td>33163.310000</td>\n",
       "    </tr>\n",
       "    <tr>\n",
       "      <th>max</th>\n",
       "      <td>98366.000000</td>\n",
       "      <td>69.000000</td>\n",
       "      <td>942.000000</td>\n",
       "      <td>204999.960000</td>\n",
       "    </tr>\n",
       "  </tbody>\n",
       "</table>\n",
       "</div>"
      ],
      "text/plain": [
       "                 id         age       score          value\n",
       "count    200.000000  200.000000  200.000000     189.000000\n",
       "mean   52929.150000   46.020000  416.595000   28730.336296\n",
       "std    29414.298899   10.028582  237.176674   32493.945741\n",
       "min      295.000000   14.000000   -1.000000       0.000000\n",
       "25%    26709.500000   39.000000  288.750000    9593.030000\n",
       "50%    54643.500000   46.000000  463.500000   17976.510000\n",
       "75%    80840.750000   53.000000  596.500000   33163.310000\n",
       "max    98366.000000   69.000000  942.000000  204999.960000"
      ]
     },
     "execution_count": 49,
     "metadata": {},
     "output_type": "execute_result"
    }
   ],
   "source": [
    "# Get descriptive statistics of all numerical columns\n",
    "df.describe()"
   ]
  },
  {
   "cell_type": "markdown",
   "metadata": {
    "slideshow": {
     "slide_type": "fragment"
    }
   },
   "source": [
    "#### clicker Question #2\n",
    "\n",
    "What's the average (mean) age of the individuals in this dataset?\n",
    "\n",
    "- A) 14\n",
    "- B) 46\n",
    "- C) 28730\n",
    "- D) NA\n",
    "- E) I'm super lost/unsure"
   ]
  },
  {
   "cell_type": "code",
   "execution_count": null,
   "metadata": {},
   "outputs": [],
   "source": [
    "df['age'].describe()"
   ]
  },
  {
   "cell_type": "code",
   "execution_count": null,
   "metadata": {
    "scrolled": true,
    "slideshow": {
     "slide_type": "-"
    }
   },
   "outputs": [],
   "source": [
    "## YOUR CODE HERE\n",
    "df['age'].mean()"
   ]
  },
  {
   "cell_type": "markdown",
   "metadata": {
    "nbgrader": {
     "grade": false,
     "grade_id": "cell-31cc3c7a4ac258dc",
     "locked": true,
     "schema_version": 1,
     "solution": false
    },
    "slideshow": {
     "slide_type": "slide"
    }
   },
   "source": [
    "## `pandas`: Common Manipulations\n",
    "\n",
    "You'll want to be *very* familiar with a few common data manipulations when wrangling data, each of which is described below:\n",
    "\n",
    "Manipulation | Description\n",
    "-------|------------\n",
    "**select** | select which columns to include in dataset\n",
    "**filter** | filter dataset to only include specified rows\n",
    "**mutate** | add a new column based on values in other columns\n",
    "**groupby** | group values to apply a function within the specified groups\n",
    "**summarize** | calculate specified summary metric of a specified variable\n",
    "**arrange** | sort rows ascending or descending order of a specified column\n",
    "**merge** | join separate datasets into a single dataset based on a common column\n",
    "\n"
   ]
  },
  {
   "cell_type": "markdown",
   "metadata": {
    "slideshow": {
     "slide_type": "slide"
    }
   },
   "source": [
    "## Selecting & Dropping Columns\n",
    "\n",
    "- include subset of columns of larger data frame"
   ]
  },
  {
   "cell_type": "code",
   "execution_count": null,
   "metadata": {},
   "outputs": [],
   "source": [
    "import this\n"
   ]
  },
  {
   "cell_type": "code",
   "execution_count": null,
   "metadata": {
    "slideshow": {
     "slide_type": "-"
    }
   },
   "outputs": [],
   "source": [
    "df.head()"
   ]
  },
  {
   "cell_type": "code",
   "execution_count": 50,
   "metadata": {
    "scrolled": true,
    "slideshow": {
     "slide_type": "fragment"
    }
   },
   "outputs": [
    {
     "data": {
      "text/html": [
       "<div>\n",
       "<style scoped>\n",
       "    .dataframe tbody tr th:only-of-type {\n",
       "        vertical-align: middle;\n",
       "    }\n",
       "\n",
       "    .dataframe tbody tr th {\n",
       "        vertical-align: top;\n",
       "    }\n",
       "\n",
       "    .dataframe thead th {\n",
       "        text-align: right;\n",
       "    }\n",
       "</style>\n",
       "<table border=\"1\" class=\"dataframe\">\n",
       "  <thead>\n",
       "    <tr style=\"text-align: right;\">\n",
       "      <th></th>\n",
       "      <th>id</th>\n",
       "      <th>age</th>\n",
       "      <th>score</th>\n",
       "      <th>value</th>\n",
       "    </tr>\n",
       "  </thead>\n",
       "  <tbody>\n",
       "    <tr>\n",
       "      <th>0</th>\n",
       "      <td>295</td>\n",
       "      <td>46</td>\n",
       "      <td>-1</td>\n",
       "      <td>24547.87</td>\n",
       "    </tr>\n",
       "    <tr>\n",
       "      <th>1</th>\n",
       "      <td>620</td>\n",
       "      <td>46</td>\n",
       "      <td>492</td>\n",
       "      <td>46713.90</td>\n",
       "    </tr>\n",
       "    <tr>\n",
       "      <th>2</th>\n",
       "      <td>891</td>\n",
       "      <td>48</td>\n",
       "      <td>489</td>\n",
       "      <td>32071.74</td>\n",
       "    </tr>\n",
       "    <tr>\n",
       "      <th>3</th>\n",
       "      <td>914</td>\n",
       "      <td>52</td>\n",
       "      <td>-1</td>\n",
       "      <td>30650.48</td>\n",
       "    </tr>\n",
       "    <tr>\n",
       "      <th>4</th>\n",
       "      <td>1736</td>\n",
       "      <td>44</td>\n",
       "      <td>-1</td>\n",
       "      <td>9553.12</td>\n",
       "    </tr>\n",
       "  </tbody>\n",
       "</table>\n",
       "</div>"
      ],
      "text/plain": [
       "     id  age  score     value\n",
       "0   295   46     -1  24547.87\n",
       "1   620   46    492  46713.90\n",
       "2   891   48    489  32071.74\n",
       "3   914   52     -1  30650.48\n",
       "4  1736   44     -1   9553.12"
      ]
     },
     "execution_count": 50,
     "metadata": {},
     "output_type": "execute_result"
    }
   ],
   "source": [
    "# specify which columns to include\n",
    "select_df = df[['id', 'age', 'score', 'value']]\n",
    "select_df.head()"
   ]
  },
  {
   "cell_type": "code",
   "execution_count": 51,
   "metadata": {
    "slideshow": {
     "slide_type": "fragment"
    }
   },
   "outputs": [],
   "source": [
    "# Drop columns we don't want\n",
    "df = df.drop(labels=['first_name', 'last_name'], axis=1)"
   ]
  },
  {
   "cell_type": "code",
   "execution_count": 57,
   "metadata": {},
   "outputs": [
    {
     "data": {
      "text/html": [
       "<div>\n",
       "<style scoped>\n",
       "    .dataframe tbody tr th:only-of-type {\n",
       "        vertical-align: middle;\n",
       "    }\n",
       "\n",
       "    .dataframe tbody tr th {\n",
       "        vertical-align: top;\n",
       "    }\n",
       "\n",
       "    .dataframe thead th {\n",
       "        text-align: right;\n",
       "    }\n",
       "</style>\n",
       "<table border=\"1\" class=\"dataframe\">\n",
       "  <thead>\n",
       "    <tr style=\"text-align: right;\">\n",
       "      <th></th>\n",
       "      <th>id</th>\n",
       "      <th>age</th>\n",
       "      <th>score</th>\n",
       "      <th>value</th>\n",
       "    </tr>\n",
       "  </thead>\n",
       "  <tbody>\n",
       "    <tr>\n",
       "      <th>0</th>\n",
       "      <td>295</td>\n",
       "      <td>46</td>\n",
       "      <td>-1</td>\n",
       "      <td>24547.87</td>\n",
       "    </tr>\n",
       "    <tr>\n",
       "      <th>1</th>\n",
       "      <td>620</td>\n",
       "      <td>46</td>\n",
       "      <td>492</td>\n",
       "      <td>46713.90</td>\n",
       "    </tr>\n",
       "    <tr>\n",
       "      <th>2</th>\n",
       "      <td>891</td>\n",
       "      <td>48</td>\n",
       "      <td>489</td>\n",
       "      <td>32071.74</td>\n",
       "    </tr>\n",
       "    <tr>\n",
       "      <th>3</th>\n",
       "      <td>914</td>\n",
       "      <td>52</td>\n",
       "      <td>-1</td>\n",
       "      <td>30650.48</td>\n",
       "    </tr>\n",
       "    <tr>\n",
       "      <th>4</th>\n",
       "      <td>1736</td>\n",
       "      <td>44</td>\n",
       "      <td>-1</td>\n",
       "      <td>9553.12</td>\n",
       "    </tr>\n",
       "    <tr>\n",
       "      <th>...</th>\n",
       "      <td>...</td>\n",
       "      <td>...</td>\n",
       "      <td>...</td>\n",
       "      <td>...</td>\n",
       "    </tr>\n",
       "    <tr>\n",
       "      <th>195</th>\n",
       "      <td>97441</td>\n",
       "      <td>34</td>\n",
       "      <td>-1</td>\n",
       "      <td>24074.79</td>\n",
       "    </tr>\n",
       "    <tr>\n",
       "      <th>196</th>\n",
       "      <td>97728</td>\n",
       "      <td>37</td>\n",
       "      <td>598</td>\n",
       "      <td>0.00</td>\n",
       "    </tr>\n",
       "    <tr>\n",
       "      <th>197</th>\n",
       "      <td>98115</td>\n",
       "      <td>29</td>\n",
       "      <td>606</td>\n",
       "      <td>6876.75</td>\n",
       "    </tr>\n",
       "    <tr>\n",
       "      <th>198</th>\n",
       "      <td>98284</td>\n",
       "      <td>34</td>\n",
       "      <td>665</td>\n",
       "      <td>43525.88</td>\n",
       "    </tr>\n",
       "    <tr>\n",
       "      <th>199</th>\n",
       "      <td>98366</td>\n",
       "      <td>45</td>\n",
       "      <td>501</td>\n",
       "      <td>29668.38</td>\n",
       "    </tr>\n",
       "  </tbody>\n",
       "</table>\n",
       "<p>200 rows × 4 columns</p>\n",
       "</div>"
      ],
      "text/plain": [
       "        id  age  score     value\n",
       "0      295   46     -1  24547.87\n",
       "1      620   46    492  46713.90\n",
       "2      891   48    489  32071.74\n",
       "3      914   52     -1  30650.48\n",
       "4     1736   44     -1   9553.12\n",
       "..     ...  ...    ...       ...\n",
       "195  97441   34     -1  24074.79\n",
       "196  97728   37    598      0.00\n",
       "197  98115   29    606   6876.75\n",
       "198  98284   34    665  43525.88\n",
       "199  98366   45    501  29668.38\n",
       "\n",
       "[200 rows x 4 columns]"
      ]
     },
     "execution_count": 57,
     "metadata": {},
     "output_type": "execute_result"
    }
   ],
   "source": [
    "df"
   ]
  },
  {
   "cell_type": "code",
   "execution_count": 53,
   "metadata": {},
   "outputs": [],
   "source": [
    "df.drop?"
   ]
  },
  {
   "cell_type": "code",
   "execution_count": null,
   "metadata": {
    "scrolled": false,
    "slideshow": {
     "slide_type": "fragment"
    }
   },
   "outputs": [],
   "source": [
    "# Check out the DataFrame after dropping some columns\n",
    "df.head()"
   ]
  },
  {
   "cell_type": "markdown",
   "metadata": {
    "slideshow": {
     "slide_type": "slide"
    }
   },
   "source": [
    "## Filtering Data (slicing)\n",
    "\n",
    "- include a subset (slice) of rows from larger data frame"
   ]
  },
  {
   "cell_type": "code",
   "execution_count": null,
   "metadata": {
    "slideshow": {
     "slide_type": "fragment"
    }
   },
   "outputs": [],
   "source": [
    "# Check if we have any data from people below the age of 18\n",
    "sum(df['age'] < 18)"
   ]
  },
  {
   "cell_type": "code",
   "execution_count": null,
   "metadata": {
    "scrolled": true
   },
   "outputs": [],
   "source": [
    "df"
   ]
  },
  {
   "cell_type": "code",
   "execution_count": null,
   "metadata": {
    "slideshow": {
     "slide_type": "fragment"
    }
   },
   "outputs": [],
   "source": [
    "# Select only participants who are 18 or older\n",
    "df = df[df['age'] >= 18]\n",
    "df.shape"
   ]
  },
  {
   "cell_type": "markdown",
   "metadata": {
    "slideshow": {
     "slide_type": "slide"
    }
   },
   "source": [
    "## Missing Data (NaNs)"
   ]
  },
  {
   "cell_type": "code",
   "execution_count": 58,
   "metadata": {
    "slideshow": {
     "slide_type": "fragment"
    }
   },
   "outputs": [
    {
     "data": {
      "text/plain": [
       "True"
      ]
     },
     "execution_count": 58,
     "metadata": {},
     "output_type": "execute_result"
    }
   ],
   "source": [
    "# Check for missing values\n",
    "df['value'].hasnans"
   ]
  },
  {
   "cell_type": "code",
   "execution_count": 59,
   "metadata": {},
   "outputs": [],
   "source": [
    "df.isnull?"
   ]
  },
  {
   "cell_type": "code",
   "execution_count": 60,
   "metadata": {},
   "outputs": [
    {
     "data": {
      "text/html": [
       "<div>\n",
       "<style scoped>\n",
       "    .dataframe tbody tr th:only-of-type {\n",
       "        vertical-align: middle;\n",
       "    }\n",
       "\n",
       "    .dataframe tbody tr th {\n",
       "        vertical-align: top;\n",
       "    }\n",
       "\n",
       "    .dataframe thead th {\n",
       "        text-align: right;\n",
       "    }\n",
       "</style>\n",
       "<table border=\"1\" class=\"dataframe\">\n",
       "  <thead>\n",
       "    <tr style=\"text-align: right;\">\n",
       "      <th></th>\n",
       "      <th>id</th>\n",
       "      <th>age</th>\n",
       "      <th>score</th>\n",
       "      <th>value</th>\n",
       "    </tr>\n",
       "  </thead>\n",
       "  <tbody>\n",
       "    <tr>\n",
       "      <th>0</th>\n",
       "      <td>False</td>\n",
       "      <td>False</td>\n",
       "      <td>False</td>\n",
       "      <td>False</td>\n",
       "    </tr>\n",
       "    <tr>\n",
       "      <th>1</th>\n",
       "      <td>False</td>\n",
       "      <td>False</td>\n",
       "      <td>False</td>\n",
       "      <td>False</td>\n",
       "    </tr>\n",
       "    <tr>\n",
       "      <th>2</th>\n",
       "      <td>False</td>\n",
       "      <td>False</td>\n",
       "      <td>False</td>\n",
       "      <td>False</td>\n",
       "    </tr>\n",
       "    <tr>\n",
       "      <th>3</th>\n",
       "      <td>False</td>\n",
       "      <td>False</td>\n",
       "      <td>False</td>\n",
       "      <td>False</td>\n",
       "    </tr>\n",
       "    <tr>\n",
       "      <th>4</th>\n",
       "      <td>False</td>\n",
       "      <td>False</td>\n",
       "      <td>False</td>\n",
       "      <td>False</td>\n",
       "    </tr>\n",
       "    <tr>\n",
       "      <th>...</th>\n",
       "      <td>...</td>\n",
       "      <td>...</td>\n",
       "      <td>...</td>\n",
       "      <td>...</td>\n",
       "    </tr>\n",
       "    <tr>\n",
       "      <th>195</th>\n",
       "      <td>False</td>\n",
       "      <td>False</td>\n",
       "      <td>False</td>\n",
       "      <td>False</td>\n",
       "    </tr>\n",
       "    <tr>\n",
       "      <th>196</th>\n",
       "      <td>False</td>\n",
       "      <td>False</td>\n",
       "      <td>False</td>\n",
       "      <td>False</td>\n",
       "    </tr>\n",
       "    <tr>\n",
       "      <th>197</th>\n",
       "      <td>False</td>\n",
       "      <td>False</td>\n",
       "      <td>False</td>\n",
       "      <td>False</td>\n",
       "    </tr>\n",
       "    <tr>\n",
       "      <th>198</th>\n",
       "      <td>False</td>\n",
       "      <td>False</td>\n",
       "      <td>False</td>\n",
       "      <td>False</td>\n",
       "    </tr>\n",
       "    <tr>\n",
       "      <th>199</th>\n",
       "      <td>False</td>\n",
       "      <td>False</td>\n",
       "      <td>False</td>\n",
       "      <td>False</td>\n",
       "    </tr>\n",
       "  </tbody>\n",
       "</table>\n",
       "<p>200 rows × 4 columns</p>\n",
       "</div>"
      ],
      "text/plain": [
       "        id    age  score  value\n",
       "0    False  False  False  False\n",
       "1    False  False  False  False\n",
       "2    False  False  False  False\n",
       "3    False  False  False  False\n",
       "4    False  False  False  False\n",
       "..     ...    ...    ...    ...\n",
       "195  False  False  False  False\n",
       "196  False  False  False  False\n",
       "197  False  False  False  False\n",
       "198  False  False  False  False\n",
       "199  False  False  False  False\n",
       "\n",
       "[200 rows x 4 columns]"
      ]
     },
     "execution_count": 60,
     "metadata": {},
     "output_type": "execute_result"
    }
   ],
   "source": [
    "# note in class\n",
    "# can operate on entire dataframe\n",
    "df.isnull()"
   ]
  },
  {
   "cell_type": "code",
   "execution_count": 61,
   "metadata": {},
   "outputs": [
    {
     "data": {
      "text/plain": [
       "0      False\n",
       "1      False\n",
       "2      False\n",
       "3      False\n",
       "4      False\n",
       "       ...  \n",
       "195    False\n",
       "196    False\n",
       "197    False\n",
       "198    False\n",
       "199    False\n",
       "Name: value, Length: 200, dtype: bool"
      ]
     },
     "execution_count": 61,
     "metadata": {},
     "output_type": "execute_result"
    }
   ],
   "source": [
    "# note in class\n",
    "# equivalent\n",
    "df['value'].isna()"
   ]
  },
  {
   "cell_type": "code",
   "execution_count": 62,
   "metadata": {
    "scrolled": true,
    "slideshow": {
     "slide_type": "fragment"
    }
   },
   "outputs": [
    {
     "data": {
      "text/plain": [
       "11"
      ]
     },
     "execution_count": 62,
     "metadata": {},
     "output_type": "execute_result"
    }
   ],
   "source": [
    "# Check for null values\n",
    "sum(df['value'].isnull())"
   ]
  },
  {
   "cell_type": "code",
   "execution_count": 63,
   "metadata": {
    "scrolled": true,
    "slideshow": {
     "slide_type": "fragment"
    }
   },
   "outputs": [
    {
     "data": {
      "text/html": [
       "<div>\n",
       "<style scoped>\n",
       "    .dataframe tbody tr th:only-of-type {\n",
       "        vertical-align: middle;\n",
       "    }\n",
       "\n",
       "    .dataframe tbody tr th {\n",
       "        vertical-align: top;\n",
       "    }\n",
       "\n",
       "    .dataframe thead th {\n",
       "        text-align: right;\n",
       "    }\n",
       "</style>\n",
       "<table border=\"1\" class=\"dataframe\">\n",
       "  <thead>\n",
       "    <tr style=\"text-align: right;\">\n",
       "      <th></th>\n",
       "      <th>id</th>\n",
       "      <th>age</th>\n",
       "      <th>score</th>\n",
       "      <th>value</th>\n",
       "    </tr>\n",
       "  </thead>\n",
       "  <tbody>\n",
       "    <tr>\n",
       "      <th>17</th>\n",
       "      <td>10753</td>\n",
       "      <td>58</td>\n",
       "      <td>335</td>\n",
       "      <td>NaN</td>\n",
       "    </tr>\n",
       "    <tr>\n",
       "      <th>30</th>\n",
       "      <td>16263</td>\n",
       "      <td>42</td>\n",
       "      <td>323</td>\n",
       "      <td>NaN</td>\n",
       "    </tr>\n",
       "    <tr>\n",
       "      <th>44</th>\n",
       "      <td>24952</td>\n",
       "      <td>51</td>\n",
       "      <td>399</td>\n",
       "      <td>NaN</td>\n",
       "    </tr>\n",
       "    <tr>\n",
       "      <th>48</th>\n",
       "      <td>26091</td>\n",
       "      <td>44</td>\n",
       "      <td>620</td>\n",
       "      <td>NaN</td>\n",
       "    </tr>\n",
       "    <tr>\n",
       "      <th>53</th>\n",
       "      <td>29566</td>\n",
       "      <td>69</td>\n",
       "      <td>224</td>\n",
       "      <td>NaN</td>\n",
       "    </tr>\n",
       "    <tr>\n",
       "      <th>63</th>\n",
       "      <td>35466</td>\n",
       "      <td>55</td>\n",
       "      <td>483</td>\n",
       "      <td>NaN</td>\n",
       "    </tr>\n",
       "    <tr>\n",
       "      <th>76</th>\n",
       "      <td>42138</td>\n",
       "      <td>28</td>\n",
       "      <td>543</td>\n",
       "      <td>NaN</td>\n",
       "    </tr>\n",
       "    <tr>\n",
       "      <th>90</th>\n",
       "      <td>51723</td>\n",
       "      <td>40</td>\n",
       "      <td>443</td>\n",
       "      <td>NaN</td>\n",
       "    </tr>\n",
       "    <tr>\n",
       "      <th>103</th>\n",
       "      <td>55821</td>\n",
       "      <td>41</td>\n",
       "      <td>709</td>\n",
       "      <td>NaN</td>\n",
       "    </tr>\n",
       "    <tr>\n",
       "      <th>114</th>\n",
       "      <td>61534</td>\n",
       "      <td>39</td>\n",
       "      <td>598</td>\n",
       "      <td>NaN</td>\n",
       "    </tr>\n",
       "    <tr>\n",
       "      <th>190</th>\n",
       "      <td>94730</td>\n",
       "      <td>22</td>\n",
       "      <td>-1</td>\n",
       "      <td>NaN</td>\n",
       "    </tr>\n",
       "  </tbody>\n",
       "</table>\n",
       "</div>"
      ],
      "text/plain": [
       "        id  age  score  value\n",
       "17   10753   58    335    NaN\n",
       "30   16263   42    323    NaN\n",
       "44   24952   51    399    NaN\n",
       "48   26091   44    620    NaN\n",
       "53   29566   69    224    NaN\n",
       "63   35466   55    483    NaN\n",
       "76   42138   28    543    NaN\n",
       "90   51723   40    443    NaN\n",
       "103  55821   41    709    NaN\n",
       "114  61534   39    598    NaN\n",
       "190  94730   22     -1    NaN"
      ]
     },
     "execution_count": 63,
     "metadata": {},
     "output_type": "execute_result"
    }
   ],
   "source": [
    "# Have a look at the missing values\n",
    "df[df['value'].isnull()]"
   ]
  },
  {
   "cell_type": "markdown",
   "metadata": {
    "slideshow": {
     "slide_type": "slide"
    }
   },
   "source": [
    "## Dealing with Missing Data - NaNs"
   ]
  },
  {
   "cell_type": "code",
   "execution_count": 64,
   "metadata": {
    "slideshow": {
     "slide_type": "fragment"
    }
   },
   "outputs": [
    {
     "data": {
      "text/plain": [
       "(189, 4)"
      ]
     },
     "execution_count": 64,
     "metadata": {},
     "output_type": "execute_result"
    }
   ],
   "source": [
    "# Dealing with null values: Drop rows with missing data\n",
    "df = df.dropna()\n",
    "df.shape"
   ]
  },
  {
   "cell_type": "markdown",
   "metadata": {
    "slideshow": {
     "slide_type": "slide"
    }
   },
   "source": [
    "## Finding Missing Data - Bad Values"
   ]
  },
  {
   "cell_type": "code",
   "execution_count": 65,
   "metadata": {
    "slideshow": {
     "slide_type": "fragment"
    }
   },
   "outputs": [
    {
     "data": {
      "text/plain": [
       "count    189.000000\n",
       "mean     416.100529\n",
       "std      239.527273\n",
       "min       -1.000000\n",
       "25%      288.000000\n",
       "50%      465.000000\n",
       "75%      596.000000\n",
       "max      942.000000\n",
       "Name: score, dtype: float64"
      ]
     },
     "execution_count": 65,
     "metadata": {},
     "output_type": "execute_result"
    }
   ],
   "source": [
    "# Check for the properties of specific columns\n",
    "df['score'].describe()"
   ]
  },
  {
   "cell_type": "code",
   "execution_count": 66,
   "metadata": {
    "scrolled": true,
    "slideshow": {
     "slide_type": "fragment"
    }
   },
   "outputs": [
    {
     "data": {
      "image/png": "[encoded data removed]",
      "text/plain": [
       "<Figure size 432x288 with 1 Axes>"
      ]
     },
     "metadata": {
      "needs_background": "light"
     },
     "output_type": "display_data"
    }
   ],
   "source": [
    "# Check the plot of the data for score to see the distribution\n",
    "df['score'].plot(kind='hist', bins=25);"
   ]
  },
  {
   "cell_type": "markdown",
   "metadata": {
    "slideshow": {
     "slide_type": "slide"
    }
   },
   "source": [
    "## Dealing with Missing Data - Bad Values"
   ]
  },
  {
   "cell_type": "code",
   "execution_count": 67,
   "metadata": {
    "slideshow": {
     "slide_type": "fragment"
    }
   },
   "outputs": [
    {
     "data": {
      "text/plain": [
       "32"
      ]
     },
     "execution_count": 67,
     "metadata": {},
     "output_type": "execute_result"
    }
   ],
   "source": [
    "# Look for how many values have a -1 value in 'score'\n",
    "sum(df['score'] == -1)"
   ]
  },
  {
   "cell_type": "code",
   "execution_count": 68,
   "metadata": {
    "slideshow": {
     "slide_type": "fragment"
    }
   },
   "outputs": [
    {
     "data": {
      "text/plain": [
       "(157, 4)"
      ]
     },
     "execution_count": 68,
     "metadata": {},
     "output_type": "execute_result"
    }
   ],
   "source": [
    "# Drop any row with -1 value in 'score'\n",
    "df = df[df['score'] != -1]\n",
    "df.shape"
   ]
  },
  {
   "cell_type": "markdown",
   "metadata": {
    "slideshow": {
     "slide_type": "slide"
    }
   },
   "source": [
    "## Creating new columns (mutating)\n",
    "\n",
    "- `assign` can be very helpful in adding a new column\n",
    "- lambda functions can be used to carry out calculations"
   ]
  },
  {
   "cell_type": "code",
   "execution_count": 69,
   "metadata": {
    "scrolled": false,
    "slideshow": {
     "slide_type": "fragment"
    }
   },
   "outputs": [
    {
     "data": {
      "text/html": [
       "<div>\n",
       "<style scoped>\n",
       "    .dataframe tbody tr th:only-of-type {\n",
       "        vertical-align: middle;\n",
       "    }\n",
       "\n",
       "    .dataframe tbody tr th {\n",
       "        vertical-align: top;\n",
       "    }\n",
       "\n",
       "    .dataframe thead th {\n",
       "        text-align: right;\n",
       "    }\n",
       "</style>\n",
       "<table border=\"1\" class=\"dataframe\">\n",
       "  <thead>\n",
       "    <tr style=\"text-align: right;\">\n",
       "      <th></th>\n",
       "      <th>id</th>\n",
       "      <th>age</th>\n",
       "      <th>score</th>\n",
       "      <th>value</th>\n",
       "      <th>age_days</th>\n",
       "    </tr>\n",
       "  </thead>\n",
       "  <tbody>\n",
       "    <tr>\n",
       "      <th>1</th>\n",
       "      <td>620</td>\n",
       "      <td>46</td>\n",
       "      <td>492</td>\n",
       "      <td>46713.90</td>\n",
       "      <td>16790</td>\n",
       "    </tr>\n",
       "    <tr>\n",
       "      <th>2</th>\n",
       "      <td>891</td>\n",
       "      <td>48</td>\n",
       "      <td>489</td>\n",
       "      <td>32071.74</td>\n",
       "      <td>17520</td>\n",
       "    </tr>\n",
       "    <tr>\n",
       "      <th>5</th>\n",
       "      <td>2049</td>\n",
       "      <td>57</td>\n",
       "      <td>333</td>\n",
       "      <td>138936.92</td>\n",
       "      <td>20805</td>\n",
       "    </tr>\n",
       "    <tr>\n",
       "      <th>7</th>\n",
       "      <td>2607</td>\n",
       "      <td>50</td>\n",
       "      <td>536</td>\n",
       "      <td>9367.27</td>\n",
       "      <td>18250</td>\n",
       "    </tr>\n",
       "    <tr>\n",
       "      <th>8</th>\n",
       "      <td>2635</td>\n",
       "      <td>68</td>\n",
       "      <td>351</td>\n",
       "      <td>66035.28</td>\n",
       "      <td>24820</td>\n",
       "    </tr>\n",
       "  </tbody>\n",
       "</table>\n",
       "</div>"
      ],
      "text/plain": [
       "     id  age  score      value  age_days\n",
       "1   620   46    492   46713.90     16790\n",
       "2   891   48    489   32071.74     17520\n",
       "5  2049   57    333  138936.92     20805\n",
       "7  2607   50    536    9367.27     18250\n",
       "8  2635   68    351   66035.28     24820"
      ]
     },
     "execution_count": 69,
     "metadata": {},
     "output_type": "execute_result"
    }
   ],
   "source": [
    "# convert age in years to age in (approximate) days\n",
    "df = df.assign(age_days = df['age'] * 365)\n",
    "df.head()"
   ]
  },
  {
   "cell_type": "code",
   "execution_count": 71,
   "metadata": {},
   "outputs": [
    {
     "data": {
      "text/html": [
       "<div>\n",
       "<style scoped>\n",
       "    .dataframe tbody tr th:only-of-type {\n",
       "        vertical-align: middle;\n",
       "    }\n",
       "\n",
       "    .dataframe tbody tr th {\n",
       "        vertical-align: top;\n",
       "    }\n",
       "\n",
       "    .dataframe thead th {\n",
       "        text-align: right;\n",
       "    }\n",
       "</style>\n",
       "<table border=\"1\" class=\"dataframe\">\n",
       "  <thead>\n",
       "    <tr style=\"text-align: right;\">\n",
       "      <th></th>\n",
       "      <th>id</th>\n",
       "      <th>age</th>\n",
       "      <th>score</th>\n",
       "      <th>value</th>\n",
       "      <th>age_days</th>\n",
       "      <th>age_months</th>\n",
       "    </tr>\n",
       "  </thead>\n",
       "  <tbody>\n",
       "    <tr>\n",
       "      <th>1</th>\n",
       "      <td>620</td>\n",
       "      <td>46</td>\n",
       "      <td>492</td>\n",
       "      <td>46713.90</td>\n",
       "      <td>16790</td>\n",
       "      <td>552</td>\n",
       "    </tr>\n",
       "    <tr>\n",
       "      <th>2</th>\n",
       "      <td>891</td>\n",
       "      <td>48</td>\n",
       "      <td>489</td>\n",
       "      <td>32071.74</td>\n",
       "      <td>17520</td>\n",
       "      <td>576</td>\n",
       "    </tr>\n",
       "    <tr>\n",
       "      <th>5</th>\n",
       "      <td>2049</td>\n",
       "      <td>57</td>\n",
       "      <td>333</td>\n",
       "      <td>138936.92</td>\n",
       "      <td>20805</td>\n",
       "      <td>684</td>\n",
       "    </tr>\n",
       "    <tr>\n",
       "      <th>7</th>\n",
       "      <td>2607</td>\n",
       "      <td>50</td>\n",
       "      <td>536</td>\n",
       "      <td>9367.27</td>\n",
       "      <td>18250</td>\n",
       "      <td>600</td>\n",
       "    </tr>\n",
       "    <tr>\n",
       "      <th>8</th>\n",
       "      <td>2635</td>\n",
       "      <td>68</td>\n",
       "      <td>351</td>\n",
       "      <td>66035.28</td>\n",
       "      <td>24820</td>\n",
       "      <td>816</td>\n",
       "    </tr>\n",
       "  </tbody>\n",
       "</table>\n",
       "</div>"
      ],
      "text/plain": [
       "     id  age  score      value  age_days  age_months\n",
       "1   620   46    492   46713.90     16790         552\n",
       "2   891   48    489   32071.74     17520         576\n",
       "5  2049   57    333  138936.92     20805         684\n",
       "7  2607   50    536    9367.27     18250         600\n",
       "8  2635   68    351   66035.28     24820         816"
      ]
     },
     "execution_count": 71,
     "metadata": {},
     "output_type": "execute_result"
    }
   ],
   "source": [
    "df['age_months'] = df['age'] * 12\n",
    "df.head()"
   ]
  },
  {
   "cell_type": "markdown",
   "metadata": {
    "slideshow": {
     "slide_type": "slide"
    }
   },
   "source": [
    "## Grouping & summarizing\n",
    "\n",
    "- group by a particular variable\n",
    "- calculate summary statistics/metrics within group"
   ]
  },
  {
   "cell_type": "code",
   "execution_count": 73,
   "metadata": {
    "scrolled": true
   },
   "outputs": [
    {
     "data": {
      "text/plain": [
       "52    10\n",
       "53     9\n",
       "44     8\n",
       "46     7\n",
       "47     7\n",
       "34     6\n",
       "39     6\n",
       "45     6\n",
       "57     6\n",
       "48     6\n",
       "42     5\n",
       "43     5\n",
       "49     5\n",
       "54     5\n",
       "41     4\n",
       "51     4\n",
       "50     4\n",
       "56     4\n",
       "37     4\n",
       "60     4\n",
       "64     3\n",
       "35     3\n",
       "36     3\n",
       "38     3\n",
       "31     3\n",
       "29     3\n",
       "28     3\n",
       "32     3\n",
       "27     2\n",
       "40     2\n",
       "68     2\n",
       "58     2\n",
       "61     2\n",
       "23     1\n",
       "69     1\n",
       "33     1\n",
       "55     1\n",
       "59     1\n",
       "62     1\n",
       "63     1\n",
       "14     1\n",
       "Name: age, dtype: int64"
      ]
     },
     "execution_count": 73,
     "metadata": {},
     "output_type": "execute_result"
    }
   ],
   "source": [
    "df.age.value_counts()"
   ]
  },
  {
   "cell_type": "code",
   "execution_count": 74,
   "metadata": {
    "slideshow": {
     "slide_type": "-"
    }
   },
   "outputs": [
    {
     "data": {
      "text/html": [
       "<div>\n",
       "<style scoped>\n",
       "    .dataframe tbody tr th:only-of-type {\n",
       "        vertical-align: middle;\n",
       "    }\n",
       "\n",
       "    .dataframe tbody tr th {\n",
       "        vertical-align: top;\n",
       "    }\n",
       "\n",
       "    .dataframe thead th {\n",
       "        text-align: right;\n",
       "    }\n",
       "</style>\n",
       "<table border=\"1\" class=\"dataframe\">\n",
       "  <thead>\n",
       "    <tr style=\"text-align: right;\">\n",
       "      <th></th>\n",
       "      <th>id</th>\n",
       "      <th>score</th>\n",
       "      <th>value</th>\n",
       "      <th>age_days</th>\n",
       "      <th>age_months</th>\n",
       "    </tr>\n",
       "    <tr>\n",
       "      <th>age</th>\n",
       "      <th></th>\n",
       "      <th></th>\n",
       "      <th></th>\n",
       "      <th></th>\n",
       "      <th></th>\n",
       "    </tr>\n",
       "  </thead>\n",
       "  <tbody>\n",
       "    <tr>\n",
       "      <th>14</th>\n",
       "      <td>84812.000000</td>\n",
       "      <td>749.000000</td>\n",
       "      <td>5241.510000</td>\n",
       "      <td>5110.0</td>\n",
       "      <td>168.0</td>\n",
       "    </tr>\n",
       "    <tr>\n",
       "      <th>23</th>\n",
       "      <td>81282.000000</td>\n",
       "      <td>775.000000</td>\n",
       "      <td>9116.030000</td>\n",
       "      <td>8395.0</td>\n",
       "      <td>276.0</td>\n",
       "    </tr>\n",
       "    <tr>\n",
       "      <th>27</th>\n",
       "      <td>43311.000000</td>\n",
       "      <td>674.500000</td>\n",
       "      <td>10920.255000</td>\n",
       "      <td>9855.0</td>\n",
       "      <td>324.0</td>\n",
       "    </tr>\n",
       "    <tr>\n",
       "      <th>28</th>\n",
       "      <td>79935.333333</td>\n",
       "      <td>820.000000</td>\n",
       "      <td>16190.663333</td>\n",
       "      <td>10220.0</td>\n",
       "      <td>336.0</td>\n",
       "    </tr>\n",
       "    <tr>\n",
       "      <th>29</th>\n",
       "      <td>67990.333333</td>\n",
       "      <td>539.000000</td>\n",
       "      <td>5366.800000</td>\n",
       "      <td>10585.0</td>\n",
       "      <td>348.0</td>\n",
       "    </tr>\n",
       "    <tr>\n",
       "      <th>31</th>\n",
       "      <td>51448.333333</td>\n",
       "      <td>335.666667</td>\n",
       "      <td>5485.036667</td>\n",
       "      <td>11315.0</td>\n",
       "      <td>372.0</td>\n",
       "    </tr>\n",
       "    <tr>\n",
       "      <th>32</th>\n",
       "      <td>57812.333333</td>\n",
       "      <td>570.000000</td>\n",
       "      <td>11230.650000</td>\n",
       "      <td>11680.0</td>\n",
       "      <td>384.0</td>\n",
       "    </tr>\n",
       "    <tr>\n",
       "      <th>33</th>\n",
       "      <td>20708.000000</td>\n",
       "      <td>750.000000</td>\n",
       "      <td>6984.920000</td>\n",
       "      <td>12045.0</td>\n",
       "      <td>396.0</td>\n",
       "    </tr>\n",
       "    <tr>\n",
       "      <th>34</th>\n",
       "      <td>62912.833333</td>\n",
       "      <td>621.500000</td>\n",
       "      <td>20480.336667</td>\n",
       "      <td>12410.0</td>\n",
       "      <td>408.0</td>\n",
       "    </tr>\n",
       "    <tr>\n",
       "      <th>35</th>\n",
       "      <td>47825.000000</td>\n",
       "      <td>614.666667</td>\n",
       "      <td>27419.950000</td>\n",
       "      <td>12775.0</td>\n",
       "      <td>420.0</td>\n",
       "    </tr>\n",
       "    <tr>\n",
       "      <th>36</th>\n",
       "      <td>64691.333333</td>\n",
       "      <td>715.333333</td>\n",
       "      <td>15719.360000</td>\n",
       "      <td>13140.0</td>\n",
       "      <td>432.0</td>\n",
       "    </tr>\n",
       "    <tr>\n",
       "      <th>37</th>\n",
       "      <td>62299.000000</td>\n",
       "      <td>477.000000</td>\n",
       "      <td>12581.357500</td>\n",
       "      <td>13505.0</td>\n",
       "      <td>444.0</td>\n",
       "    </tr>\n",
       "    <tr>\n",
       "      <th>38</th>\n",
       "      <td>43886.666667</td>\n",
       "      <td>488.000000</td>\n",
       "      <td>12339.096667</td>\n",
       "      <td>13870.0</td>\n",
       "      <td>456.0</td>\n",
       "    </tr>\n",
       "    <tr>\n",
       "      <th>39</th>\n",
       "      <td>49580.500000</td>\n",
       "      <td>456.833333</td>\n",
       "      <td>11370.056667</td>\n",
       "      <td>14235.0</td>\n",
       "      <td>468.0</td>\n",
       "    </tr>\n",
       "    <tr>\n",
       "      <th>40</th>\n",
       "      <td>42502.000000</td>\n",
       "      <td>458.500000</td>\n",
       "      <td>12317.655000</td>\n",
       "      <td>14600.0</td>\n",
       "      <td>480.0</td>\n",
       "    </tr>\n",
       "    <tr>\n",
       "      <th>41</th>\n",
       "      <td>46878.250000</td>\n",
       "      <td>504.250000</td>\n",
       "      <td>14609.110000</td>\n",
       "      <td>14965.0</td>\n",
       "      <td>492.0</td>\n",
       "    </tr>\n",
       "    <tr>\n",
       "      <th>42</th>\n",
       "      <td>65470.400000</td>\n",
       "      <td>597.400000</td>\n",
       "      <td>58733.974000</td>\n",
       "      <td>15330.0</td>\n",
       "      <td>504.0</td>\n",
       "    </tr>\n",
       "    <tr>\n",
       "      <th>43</th>\n",
       "      <td>68600.800000</td>\n",
       "      <td>480.600000</td>\n",
       "      <td>9479.648000</td>\n",
       "      <td>15695.0</td>\n",
       "      <td>516.0</td>\n",
       "    </tr>\n",
       "    <tr>\n",
       "      <th>44</th>\n",
       "      <td>49176.750000</td>\n",
       "      <td>457.625000</td>\n",
       "      <td>12186.182500</td>\n",
       "      <td>16060.0</td>\n",
       "      <td>528.0</td>\n",
       "    </tr>\n",
       "    <tr>\n",
       "      <th>45</th>\n",
       "      <td>65332.833333</td>\n",
       "      <td>494.000000</td>\n",
       "      <td>12808.595000</td>\n",
       "      <td>16425.0</td>\n",
       "      <td>540.0</td>\n",
       "    </tr>\n",
       "    <tr>\n",
       "      <th>46</th>\n",
       "      <td>63648.000000</td>\n",
       "      <td>494.428571</td>\n",
       "      <td>23698.015714</td>\n",
       "      <td>16790.0</td>\n",
       "      <td>552.0</td>\n",
       "    </tr>\n",
       "    <tr>\n",
       "      <th>47</th>\n",
       "      <td>42974.714286</td>\n",
       "      <td>531.571429</td>\n",
       "      <td>39429.118571</td>\n",
       "      <td>17155.0</td>\n",
       "      <td>564.0</td>\n",
       "    </tr>\n",
       "    <tr>\n",
       "      <th>48</th>\n",
       "      <td>53855.166667</td>\n",
       "      <td>531.000000</td>\n",
       "      <td>34962.375000</td>\n",
       "      <td>17520.0</td>\n",
       "      <td>576.0</td>\n",
       "    </tr>\n",
       "    <tr>\n",
       "      <th>49</th>\n",
       "      <td>44166.000000</td>\n",
       "      <td>514.600000</td>\n",
       "      <td>18375.030000</td>\n",
       "      <td>17885.0</td>\n",
       "      <td>588.0</td>\n",
       "    </tr>\n",
       "    <tr>\n",
       "      <th>50</th>\n",
       "      <td>54665.250000</td>\n",
       "      <td>512.250000</td>\n",
       "      <td>17888.720000</td>\n",
       "      <td>18250.0</td>\n",
       "      <td>600.0</td>\n",
       "    </tr>\n",
       "    <tr>\n",
       "      <th>51</th>\n",
       "      <td>71875.250000</td>\n",
       "      <td>464.000000</td>\n",
       "      <td>19805.317500</td>\n",
       "      <td>18615.0</td>\n",
       "      <td>612.0</td>\n",
       "    </tr>\n",
       "    <tr>\n",
       "      <th>52</th>\n",
       "      <td>47587.300000</td>\n",
       "      <td>501.000000</td>\n",
       "      <td>49976.079000</td>\n",
       "      <td>18980.0</td>\n",
       "      <td>624.0</td>\n",
       "    </tr>\n",
       "    <tr>\n",
       "      <th>53</th>\n",
       "      <td>49527.777778</td>\n",
       "      <td>523.111111</td>\n",
       "      <td>30803.248889</td>\n",
       "      <td>19345.0</td>\n",
       "      <td>636.0</td>\n",
       "    </tr>\n",
       "    <tr>\n",
       "      <th>54</th>\n",
       "      <td>75339.000000</td>\n",
       "      <td>472.200000</td>\n",
       "      <td>62484.416000</td>\n",
       "      <td>19710.0</td>\n",
       "      <td>648.0</td>\n",
       "    </tr>\n",
       "    <tr>\n",
       "      <th>55</th>\n",
       "      <td>51784.000000</td>\n",
       "      <td>149.000000</td>\n",
       "      <td>12632.320000</td>\n",
       "      <td>20075.0</td>\n",
       "      <td>660.0</td>\n",
       "    </tr>\n",
       "    <tr>\n",
       "      <th>56</th>\n",
       "      <td>40747.000000</td>\n",
       "      <td>531.250000</td>\n",
       "      <td>66800.067500</td>\n",
       "      <td>20440.0</td>\n",
       "      <td>672.0</td>\n",
       "    </tr>\n",
       "    <tr>\n",
       "      <th>57</th>\n",
       "      <td>61431.666667</td>\n",
       "      <td>313.833333</td>\n",
       "      <td>44684.031667</td>\n",
       "      <td>20805.0</td>\n",
       "      <td>684.0</td>\n",
       "    </tr>\n",
       "    <tr>\n",
       "      <th>58</th>\n",
       "      <td>39358.500000</td>\n",
       "      <td>400.500000</td>\n",
       "      <td>22387.640000</td>\n",
       "      <td>21170.0</td>\n",
       "      <td>696.0</td>\n",
       "    </tr>\n",
       "    <tr>\n",
       "      <th>59</th>\n",
       "      <td>4199.000000</td>\n",
       "      <td>500.000000</td>\n",
       "      <td>34938.080000</td>\n",
       "      <td>21535.0</td>\n",
       "      <td>708.0</td>\n",
       "    </tr>\n",
       "    <tr>\n",
       "      <th>60</th>\n",
       "      <td>74765.750000</td>\n",
       "      <td>300.500000</td>\n",
       "      <td>38482.447500</td>\n",
       "      <td>21900.0</td>\n",
       "      <td>720.0</td>\n",
       "    </tr>\n",
       "    <tr>\n",
       "      <th>61</th>\n",
       "      <td>53231.500000</td>\n",
       "      <td>497.000000</td>\n",
       "      <td>34068.430000</td>\n",
       "      <td>22265.0</td>\n",
       "      <td>732.0</td>\n",
       "    </tr>\n",
       "    <tr>\n",
       "      <th>62</th>\n",
       "      <td>27225.000000</td>\n",
       "      <td>622.000000</td>\n",
       "      <td>105449.110000</td>\n",
       "      <td>22630.0</td>\n",
       "      <td>744.0</td>\n",
       "    </tr>\n",
       "    <tr>\n",
       "      <th>63</th>\n",
       "      <td>50960.000000</td>\n",
       "      <td>347.000000</td>\n",
       "      <td>105598.790000</td>\n",
       "      <td>22995.0</td>\n",
       "      <td>756.0</td>\n",
       "    </tr>\n",
       "    <tr>\n",
       "      <th>64</th>\n",
       "      <td>51823.333333</td>\n",
       "      <td>297.333333</td>\n",
       "      <td>79593.543333</td>\n",
       "      <td>23360.0</td>\n",
       "      <td>768.0</td>\n",
       "    </tr>\n",
       "    <tr>\n",
       "      <th>68</th>\n",
       "      <td>34885.000000</td>\n",
       "      <td>347.000000</td>\n",
       "      <td>48514.625000</td>\n",
       "      <td>24820.0</td>\n",
       "      <td>816.0</td>\n",
       "    </tr>\n",
       "    <tr>\n",
       "      <th>69</th>\n",
       "      <td>29868.000000</td>\n",
       "      <td>343.000000</td>\n",
       "      <td>60605.080000</td>\n",
       "      <td>25185.0</td>\n",
       "      <td>828.0</td>\n",
       "    </tr>\n",
       "  </tbody>\n",
       "</table>\n",
       "</div>"
      ],
      "text/plain": [
       "               id       score          value  age_days  age_months\n",
       "age                                                               \n",
       "14   84812.000000  749.000000    5241.510000    5110.0       168.0\n",
       "23   81282.000000  775.000000    9116.030000    8395.0       276.0\n",
       "27   43311.000000  674.500000   10920.255000    9855.0       324.0\n",
       "28   79935.333333  820.000000   16190.663333   10220.0       336.0\n",
       "29   67990.333333  539.000000    5366.800000   10585.0       348.0\n",
       "31   51448.333333  335.666667    5485.036667   11315.0       372.0\n",
       "32   57812.333333  570.000000   11230.650000   11680.0       384.0\n",
       "33   20708.000000  750.000000    6984.920000   12045.0       396.0\n",
       "34   62912.833333  621.500000   20480.336667   12410.0       408.0\n",
       "35   47825.000000  614.666667   27419.950000   12775.0       420.0\n",
       "36   64691.333333  715.333333   15719.360000   13140.0       432.0\n",
       "37   62299.000000  477.000000   12581.357500   13505.0       444.0\n",
       "38   43886.666667  488.000000   12339.096667   13870.0       456.0\n",
       "39   49580.500000  456.833333   11370.056667   14235.0       468.0\n",
       "40   42502.000000  458.500000   12317.655000   14600.0       480.0\n",
       "41   46878.250000  504.250000   14609.110000   14965.0       492.0\n",
       "42   65470.400000  597.400000   58733.974000   15330.0       504.0\n",
       "43   68600.800000  480.600000    9479.648000   15695.0       516.0\n",
       "44   49176.750000  457.625000   12186.182500   16060.0       528.0\n",
       "45   65332.833333  494.000000   12808.595000   16425.0       540.0\n",
       "46   63648.000000  494.428571   23698.015714   16790.0       552.0\n",
       "47   42974.714286  531.571429   39429.118571   17155.0       564.0\n",
       "48   53855.166667  531.000000   34962.375000   17520.0       576.0\n",
       "49   44166.000000  514.600000   18375.030000   17885.0       588.0\n",
       "50   54665.250000  512.250000   17888.720000   18250.0       600.0\n",
       "51   71875.250000  464.000000   19805.317500   18615.0       612.0\n",
       "52   47587.300000  501.000000   49976.079000   18980.0       624.0\n",
       "53   49527.777778  523.111111   30803.248889   19345.0       636.0\n",
       "54   75339.000000  472.200000   62484.416000   19710.0       648.0\n",
       "55   51784.000000  149.000000   12632.320000   20075.0       660.0\n",
       "56   40747.000000  531.250000   66800.067500   20440.0       672.0\n",
       "57   61431.666667  313.833333   44684.031667   20805.0       684.0\n",
       "58   39358.500000  400.500000   22387.640000   21170.0       696.0\n",
       "59    4199.000000  500.000000   34938.080000   21535.0       708.0\n",
       "60   74765.750000  300.500000   38482.447500   21900.0       720.0\n",
       "61   53231.500000  497.000000   34068.430000   22265.0       732.0\n",
       "62   27225.000000  622.000000  105449.110000   22630.0       744.0\n",
       "63   50960.000000  347.000000  105598.790000   22995.0       756.0\n",
       "64   51823.333333  297.333333   79593.543333   23360.0       768.0\n",
       "68   34885.000000  347.000000   48514.625000   24820.0       816.0\n",
       "69   29868.000000  343.000000   60605.080000   25185.0       828.0"
      ]
     },
     "execution_count": 74,
     "metadata": {},
     "output_type": "execute_result"
    }
   ],
   "source": [
    "# caclculate average within each age\n",
    "df.groupby('age').agg('mean')"
   ]
  },
  {
   "cell_type": "markdown",
   "metadata": {
    "slideshow": {
     "slide_type": "slide"
    }
   },
   "source": [
    "## Sorting Rows (arrange)\n",
    "\n",
    "- specify order in which to display rows"
   ]
  },
  {
   "cell_type": "code",
   "execution_count": 75,
   "metadata": {
    "scrolled": true,
    "slideshow": {
     "slide_type": "fragment"
    }
   },
   "outputs": [
    {
     "data": {
      "text/html": [
       "<div>\n",
       "<style scoped>\n",
       "    .dataframe tbody tr th:only-of-type {\n",
       "        vertical-align: middle;\n",
       "    }\n",
       "\n",
       "    .dataframe tbody tr th {\n",
       "        vertical-align: top;\n",
       "    }\n",
       "\n",
       "    .dataframe thead th {\n",
       "        text-align: right;\n",
       "    }\n",
       "</style>\n",
       "<table border=\"1\" class=\"dataframe\">\n",
       "  <thead>\n",
       "    <tr style=\"text-align: right;\">\n",
       "      <th></th>\n",
       "      <th>id</th>\n",
       "      <th>age</th>\n",
       "      <th>score</th>\n",
       "      <th>value</th>\n",
       "      <th>age_days</th>\n",
       "      <th>age_months</th>\n",
       "    </tr>\n",
       "  </thead>\n",
       "  <tbody>\n",
       "    <tr>\n",
       "      <th>1</th>\n",
       "      <td>620</td>\n",
       "      <td>46</td>\n",
       "      <td>492</td>\n",
       "      <td>46713.90</td>\n",
       "      <td>16790</td>\n",
       "      <td>552</td>\n",
       "    </tr>\n",
       "    <tr>\n",
       "      <th>2</th>\n",
       "      <td>891</td>\n",
       "      <td>48</td>\n",
       "      <td>489</td>\n",
       "      <td>32071.74</td>\n",
       "      <td>17520</td>\n",
       "      <td>576</td>\n",
       "    </tr>\n",
       "    <tr>\n",
       "      <th>5</th>\n",
       "      <td>2049</td>\n",
       "      <td>57</td>\n",
       "      <td>333</td>\n",
       "      <td>138936.92</td>\n",
       "      <td>20805</td>\n",
       "      <td>684</td>\n",
       "    </tr>\n",
       "    <tr>\n",
       "      <th>7</th>\n",
       "      <td>2607</td>\n",
       "      <td>50</td>\n",
       "      <td>536</td>\n",
       "      <td>9367.27</td>\n",
       "      <td>18250</td>\n",
       "      <td>600</td>\n",
       "    </tr>\n",
       "    <tr>\n",
       "      <th>8</th>\n",
       "      <td>2635</td>\n",
       "      <td>68</td>\n",
       "      <td>351</td>\n",
       "      <td>66035.28</td>\n",
       "      <td>24820</td>\n",
       "      <td>816</td>\n",
       "    </tr>\n",
       "  </tbody>\n",
       "</table>\n",
       "</div>"
      ],
      "text/plain": [
       "     id  age  score      value  age_days  age_months\n",
       "1   620   46    492   46713.90     16790         552\n",
       "2   891   48    489   32071.74     17520         576\n",
       "5  2049   57    333  138936.92     20805         684\n",
       "7  2607   50    536    9367.27     18250         600\n",
       "8  2635   68    351   66035.28     24820         816"
      ]
     },
     "execution_count": 75,
     "metadata": {},
     "output_type": "execute_result"
    }
   ],
   "source": [
    "df.head()"
   ]
  },
  {
   "cell_type": "code",
   "execution_count": 77,
   "metadata": {
    "scrolled": true,
    "slideshow": {
     "slide_type": "fragment"
    }
   },
   "outputs": [
    {
     "data": {
      "text/html": [
       "<div>\n",
       "<style scoped>\n",
       "    .dataframe tbody tr th:only-of-type {\n",
       "        vertical-align: middle;\n",
       "    }\n",
       "\n",
       "    .dataframe tbody tr th {\n",
       "        vertical-align: top;\n",
       "    }\n",
       "\n",
       "    .dataframe thead th {\n",
       "        text-align: right;\n",
       "    }\n",
       "</style>\n",
       "<table border=\"1\" class=\"dataframe\">\n",
       "  <thead>\n",
       "    <tr style=\"text-align: right;\">\n",
       "      <th></th>\n",
       "      <th>id</th>\n",
       "      <th>age</th>\n",
       "      <th>score</th>\n",
       "      <th>value</th>\n",
       "      <th>age_days</th>\n",
       "      <th>age_months</th>\n",
       "    </tr>\n",
       "  </thead>\n",
       "  <tbody>\n",
       "    <tr>\n",
       "      <th>54</th>\n",
       "      <td>29868</td>\n",
       "      <td>69</td>\n",
       "      <td>343</td>\n",
       "      <td>60605.08</td>\n",
       "      <td>25185</td>\n",
       "      <td>828</td>\n",
       "    </tr>\n",
       "    <tr>\n",
       "      <th>8</th>\n",
       "      <td>2635</td>\n",
       "      <td>68</td>\n",
       "      <td>351</td>\n",
       "      <td>66035.28</td>\n",
       "      <td>24820</td>\n",
       "      <td>816</td>\n",
       "    </tr>\n",
       "    <tr>\n",
       "      <th>125</th>\n",
       "      <td>67135</td>\n",
       "      <td>68</td>\n",
       "      <td>343</td>\n",
       "      <td>30993.97</td>\n",
       "      <td>24820</td>\n",
       "      <td>816</td>\n",
       "    </tr>\n",
       "    <tr>\n",
       "      <th>22</th>\n",
       "      <td>13120</td>\n",
       "      <td>64</td>\n",
       "      <td>165</td>\n",
       "      <td>17444.32</td>\n",
       "      <td>23360</td>\n",
       "      <td>768</td>\n",
       "    </tr>\n",
       "    <tr>\n",
       "      <th>177</th>\n",
       "      <td>89922</td>\n",
       "      <td>64</td>\n",
       "      <td>282</td>\n",
       "      <td>161540.81</td>\n",
       "      <td>23360</td>\n",
       "      <td>768</td>\n",
       "    </tr>\n",
       "  </tbody>\n",
       "</table>\n",
       "</div>"
      ],
      "text/plain": [
       "        id  age  score      value  age_days  age_months\n",
       "54   29868   69    343   60605.08     25185         828\n",
       "8     2635   68    351   66035.28     24820         816\n",
       "125  67135   68    343   30993.97     24820         816\n",
       "22   13120   64    165   17444.32     23360         768\n",
       "177  89922   64    282  161540.81     23360         768"
      ]
     },
     "execution_count": 77,
     "metadata": {},
     "output_type": "execute_result"
    }
   ],
   "source": [
    "# sort by values in age\n",
    "df = df.sort_values(by = ['age'],ascending=False)\n",
    "df.head()"
   ]
  },
  {
   "cell_type": "markdown",
   "metadata": {
    "slideshow": {
     "slide_type": "slide"
    }
   },
   "source": [
    "## Combining datasets\n",
    "![](img/join.png)"
   ]
  },
  {
   "cell_type": "markdown",
   "metadata": {
    "slideshow": {
     "slide_type": "-"
    }
   },
   "source": [
    "![](img/join.png)"
   ]
  },
  {
   "cell_type": "code",
   "execution_count": 78,
   "metadata": {
    "slideshow": {
     "slide_type": "slide"
    }
   },
   "outputs": [],
   "source": [
    "## Create two DataFrames\n",
    "left = pd.DataFrame({'key': ['A', 'B', 'C', 'D'], 'value': np.random.randn(4)})    \n",
    "right = pd.DataFrame({'key': ['B', 'D', 'E', 'F'], 'value': np.random.randn(4)})"
   ]
  },
  {
   "cell_type": "code",
   "execution_count": 79,
   "metadata": {
    "scrolled": true,
    "slideshow": {
     "slide_type": "fragment"
    }
   },
   "outputs": [
    {
     "data": {
      "text/html": [
       "<div>\n",
       "<style scoped>\n",
       "    .dataframe tbody tr th:only-of-type {\n",
       "        vertical-align: middle;\n",
       "    }\n",
       "\n",
       "    .dataframe tbody tr th {\n",
       "        vertical-align: top;\n",
       "    }\n",
       "\n",
       "    .dataframe thead th {\n",
       "        text-align: right;\n",
       "    }\n",
       "</style>\n",
       "<table border=\"1\" class=\"dataframe\">\n",
       "  <thead>\n",
       "    <tr style=\"text-align: right;\">\n",
       "      <th></th>\n",
       "      <th>key</th>\n",
       "      <th>value</th>\n",
       "    </tr>\n",
       "  </thead>\n",
       "  <tbody>\n",
       "    <tr>\n",
       "      <th>0</th>\n",
       "      <td>A</td>\n",
       "      <td>0.536233</td>\n",
       "    </tr>\n",
       "    <tr>\n",
       "      <th>1</th>\n",
       "      <td>B</td>\n",
       "      <td>0.345554</td>\n",
       "    </tr>\n",
       "    <tr>\n",
       "      <th>2</th>\n",
       "      <td>C</td>\n",
       "      <td>0.125059</td>\n",
       "    </tr>\n",
       "    <tr>\n",
       "      <th>3</th>\n",
       "      <td>D</td>\n",
       "      <td>-0.499216</td>\n",
       "    </tr>\n",
       "  </tbody>\n",
       "</table>\n",
       "</div>"
      ],
      "text/plain": [
       "  key     value\n",
       "0   A  0.536233\n",
       "1   B  0.345554\n",
       "2   C  0.125059\n",
       "3   D -0.499216"
      ]
     },
     "execution_count": 79,
     "metadata": {},
     "output_type": "execute_result"
    }
   ],
   "source": [
    "left"
   ]
  },
  {
   "cell_type": "code",
   "execution_count": 80,
   "metadata": {
    "scrolled": true,
    "slideshow": {
     "slide_type": "fragment"
    }
   },
   "outputs": [
    {
     "data": {
      "text/html": [
       "<div>\n",
       "<style scoped>\n",
       "    .dataframe tbody tr th:only-of-type {\n",
       "        vertical-align: middle;\n",
       "    }\n",
       "\n",
       "    .dataframe tbody tr th {\n",
       "        vertical-align: top;\n",
       "    }\n",
       "\n",
       "    .dataframe thead th {\n",
       "        text-align: right;\n",
       "    }\n",
       "</style>\n",
       "<table border=\"1\" class=\"dataframe\">\n",
       "  <thead>\n",
       "    <tr style=\"text-align: right;\">\n",
       "      <th></th>\n",
       "      <th>key</th>\n",
       "      <th>value</th>\n",
       "    </tr>\n",
       "  </thead>\n",
       "  <tbody>\n",
       "    <tr>\n",
       "      <th>0</th>\n",
       "      <td>B</td>\n",
       "      <td>0.550449</td>\n",
       "    </tr>\n",
       "    <tr>\n",
       "      <th>1</th>\n",
       "      <td>D</td>\n",
       "      <td>0.325947</td>\n",
       "    </tr>\n",
       "    <tr>\n",
       "      <th>2</th>\n",
       "      <td>E</td>\n",
       "      <td>-0.796179</td>\n",
       "    </tr>\n",
       "    <tr>\n",
       "      <th>3</th>\n",
       "      <td>F</td>\n",
       "      <td>-0.884040</td>\n",
       "    </tr>\n",
       "  </tbody>\n",
       "</table>\n",
       "</div>"
      ],
      "text/plain": [
       "  key     value\n",
       "0   B  0.550449\n",
       "1   D  0.325947\n",
       "2   E -0.796179\n",
       "3   F -0.884040"
      ]
     },
     "execution_count": 80,
     "metadata": {},
     "output_type": "execute_result"
    }
   ],
   "source": [
    "right"
   ]
  },
  {
   "cell_type": "code",
   "execution_count": 81,
   "metadata": {
    "slideshow": {
     "slide_type": "fragment"
    }
   },
   "outputs": [],
   "source": [
    "left.merge?"
   ]
  },
  {
   "cell_type": "code",
   "execution_count": 82,
   "metadata": {},
   "outputs": [
    {
     "data": {
      "text/html": [
       "<div>\n",
       "<style scoped>\n",
       "    .dataframe tbody tr th:only-of-type {\n",
       "        vertical-align: middle;\n",
       "    }\n",
       "\n",
       "    .dataframe tbody tr th {\n",
       "        vertical-align: top;\n",
       "    }\n",
       "\n",
       "    .dataframe thead th {\n",
       "        text-align: right;\n",
       "    }\n",
       "</style>\n",
       "<table border=\"1\" class=\"dataframe\">\n",
       "  <thead>\n",
       "    <tr style=\"text-align: right;\">\n",
       "      <th></th>\n",
       "      <th>key</th>\n",
       "      <th>value_x</th>\n",
       "      <th>value_y</th>\n",
       "    </tr>\n",
       "  </thead>\n",
       "  <tbody>\n",
       "    <tr>\n",
       "      <th>0</th>\n",
       "      <td>B</td>\n",
       "      <td>0.345554</td>\n",
       "      <td>0.550449</td>\n",
       "    </tr>\n",
       "    <tr>\n",
       "      <th>1</th>\n",
       "      <td>D</td>\n",
       "      <td>-0.499216</td>\n",
       "      <td>0.325947</td>\n",
       "    </tr>\n",
       "  </tbody>\n",
       "</table>\n",
       "</div>"
      ],
      "text/plain": [
       "  key   value_x   value_y\n",
       "0   B  0.345554  0.550449\n",
       "1   D -0.499216  0.325947"
      ]
     },
     "execution_count": 82,
     "metadata": {},
     "output_type": "execute_result"
    }
   ],
   "source": [
    "left.merge(right, on='key')"
   ]
  },
  {
   "cell_type": "code",
   "execution_count": 83,
   "metadata": {
    "scrolled": false,
    "slideshow": {
     "slide_type": "fragment"
    }
   },
   "outputs": [
    {
     "data": {
      "text/html": [
       "<div>\n",
       "<style scoped>\n",
       "    .dataframe tbody tr th:only-of-type {\n",
       "        vertical-align: middle;\n",
       "    }\n",
       "\n",
       "    .dataframe tbody tr th {\n",
       "        vertical-align: top;\n",
       "    }\n",
       "\n",
       "    .dataframe thead th {\n",
       "        text-align: right;\n",
       "    }\n",
       "</style>\n",
       "<table border=\"1\" class=\"dataframe\">\n",
       "  <thead>\n",
       "    <tr style=\"text-align: right;\">\n",
       "      <th></th>\n",
       "      <th>key</th>\n",
       "      <th>value_x</th>\n",
       "      <th>value_y</th>\n",
       "    </tr>\n",
       "  </thead>\n",
       "  <tbody>\n",
       "    <tr>\n",
       "      <th>0</th>\n",
       "      <td>B</td>\n",
       "      <td>0.345554</td>\n",
       "      <td>0.550449</td>\n",
       "    </tr>\n",
       "    <tr>\n",
       "      <th>1</th>\n",
       "      <td>D</td>\n",
       "      <td>-0.499216</td>\n",
       "      <td>0.325947</td>\n",
       "    </tr>\n",
       "  </tbody>\n",
       "</table>\n",
       "</div>"
      ],
      "text/plain": [
       "  key   value_x   value_y\n",
       "0   B  0.345554  0.550449\n",
       "1   D -0.499216  0.325947"
      ]
     },
     "execution_count": 83,
     "metadata": {},
     "output_type": "execute_result"
    }
   ],
   "source": [
    "# inner merge by default\n",
    "pd.merge(left, right, on='key')"
   ]
  },
  {
   "cell_type": "code",
   "execution_count": 84,
   "metadata": {
    "slideshow": {
     "slide_type": "fragment"
    }
   },
   "outputs": [
    {
     "data": {
      "text/html": [
       "<div>\n",
       "<style scoped>\n",
       "    .dataframe tbody tr th:only-of-type {\n",
       "        vertical-align: middle;\n",
       "    }\n",
       "\n",
       "    .dataframe tbody tr th {\n",
       "        vertical-align: top;\n",
       "    }\n",
       "\n",
       "    .dataframe thead th {\n",
       "        text-align: right;\n",
       "    }\n",
       "</style>\n",
       "<table border=\"1\" class=\"dataframe\">\n",
       "  <thead>\n",
       "    <tr style=\"text-align: right;\">\n",
       "      <th></th>\n",
       "      <th>key</th>\n",
       "      <th>value_x</th>\n",
       "      <th>value_y</th>\n",
       "    </tr>\n",
       "  </thead>\n",
       "  <tbody>\n",
       "    <tr>\n",
       "      <th>0</th>\n",
       "      <td>B</td>\n",
       "      <td>0.345554</td>\n",
       "      <td>0.550449</td>\n",
       "    </tr>\n",
       "    <tr>\n",
       "      <th>1</th>\n",
       "      <td>D</td>\n",
       "      <td>-0.499216</td>\n",
       "      <td>0.325947</td>\n",
       "    </tr>\n",
       "  </tbody>\n",
       "</table>\n",
       "</div>"
      ],
      "text/plain": [
       "  key   value_x   value_y\n",
       "0   B  0.345554  0.550449\n",
       "1   D -0.499216  0.325947"
      ]
     },
     "execution_count": 84,
     "metadata": {},
     "output_type": "execute_result"
    }
   ],
   "source": [
    "# same as above\n",
    "pd.merge(left, right, on='key', how='inner')"
   ]
  },
  {
   "cell_type": "code",
   "execution_count": 85,
   "metadata": {
    "scrolled": true,
    "slideshow": {
     "slide_type": "fragment"
    }
   },
   "outputs": [
    {
     "data": {
      "text/html": [
       "<div>\n",
       "<style scoped>\n",
       "    .dataframe tbody tr th:only-of-type {\n",
       "        vertical-align: middle;\n",
       "    }\n",
       "\n",
       "    .dataframe tbody tr th {\n",
       "        vertical-align: top;\n",
       "    }\n",
       "\n",
       "    .dataframe thead th {\n",
       "        text-align: right;\n",
       "    }\n",
       "</style>\n",
       "<table border=\"1\" class=\"dataframe\">\n",
       "  <thead>\n",
       "    <tr style=\"text-align: right;\">\n",
       "      <th></th>\n",
       "      <th>key</th>\n",
       "      <th>value_x</th>\n",
       "      <th>value_y</th>\n",
       "    </tr>\n",
       "  </thead>\n",
       "  <tbody>\n",
       "    <tr>\n",
       "      <th>0</th>\n",
       "      <td>B</td>\n",
       "      <td>0.345554</td>\n",
       "      <td>0.550449</td>\n",
       "    </tr>\n",
       "    <tr>\n",
       "      <th>1</th>\n",
       "      <td>D</td>\n",
       "      <td>-0.499216</td>\n",
       "      <td>0.325947</td>\n",
       "    </tr>\n",
       "    <tr>\n",
       "      <th>2</th>\n",
       "      <td>E</td>\n",
       "      <td>NaN</td>\n",
       "      <td>-0.796179</td>\n",
       "    </tr>\n",
       "    <tr>\n",
       "      <th>3</th>\n",
       "      <td>F</td>\n",
       "      <td>NaN</td>\n",
       "      <td>-0.884040</td>\n",
       "    </tr>\n",
       "  </tbody>\n",
       "</table>\n",
       "</div>"
      ],
      "text/plain": [
       "  key   value_x   value_y\n",
       "0   B  0.345554  0.550449\n",
       "1   D -0.499216  0.325947\n",
       "2   E       NaN -0.796179\n",
       "3   F       NaN -0.884040"
      ]
     },
     "execution_count": 85,
     "metadata": {},
     "output_type": "execute_result"
    }
   ],
   "source": [
    "# right merge\n",
    "pd.merge(left, right, on='key', how='right')"
   ]
  },
  {
   "cell_type": "code",
   "execution_count": 86,
   "metadata": {
    "scrolled": true,
    "slideshow": {
     "slide_type": "fragment"
    }
   },
   "outputs": [
    {
     "data": {
      "text/html": [
       "<div>\n",
       "<style scoped>\n",
       "    .dataframe tbody tr th:only-of-type {\n",
       "        vertical-align: middle;\n",
       "    }\n",
       "\n",
       "    .dataframe tbody tr th {\n",
       "        vertical-align: top;\n",
       "    }\n",
       "\n",
       "    .dataframe thead th {\n",
       "        text-align: right;\n",
       "    }\n",
       "</style>\n",
       "<table border=\"1\" class=\"dataframe\">\n",
       "  <thead>\n",
       "    <tr style=\"text-align: right;\">\n",
       "      <th></th>\n",
       "      <th>key</th>\n",
       "      <th>value_x</th>\n",
       "      <th>value_y</th>\n",
       "    </tr>\n",
       "  </thead>\n",
       "  <tbody>\n",
       "    <tr>\n",
       "      <th>0</th>\n",
       "      <td>A</td>\n",
       "      <td>0.536233</td>\n",
       "      <td>NaN</td>\n",
       "    </tr>\n",
       "    <tr>\n",
       "      <th>1</th>\n",
       "      <td>B</td>\n",
       "      <td>0.345554</td>\n",
       "      <td>0.550449</td>\n",
       "    </tr>\n",
       "    <tr>\n",
       "      <th>2</th>\n",
       "      <td>C</td>\n",
       "      <td>0.125059</td>\n",
       "      <td>NaN</td>\n",
       "    </tr>\n",
       "    <tr>\n",
       "      <th>3</th>\n",
       "      <td>D</td>\n",
       "      <td>-0.499216</td>\n",
       "      <td>0.325947</td>\n",
       "    </tr>\n",
       "  </tbody>\n",
       "</table>\n",
       "</div>"
      ],
      "text/plain": [
       "  key   value_x   value_y\n",
       "0   A  0.536233       NaN\n",
       "1   B  0.345554  0.550449\n",
       "2   C  0.125059       NaN\n",
       "3   D -0.499216  0.325947"
      ]
     },
     "execution_count": 86,
     "metadata": {},
     "output_type": "execute_result"
    }
   ],
   "source": [
    "# left merge\n",
    "pd.merge(left, right, on='key', how='left')"
   ]
  },
  {
   "cell_type": "code",
   "execution_count": 87,
   "metadata": {
    "slideshow": {
     "slide_type": "fragment"
    }
   },
   "outputs": [
    {
     "data": {
      "text/html": [
       "<div>\n",
       "<style scoped>\n",
       "    .dataframe tbody tr th:only-of-type {\n",
       "        vertical-align: middle;\n",
       "    }\n",
       "\n",
       "    .dataframe tbody tr th {\n",
       "        vertical-align: top;\n",
       "    }\n",
       "\n",
       "    .dataframe thead th {\n",
       "        text-align: right;\n",
       "    }\n",
       "</style>\n",
       "<table border=\"1\" class=\"dataframe\">\n",
       "  <thead>\n",
       "    <tr style=\"text-align: right;\">\n",
       "      <th></th>\n",
       "      <th>key</th>\n",
       "      <th>value_x</th>\n",
       "      <th>value_y</th>\n",
       "    </tr>\n",
       "  </thead>\n",
       "  <tbody>\n",
       "    <tr>\n",
       "      <th>0</th>\n",
       "      <td>A</td>\n",
       "      <td>0.536233</td>\n",
       "      <td>NaN</td>\n",
       "    </tr>\n",
       "    <tr>\n",
       "      <th>1</th>\n",
       "      <td>B</td>\n",
       "      <td>0.345554</td>\n",
       "      <td>0.550449</td>\n",
       "    </tr>\n",
       "    <tr>\n",
       "      <th>2</th>\n",
       "      <td>C</td>\n",
       "      <td>0.125059</td>\n",
       "      <td>NaN</td>\n",
       "    </tr>\n",
       "    <tr>\n",
       "      <th>3</th>\n",
       "      <td>D</td>\n",
       "      <td>-0.499216</td>\n",
       "      <td>0.325947</td>\n",
       "    </tr>\n",
       "    <tr>\n",
       "      <th>4</th>\n",
       "      <td>E</td>\n",
       "      <td>NaN</td>\n",
       "      <td>-0.796179</td>\n",
       "    </tr>\n",
       "    <tr>\n",
       "      <th>5</th>\n",
       "      <td>F</td>\n",
       "      <td>NaN</td>\n",
       "      <td>-0.884040</td>\n",
       "    </tr>\n",
       "  </tbody>\n",
       "</table>\n",
       "</div>"
      ],
      "text/plain": [
       "  key   value_x   value_y\n",
       "0   A  0.536233       NaN\n",
       "1   B  0.345554  0.550449\n",
       "2   C  0.125059       NaN\n",
       "3   D -0.499216  0.325947\n",
       "4   E       NaN -0.796179\n",
       "5   F       NaN -0.884040"
      ]
     },
     "execution_count": 87,
     "metadata": {},
     "output_type": "execute_result"
    }
   ],
   "source": [
    "# outer join\n",
    "pd.merge(left, right, on='key', how='outer')"
   ]
  },
  {
   "cell_type": "markdown",
   "metadata": {
    "slideshow": {
     "slide_type": "slide"
    }
   },
   "source": [
    "#### clicker Question #3\n",
    "\n",
    "If table A had 5 rows and table B had 5 rows and 3 of those rows in each table were from the same observations present in the *other* table, how many rows would be present if an **inner merge** were carried out?\n",
    "\n",
    "- A) 3\n",
    "- B) 5\n",
    "- C) 10\n",
    "- D) 13\n",
    "- E) Totally unsure"
   ]
  },
  {
   "cell_type": "markdown",
   "metadata": {
    "slideshow": {
     "slide_type": "slide"
    }
   },
   "source": [
    "#### clicker Question #4\n",
    "\n",
    "If table A had 5 rows and table B had 5 rows and 3 of those rows in each table were from the same observations present in the *other* table, how many rows would be present if a **left merge** were carried out?\n",
    "\n",
    "- A) 3\n",
    "- B) 5\n",
    "- C) 10\n",
    "- D) 13\n",
    "- E) Totally unsure"
   ]
  },
  {
   "cell_type": "markdown",
   "metadata": {
    "slideshow": {
     "slide_type": "slide"
    }
   },
   "source": [
    "## Visualizing Data\n",
    "\n",
    "- We'll have a whole lecture (or two) on visualization\n",
    "- For now, we'll just look at one uniquely-pandas approach"
   ]
  },
  {
   "cell_type": "code",
   "execution_count": 88,
   "metadata": {
    "slideshow": {
     "slide_type": "fragment"
    }
   },
   "outputs": [
    {
     "data": {
      "image/png": "[encoded data removed]",
      "text/plain": [
       "<Figure size 864x864 with 9 Axes>"
      ]
     },
     "metadata": {
      "needs_background": "light"
     },
     "output_type": "display_data"
    }
   ],
   "source": [
    "# Plot all numerical columns, and their interactions\n",
    "pd.plotting.scatter_matrix(df[['age', 'score', 'value']], figsize=[12, 12], marker=12);  "
   ]
  },
  {
   "cell_type": "markdown",
   "metadata": {
    "slideshow": {
     "slide_type": "slide"
    }
   },
   "source": [
    "## Application Program Interface (APIs)\n",
    "\n",
    "- APIs are basically a way for software to talk to software \n",
    "    - They are an interface into an application / website / database designed for computers / software."
   ]
  },
  {
   "cell_type": "markdown",
   "metadata": {
    "slideshow": {
     "slide_type": "fragment"
    }
   },
   "source": [
    "Notes on APIs:\n",
    "- Follow API guidelines! \n",
    "- These guidelines typically specify the number / rate / size of requests"
   ]
  },
  {
   "cell_type": "markdown",
   "metadata": {
    "slideshow": {
     "slide_type": "slide"
    }
   },
   "source": [
    "## Github API\n",
    "\n",
    "You can access the github api with the following API. Just added specifiers for what you are looking for. \n",
    "\n",
    "https://api.github.com/\n",
    "\n",
    "For example, the following URL will search for the user 'ShanEllis'\n",
    "\n",
    "https://api.github.com/users/shanellis\n",
    "\n",
    "<center>\n",
    "<img src=\"img/github.png\" alt=\"sql\" height=\"100\" width=\"100\">\n",
    "</center>"
   ]
  },
  {
   "cell_type": "markdown",
   "metadata": {
    "slideshow": {
     "slide_type": "slide"
    }
   },
   "source": [
    "## Requesting Web Pages from Python"
   ]
  },
  {
   "cell_type": "code",
   "execution_count": 90,
   "metadata": {
    "slideshow": {
     "slide_type": "fragment"
    }
   },
   "outputs": [],
   "source": [
    "# The requests module allows you to send URL requests from python\n",
    "import requests  \n",
    "from bs4 import BeautifulSoup"
   ]
  },
  {
   "cell_type": "code",
   "execution_count": 91,
   "metadata": {
    "slideshow": {
     "slide_type": "fragment"
    }
   },
   "outputs": [],
   "source": [
    "# Request data from the Github API on a particular user\n",
    "page = requests.get('https://api.github.com/users/jasongfleischer')  "
   ]
  },
  {
   "cell_type": "code",
   "execution_count": 92,
   "metadata": {
    "scrolled": false,
    "slideshow": {
     "slide_type": "fragment"
    }
   },
   "outputs": [
    {
     "data": {
      "text/plain": [
       "b'{\"login\":\"jasongfleischer\",\"id\":26612594,\"node_id\":\"MDQ6VXNlcjI2NjEyNTk0\",\"avatar_url\":\"https://avatars.githubusercontent.com/u/26612594?v=4\",\"gravatar_id\":\"\",\"url\":\"https://api.github.com/users/jasongfleischer\",\"html_url\":\"https://github.com/jasongfleischer\",\"followers_url\":\"https://api.github.com/users/jasongfleischer/followers\",\"following_url\":\"https://api.github.com/users/jasongfleischer/following{/other_user}\",\"gists_url\":\"https://api.github.com/users/jasongfleischer/gists{/gist_id}\",\"starred_url\":\"https://api.github.com/users/jasongfleischer/starred{/owner}{/repo}\",\"subscriptions_url\":\"https://api.github.com/users/jasongfleischer/subscriptions\",\"organizations_url\":\"https://api.github.com/users/jasongfleischer/orgs\",\"repos_url\":\"https://api.github.com/users/jasongfleischer/repos\",\"events_url\":\"https://api.github.com/users/jasongfleischer/events{/privacy}\",\"received_events_url\":\"https://api.github.com/users/jasongfleischer/received_events\",\"type\":\"User\",\"site_admin\":false,\"name\":\"Jason Fleischer\",\"company\":\"UC San Diego, Cognitive Science dept\",\"blog\":\"https://jgfleischer.com\",\"location\":\"San Diego, CA\",\"email\":null,\"hireable\":null,\"bio\":\"Some kind of professor @ UCSD. Machine learning. Bioinformatics. Computational neuroscience.  Robotics.  More buzzwords soon? \",\"twitter_username\":\"jasongfleischer\",\"public_repos\":21,\"public_gists\":1,\"followers\":21,\"following\":5,\"created_at\":\"2017-03-23T00:07:24Z\",\"updated_at\":\"2021-09-28T15:27:00Z\"}'"
      ]
     },
     "execution_count": 92,
     "metadata": {},
     "output_type": "execute_result"
    }
   ],
   "source": [
    "# The content we get back is a messily organized json file\n",
    "page.content"
   ]
  },
  {
   "cell_type": "markdown",
   "metadata": {
    "slideshow": {
     "slide_type": "fragment"
    }
   },
   "source": [
    "#### clicker Question #5\n",
    "\n",
    "What type/format of output is this?\n",
    "\n",
    "- A) CSV\n",
    "- B) XML\n",
    "- C) JSON\n",
    "- D) API\n",
    "- E) I'm super lost"
   ]
  },
  {
   "cell_type": "code",
   "execution_count": 93,
   "metadata": {
    "slideshow": {
     "slide_type": "slide"
    }
   },
   "outputs": [],
   "source": [
    "# We can read in the json data with pandas\n",
    "git_data = pd.read_json(page.content, typ='series')"
   ]
  },
  {
   "cell_type": "code",
   "execution_count": 94,
   "metadata": {
    "slideshow": {
     "slide_type": "fragment"
    }
   },
   "outputs": [
    {
     "data": {
      "text/plain": [
       "login                                                    jasongfleischer\n",
       "id                                                              26612594\n",
       "node_id                                             MDQ6VXNlcjI2NjEyNTk0\n",
       "avatar_url             https://avatars.githubusercontent.com/u/266125...\n",
       "gravatar_id                                                             \n",
       "url                         https://api.github.com/users/jasongfleischer\n",
       "html_url                              https://github.com/jasongfleischer\n",
       "followers_url          https://api.github.com/users/jasongfleischer/f...\n",
       "following_url          https://api.github.com/users/jasongfleischer/f...\n",
       "gists_url              https://api.github.com/users/jasongfleischer/g...\n",
       "starred_url            https://api.github.com/users/jasongfleischer/s...\n",
       "subscriptions_url      https://api.github.com/users/jasongfleischer/s...\n",
       "organizations_url      https://api.github.com/users/jasongfleischer/orgs\n",
       "repos_url              https://api.github.com/users/jasongfleischer/r...\n",
       "events_url             https://api.github.com/users/jasongfleischer/e...\n",
       "received_events_url    https://api.github.com/users/jasongfleischer/r...\n",
       "type                                                                User\n",
       "site_admin                                                         False\n",
       "name                                                     Jason Fleischer\n",
       "company                             UC San Diego, Cognitive Science dept\n",
       "blog                                             https://jgfleischer.com\n",
       "location                                                   San Diego, CA\n",
       "email                                                               None\n",
       "hireable                                                            None\n",
       "bio                    Some kind of professor @ UCSD. Machine learnin...\n",
       "twitter_username                                         jasongfleischer\n",
       "public_repos                                                          21\n",
       "public_gists                                                           1\n",
       "followers                                                             21\n",
       "following                                                              5\n",
       "created_at                                          2017-03-23T00:07:24Z\n",
       "updated_at                                          2021-09-28T15:27:00Z\n",
       "dtype: object"
      ]
     },
     "execution_count": 94,
     "metadata": {},
     "output_type": "execute_result"
    }
   ],
   "source": [
    "# Check out the pandas series object full of data\n",
    "git_data  "
   ]
  },
  {
   "cell_type": "markdown",
   "metadata": {
    "slideshow": {
     "slide_type": "slide"
    }
   },
   "source": [
    "### Authorized Access - OAuth\n",
    "\n",
    "Open Authorization is a protocol to authorize access (of a user / application) to an API."
   ]
  },
  {
   "cell_type": "markdown",
   "metadata": {
    "slideshow": {
     "slide_type": "fragment"
    }
   },
   "source": [
    "OAuth provides a secure way to 'log-in' without using account names and passwords. \n",
    "\n",
    "It is effectively a set of keys, and passwords you can use to access APIs. "
   ]
  },
  {
   "cell_type": "markdown",
   "metadata": {
    "slideshow": {
     "slide_type": "slide"
    }
   },
   "source": [
    "## Web Scraping vs. APIs\n",
    "\n",
    "Web scraping and APIs are different approaches:"
   ]
  },
  {
   "cell_type": "markdown",
   "metadata": {
    "slideshow": {
     "slide_type": "fragment"
    }
   },
   "source": [
    "- APIs are an interface to interact with an application, designed for programmatic use\n",
    "    - They allow systematic, controlled access to (for example) and applications database\n",
    "    - They typically return structured (friendly) data "
   ]
  },
  {
   "cell_type": "markdown",
   "metadata": {
    "slideshow": {
     "slide_type": "fragment"
    }
   },
   "source": [
    "- Web scraping (typically) involves navigating through the internet, programmatically following an architecture built for humans\n",
    "    - This can be hard to systematize, being dependent on the idiosyncracies of a web page, at the time you request it\n",
    "    - This typically returns relatively unstructured data\n",
    "    - This entails much more wrangling of the data"
   ]
  },
  {
   "cell_type": "markdown",
   "metadata": {
    "slideshow": {
     "slide_type": "slide"
    }
   },
   "source": [
    "## Where to Find Data?\n",
    "\n",
    "* [Awesome Public Datasets](https://github.com/awesomedata/awesome-public-datasets/blob/master/README.rst)\n",
    "* [Data.gov](https://catalog.data.gov/dataset)\n",
    "* [Data Is Plural](https://docs.google.com/spreadsheets/d/1wZhPLMCHKJvwOkP4juclhjFgqIY8fQFMemwKL2c64vk/edit#gid=0)\n",
    "* [UCSD Datasets](https://ucsd.libguides.com/data-statistics/home)\n",
    "* [Datasets | Deep Learning](http://deeplearning.net/datasets/)\n",
    "* [Stanford | Social Science Data Collection](https://data.stanford.edu/)\n",
    "* [Eviction Lab (email required)](https://evictionlab.org/get-the-data/)\n",
    "* [San Diego Data](https://data.sandiego.gov/)\n",
    "* [US Census](https://www.census.gov/)\n",
    "* [Open Climate Data](http://openclimatedata.net/)\n",
    "* [Data and Story Library](https://dasl.datadescription.com/datafiles/)\n",
    "* [UCSD behavioral mobile data](http://extrasensory.ucsd.edu/)\n",
    "* [Kaggle](https://www.kaggle.com/)\n",
    "* [FiveThirtyEight](https://data.fivethirtyeight.com/)\n",
    "* [data.world](https://data.world/)\n",
    "* [Free Datasets - R and Data Mining ](http://www.rdatamining.com/resources/data)\n",
    "* [Data Sources for Cool Data Science Projects](https://blog.thedataincubator.com/2014/10/data-sources-for-cool-data-science-projects-part-1/)"
   ]
  },
  {
   "cell_type": "markdown",
   "metadata": {
    "slideshow": {
     "slide_type": "slide"
    }
   },
   "source": [
    "## Notes on Working with Data"
   ]
  },
  {
   "cell_type": "markdown",
   "metadata": {
    "slideshow": {
     "slide_type": "-"
    }
   },
   "source": [
    "### Data Science is Ad-Hoc\n",
    "\n",
    "- It is part of the job description to put things together that were not designed to go together.\n",
    "- We do not have universal solutions, but haphazard, idiosyncratic systems, for data collection, storage and analysis.\n",
    "- Data is everywhere. But relatively little of it was collected *as data*."
   ]
  },
  {
   "cell_type": "markdown",
   "metadata": {
    "slideshow": {
     "slide_type": "fragment"
    }
   },
   "source": [
    "### Data Collection, Curation, and Storage are Difficult\n",
    "\n",
    "- It can be difficult to choose broadly useful standards\n",
    "- Take time to think about your data, and how you will load, store, organize and save it"
   ]
  },
  {
   "cell_type": "markdown",
   "metadata": {
    "slideshow": {
     "slide_type": "fragment"
    }
   },
   "source": [
    "### Data is Inherently Noisy\n",
    "\n",
    "- We live in a messy, noisy, world, with messy, noisy, people, using messy, noisy instruments.\n",
    "- There is no perfect data. \n",
    "    - There is better / or worse data, given the context."
   ]
  },
  {
   "cell_type": "markdown",
   "metadata": {
    "slideshow": {
     "slide_type": "fragment"
    }
   },
   "source": [
    "### Different Objectives\n",
    "\n",
    "- Humans and computers are different.\n",
    "- We interact with '*data*' in different ways.\n",
    "- This underlies many aspects of data wrangling\n",
    "    - The 'friendliness' of data types / files\n",
    "    - The difference between web scraping and APIs\n",
    "    - A disconnect between data in the real world, and data we want to use"
   ]
  },
  {
   "cell_type": "markdown",
   "metadata": {
    "slideshow": {
     "slide_type": "fragment"
    }
   },
   "source": [
    "## So... What to do?\n",
    "\n",
    "- Think about how your data are stored & its structure?\n",
    "- Look at your data before you anayze it\n",
    "    - are there missing values? \n",
    "    - outlier values? \n",
    "- Are your data trustworthy? \n",
    "    - source?\n",
    "    - how was it generated?"
   ]
  },
  {
   "cell_type": "markdown",
   "metadata": {
    "slideshow": {
     "slide_type": "slide"
    }
   },
   "source": [
    "## Specific Recommendations\n",
    "\n",
    "- Prioritize using well structured, common, open file types\n",
    "    - Take advantage of existing tools to deal with these files (numpy, pandas, etc.)"
   ]
  },
  {
   "cell_type": "markdown",
   "metadata": {
    "slideshow": {
     "slide_type": "fragment"
    }
   },
   "source": [
    "- Look into, and then follow, common conventions\n",
    "    - Minimize custom objects, workflows and data files \n",
    "- Look for APIs. Ask if they are available.\n",
    "    - Acknowledge that web scraping and/or wrangling unstructured data are complex / long tasks"
   ]
  },
  {
   "cell_type": "markdown",
   "metadata": {
    "slideshow": {
     "slide_type": "fragment"
    }
   },
   "source": [
    "- Think about data flow from the beginning. Organize your data pipeline, consider the 'wrangling' aspects throughout\n",
    "    - Set yourself up with well organized, labelled approach to your data\n",
    "    - Think about when and how you might want/need to save out intermediate results."
   ]
  },
  {
   "cell_type": "code",
   "execution_count": null,
   "metadata": {},
   "outputs": [],
   "source": []
  }
 ],
 "metadata": {
  "celltoolbar": "Slideshow",
  "kernelspec": {
   "display_name": "Python 3",
   "language": "python",
   "name": "python3"
  },
  "language_info": {
   "codemirror_mode": {
    "name": "ipython",
    "version": 3
   },
   "file_extension": ".py",
   "mimetype": "text/x-python",
   "name": "python",
   "nbconvert_exporter": "python",
   "pygments_lexer": "ipython3",
   "version": "3.7.6"
  },
  "rise": {
   "scroll": true
  }
 },
 "nbformat": 4,
 "nbformat_minor": 2
}
